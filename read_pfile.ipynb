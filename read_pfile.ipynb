{
 "cells": [
  {
   "cell_type": "code",
   "execution_count": null,
   "metadata": {},
   "outputs": [],
   "source": [
    "def unpackPfile(infile):\n",
    "    \n",
    "    with open(infile) as f:\n",
    "        lines = f.readlines()\n",
    "    \n",
    "    tmp = lines[0]\n",
    "    year = int(tmp[1:5])\n",
    "    month = int(tmp[5:7])\n",
    "    day = int(tmp[7:9])\n",
    "    hour = int(tmp[9:11])\n",
    "    minute = int(tmp[11:13])\n",
    "    sec = float(tmp[13:19])\n",
    "\n",
    "    dt = datetime(year,month,day,hour,minute,int(sec//1),int(sec%1 * 1000000))\n",
    "    mag = float(tmp[40:44])\n",
    "\n",
    "    pfile_info = {}\n",
    "    pfile_info[\"ori_time\"] = dt\n",
    "    pfile_info[\"mag\"] = mag\n",
    "\n",
    "    intensity = {}\n",
    "    arrival_time = {}\n",
    "    weighting = {}\n",
    "    pga = {}\n",
    "    for i in lines[1:]:\n",
    "        sta = i[:5].strip() # strip 去掉左右空格\n",
    "        weighting[sta] = int(float(i[35:39]))\n",
    "        \n",
    "        if i[76:77] == \" \":\n",
    "            intensity[sta] = -1\n",
    "        else:\n",
    "            intensity[sta] = int(i[76:77])        \n",
    "\n",
    "        pga[sta] = float(i[78:83])\n",
    "        arrival_time[sta] = pfile_info[\"ori_time\"].replace(minute=int(i[21:23]),second=0,microsecond=0) + timedelta(seconds=float(i[23:29]))\n",
    "    pfile_info[\"intensity\"] = intensity\n",
    "    pfile_info[\"arrival_time\"] = arrival_time\n",
    "    pfile_info[\"weighting\"] = weighting\n",
    "    pfile_info[\"pga\"] = pga\n",
    "    \n",
    "    return pfile_info"
   ]
  }
 ],
 "metadata": {
  "kernelspec": {
   "display_name": "Python (obspy)",
   "language": "python",
   "name": "obspy"
  },
  "language_info": {
   "codemirror_mode": {
    "name": "ipython",
    "version": 3
   },
   "file_extension": ".py",
   "mimetype": "text/x-python",
   "name": "python",
   "nbconvert_exporter": "python",
   "pygments_lexer": "ipython3",
   "version": "3.7.6"
  }
 },
 "nbformat": 4,
 "nbformat_minor": 4
}
