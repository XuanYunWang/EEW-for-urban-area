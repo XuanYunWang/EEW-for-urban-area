{
 "cells": [
  {
   "cell_type": "code",
   "execution_count": 74,
   "metadata": {},
   "outputs": [],
   "source": [
    "import pandas as pd \n",
    "import matplotlib.pyplot as plt\n",
    "\n",
    "fp = open(\"EEW_2018_cwb24_mpd.txt\")\n",
    "data=fp.readlines()\n",
    "fp.close()\n",
    "\n"
   ]
  },
  {
   "cell_type": "code",
   "execution_count": 75,
   "metadata": {},
   "outputs": [],
   "source": [
    "n_data=[]\n",
    "flag=0\n",
    "index = 0\n",
    "for i in data:\n",
    "    if \"ttt\" in i:\n",
    "        flag = 1       \n",
    "        index = index + 1\n",
    "        event_num = i.split()[-1].split(\"_\")[0]\n",
    "    if \"230\" in i and flag==1:\n",
    "        if \"3 Mpd\" in i:\n",
    "            flag=0\n",
    "\n",
    "            i.split()\n",
    "            mag = i.split()[5]\n",
    "            lat = i.split()[6]\n",
    "            lon = i.split()[7]\n",
    "            dep = i.split()[8]\n",
    "            nsta = i.split()[9]\n",
    "            gap = i.split()[-4]\n",
    "    \n",
    "            aa = f\"{index} 3 {mag} {lon} {lat} {dep} {nsta} {gap} 230 {event_num}\"\n",
    "            n_data.append(aa)"
   ]
  },
  {
   "cell_type": "code",
   "execution_count": 76,
   "metadata": {},
   "outputs": [],
   "source": [
    "n_data_list=[i.split() for i in n_data]"
   ]
  },
  {
   "cell_type": "code",
   "execution_count": 77,
   "metadata": {},
   "outputs": [],
   "source": [
    "cn=[\"index\",\"nth\",\"mag\",\"lon\",\"lat\",\"dep\",\"nsta\",\"gap\",\"mark\",\"no\"]\n",
    "off_data = pd.DataFrame(n_data_list,columns=cn,dtype=\"float\")"
   ]
  },
  {
   "cell_type": "code",
   "execution_count": 78,
   "metadata": {},
   "outputs": [],
   "source": [
    "aaa=off_data.loc[:119,\"lon\":\"lat\"]\n",
    "a1=aaa.values.tolist()"
   ]
  },
  {
   "cell_type": "code",
   "execution_count": 83,
   "metadata": {},
   "outputs": [],
   "source": [
    "fp = open('0317-U10710019.txt','w');\n",
    "for i in a1:\n",
    "    k=str(i[0])+\" \"+str(i[1])+\"\\n\"\n",
    "    fp.write(k)\n",
    "\n",
    "fp.close()"
   ]
  },
  {
   "cell_type": "code",
   "execution_count": null,
   "metadata": {},
   "outputs": [],
   "source": []
  }
 ],
 "metadata": {
  "kernelspec": {
   "display_name": "Python 3",
   "language": "python",
   "name": "python3"
  },
  "language_info": {
   "codemirror_mode": {
    "name": "ipython",
    "version": 3
   },
   "file_extension": ".py",
   "mimetype": "text/x-python",
   "name": "python",
   "nbconvert_exporter": "python",
   "pygments_lexer": "ipython3",
   "version": "3.7.3"
  }
 },
 "nbformat": 4,
 "nbformat_minor": 2
}
