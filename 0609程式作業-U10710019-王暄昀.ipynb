{
 "cells": [
  {
   "cell_type": "code",
   "execution_count": 1,
   "metadata": {},
   "outputs": [],
   "source": [
    "# coding: utf-8\n",
    "import re\n",
    "import math\n",
    "import csv\n",
    "import sys\n",
    "import os\n",
    "import struct\n",
    "import numpy as np\n",
    "import matplotlib.pyplot as plt\n",
    "from datetime import datetime, timedelta\n",
    "from obspy import UTCDateTime, Stream, Trace\n",
    "\n",
    "%matplotlib inline"
   ]
  },
  {
   "cell_type": "code",
   "execution_count": 2,
   "metadata": {},
   "outputs": [],
   "source": [
    "with open(r\"D:\\python\\0609\\PhaseNet-master\\output\\picks.csv\") as fp:\n",
    "    header = fp.readline()\n",
    "    data = fp.readlines()"
   ]
  },
  {
   "cell_type": "code",
   "execution_count": 3,
   "metadata": {},
   "outputs": [
    {
     "data": {
      "text/plain": [
       "'BAC-0.npz,[],[],[],[]\\n'"
      ]
     },
     "execution_count": 3,
     "metadata": {},
     "output_type": "execute_result"
    }
   ],
   "source": [
    "data[0]"
   ]
  },
  {
   "cell_type": "code",
   "execution_count": 4,
   "metadata": {
    "scrolled": false
   },
   "outputs": [],
   "source": [
    "#-------------------------------- Final \n",
    "ddata = data[0]\n",
    "ddata = ddata.strip()\n",
    "#--------------------------------------------------------------\n",
    "# 取得測站名稱及資料起始時間\n",
    "tmp1 = ddata.split(\",\")[0]\n",
    "sta = tmp1.split(\"-\")[0]\n",
    "yr = 2018\n",
    "mo = 2\n",
    "dy = 8\n",
    "hr = 0\n",
    "mn = 54\n",
    "se = 0\n",
    "segment = tmp1.split(\"-\")[1]\n",
    "\n",
    "pfname = f\"{mo:02d}{dy:02d}{hr:02d}{mn:02d}.phn\"\n",
    "\n",
    "with open(pfname,\"w\") as fp:   \n",
    "#--------------------------------------------------------------\n",
    "# 製作 Pfile 的 header\n",
    "    header_str = f\" {yr:4d}{mo:02d}{dy:02d}{hr:02d}{mn:02d}{se:02d}0.000000.0000000.00  0.00 0.0\"\n",
    "    fp.write(header_str+\"\\n\")\n",
    "#--------------------------------------------------------------\n",
    "    for ddata in data:\n",
    "        ddata = ddata.strip()\n",
    "        P_sec=[]\n",
    "        P_pro=[]\n",
    "        S_sec=[]\n",
    "        S_pro=[]\n",
    "#--------------------------------------------------------------\n",
    "# 取得測站名稱及資料起始時間\n",
    "        tmp1 = ddata.split(\",\")[0]\n",
    "        sta = tmp1.split(\"-\")[0]\n",
    "        yr = 2018\n",
    "        mo = 2\n",
    "        dy = 8\n",
    "        hr = 0\n",
    "        mn = 54\n",
    "        se = 0\n",
    "        segment = tmp1.split(\"-\")[1]        \n",
    "#--------------------------------------------------------------\n",
    "# 取得 P 波到時 \n",
    "        tmp1 = ddata.split(\",\")[1]\n",
    "        if tmp1!=\"[]\":\n",
    "            tmp2 = tmp1.strip(\"[]\").split()\n",
    "        \n",
    "            for i in tmp2:\n",
    "                if segment==1:\n",
    "                    P_sec.append(int( i.strip(\"[]\") ) / 100.0 + int(se)+30)\n",
    "                else:\n",
    "                    P_sec.append(int( i.strip(\"[]\") ) / 100.0 + int(se))\n",
    "        else:\n",
    "            P_sec=[0.00]\n",
    "#--------------------------------------------------------------\n",
    "# 取得 P 波到時機率\n",
    "        tmp1 = ddata.split(\",\")[2]\n",
    "        if tmp1!=\"[]\":\n",
    "            tmp2 = tmp1.strip(\"[]\").split()\n",
    "        \n",
    "            for i in tmp2:\n",
    "                P_pro.append( float( i ) )\n",
    "        else:\n",
    "            P_pro=[0.00]\n",
    "#--------------------------------------------------------------    \n",
    "# 取得 S 波到時 \n",
    "        tmp1 = ddata.split(\",\")[3]\n",
    "        if tmp1!=\"[]\":\n",
    "            tmp2 = tmp1.strip(\"[]\").split()\n",
    "        \n",
    "            for i in tmp2:\n",
    "                S_sec.append(int( i.strip(\"[]\") ) / 100.0 + int(se))\n",
    "        else:\n",
    "            S_sec=[0.00]\n",
    "#--------------------------------------------------------------\n",
    "# 取得 S 波到時機率\n",
    "        tmp1 = ddata.split(\",\")[4]\n",
    "        if tmp1!=\"[]\":\n",
    "            tmp2 = tmp1.strip(\"[]\").split()\n",
    "            for i in tmp2:\n",
    "                S_pro.append( float( i ) )\n",
    "        else:\n",
    "            S_pro=[0.00]\n",
    "#--------------------------------------------------------------\n",
    "        ss1 = f\"{sta}-{yr}-{mo}-{dy}-{hr}-{mn}-{se}-{segment}\"\n",
    "        ss2 = f\"{P_sec}-{P_pro}-{S_sec}-{S_pro}\"\n",
    "#--------------------------------------------------------------\n",
    "# 製作 Pfile 的 station picking 資料\n",
    "#    n=len(P_sec)\n",
    "#    if n>1:\n",
    "#        for i in range(n):\n",
    "#            sta_pick = f\" {sta:4s}    0.0   0   0  {mn:02d} {P_sec[i]:5.2f}  .00 0.00 {S_sec[i]:5.2f}  .00 0.00  .00  .00  .00  .00\"\n",
    "#            print(sta_pick)\n",
    "#    else:\n",
    "#        sta_pick = f\" {sta:4s}    0.0   0   0  {mn:02d} {P_sec[0]:5.2f}  .00 0.00 {S_sec[0]:5.2f}  .00 0.00  .00  .00  .00  .00\"\n",
    "#        print(sta_pick)\n",
    "        if P_sec[0]>0.0 and P_pro[0]>0.8:\n",
    "            sta_pick = f\" {sta:4s}   0.0   0   0  {mn:02d} {P_sec[0]:5.2f}  .00 0.00 {S_sec[0]:5.2f}  .00 0.00  .00  .00  .00  .00\"\n",
    "            fp.write(sta_pick+\"\\n\")\n",
    "#--------------------------------------------------------------\n",
    "\n"
   ]
  },
  {
   "cell_type": "code",
   "execution_count": 5,
   "metadata": {},
   "outputs": [
    {
     "data": {
      "text/plain": [
       "0"
      ]
     },
     "execution_count": 5,
     "metadata": {},
     "output_type": "execute_result"
    }
   ],
   "source": [
    "os.system(\"hypo3d.exe 02080054.phn\")"
   ]
  },
  {
   "cell_type": "code",
   "execution_count": 6,
   "metadata": {},
   "outputs": [],
   "source": [
    "def unpackPfile(infile):\n",
    "    \n",
    "    with open(infile) as f:\n",
    "        lines = f.readlines()\n",
    "    \n",
    "    tmp = lines[0]\n",
    "    year = int(tmp[1:5])\n",
    "    month = int(tmp[5:7])\n",
    "    day = int(tmp[7:9])\n",
    "    hour = int(tmp[9:11])\n",
    "    minute = int(tmp[11:13])\n",
    "    sec = float(tmp[13:19])\n",
    "    \n",
    "    lat_d = float(tmp[19:21])\n",
    "    lat_m = float(tmp[21:26])\n",
    "    \n",
    "    lon_d = float(tmp[26:29])\n",
    "    lon_m = float(tmp[29:34])\n",
    "    \n",
    "    dep = float(tmp[34:40])\n",
    "\n",
    "    dt = datetime(year,month,day,hour,minute,int(sec//1),int(sec%1 * 1000000))\n",
    "    mag = float(tmp[40:44])\n",
    "\n",
    "    pfile_info = {}\n",
    "    pfile_info[\"ori_time\"] = dt\n",
    "    pfile_info[\"mag\"] = mag\n",
    "    pfile_info[\"lat\"] = lat_d + lat_m/60.0\n",
    "    pfile_info[\"lon\"] = lon_d + lon_m/60.0\n",
    "    pfile_info[\"dep\"] = dep\n",
    "\n",
    "    intensity = {}\n",
    "    arrival_time = {}\n",
    "    weighting = {}\n",
    "    pga = {}\n",
    "    for i in lines[1:]:\n",
    "        sta = i[:5].strip() # strip 去掉左右空格\n",
    "        weighting[sta] = int(float(i[35:39]))\n",
    "        intensity[sta] = int(i[76:77])\n",
    "        pga[sta] = float(i[78:83])\n",
    "        arrival_time[sta] = pfile_info[\"ori_time\"].replace(minute=int(i[21:23]),second=0,microsecond=0) + timedelta(seconds=float(i[23:29]))\n",
    "    pfile_info[\"intensity\"] = intensity\n",
    "    pfile_info[\"arrival_time\"] = arrival_time\n",
    "    pfile_info[\"weighting\"] = weighting\n",
    "    pfile_info[\"pga\"] = pga\n",
    "    \n",
    "    return pfile_info"
   ]
  },
  {
   "cell_type": "code",
   "execution_count": 7,
   "metadata": {},
   "outputs": [],
   "source": [
    "data=unpackPfile(\"02080054.phn\")"
   ]
  },
  {
   "cell_type": "code",
   "execution_count": 8,
   "metadata": {},
   "outputs": [],
   "source": [
    "with open(\"E_lonlat.txt\",\"w\") as fp:\n",
    "    ff=str(data[\"lon\"])+\",\"+str(data[\"lat\"])\n",
    "    fp.write(ff)"
   ]
  },
  {
   "cell_type": "code",
   "execution_count": 9,
   "metadata": {},
   "outputs": [],
   "source": [
    "with open(\"c:\\\\datasrc\\\\hypo3d.sta\",\"r\") as fp:\n",
    "    fp.readline()\n",
    "    stalist=fp.readlines()"
   ]
  },
  {
   "cell_type": "code",
   "execution_count": 10,
   "metadata": {},
   "outputs": [],
   "source": [
    "stainfo={}\n",
    "for i in stalist:\n",
    "    i=i.strip()\n",
    "    #print(i)\n",
    "\n",
    "    lat_d = float(i[4:6])\n",
    "    lat_m = float(i[6:11])\n",
    "    lon_d = float(i[11:14])\n",
    "    lon_m = float(i[14:19])\n",
    "\n",
    "    lat = lat_d + lat_m/60.0\n",
    "    lon = lon_d + lon_m/60.0\n",
    "    sta = i.split()[-1]\n",
    "    \n",
    "    stainfo[sta]=[lon , lat]\n",
    "    "
   ]
  },
  {
   "cell_type": "code",
   "execution_count": 15,
   "metadata": {},
   "outputs": [
    {
     "data": {
      "text/plain": [
       "dict_keys(['TWD', 'ETM', 'HWA', 'ETL', 'WHF', 'ESL', 'EGC', 'TWT', 'NNS', 'ENA', 'WPL', 'ENT', 'EHY', 'TYC', 'NTY', 'WTP'])"
      ]
     },
     "execution_count": 15,
     "metadata": {},
     "output_type": "execute_result"
    }
   ],
   "source": [
    "data[\"intensity\"].keys()"
   ]
  },
  {
   "cell_type": "code",
   "execution_count": 11,
   "metadata": {},
   "outputs": [],
   "source": [
    "with open(\"station.txt\",\"w\") as fp:\n",
    "    for i in data[\"intensity\"].keys():\n",
    "        aa=i+\"\\n\"\n",
    "        fp.write(aa)"
   ]
  },
  {
   "cell_type": "code",
   "execution_count": 12,
   "metadata": {},
   "outputs": [],
   "source": [
    "with open(\"lonlat.txt\",\"w\") as fp:\n",
    "    for i in data[\"intensity\"].keys():\n",
    "        aa=str(stainfo[i]).strip(\"[]\")+\"\\n\"\n",
    "        fp.write(aa)"
   ]
  },
  {
   "cell_type": "code",
   "execution_count": 13,
   "metadata": {},
   "outputs": [],
   "source": [
    "with open(\"0609plot.bat\",\"w\") as fp:\n",
    "    GMT=f\"psbasemap -R119/123/21/26 -JM17.5 -Ba1f0.5 -P -K -V > 0609-U10710019.ps \\n\"\n",
    "    fp.write(GMT)\n",
    "    GMT=f\"grdimage low_res_topo.grd -I+a2 -Ctopo2.cpt -JM -R  -K -O -V >> 0609-U10710019.ps \\n\"\n",
    "    fp.write(GMT)        \n",
    "    GMT=f\"psxy TaiwanCounty.gmt -JM -R -W0.5  -K -O -V >> 0609-U10710019.ps \\n\"\n",
    "    fp.write(GMT)\n",
    "    GMT=f\"psxy lonlat.txt -JM -R -St0.5 -W1 -G255/255/0  -K -O -V   >> 0609-U10710019.ps \\n\"\n",
    "    fp.write(GMT)\n",
    "    GMT=f\"psxy E_lonlat.txt -JM -R -Sa0.5 -W1 -G255/0/0  -K -O -V   >> 0609-U10710019.ps \\n\"\n",
    "    fp.write(GMT)\n",
    "    GMT=f\"psconvert 0609-U10710019.ps \\n\"\n",
    "    fp.write(GMT)"
   ]
  },
  {
   "cell_type": "code",
   "execution_count": 14,
   "metadata": {},
   "outputs": [
    {
     "data": {
      "text/plain": [
       "0"
      ]
     },
     "execution_count": 14,
     "metadata": {},
     "output_type": "execute_result"
    }
   ],
   "source": [
    "os.system(\"0609plot.bat\")"
   ]
  },
  {
   "cell_type": "code",
   "execution_count": null,
   "metadata": {},
   "outputs": [],
   "source": []
  }
 ],
 "metadata": {
  "kernelspec": {
   "display_name": "Python 3",
   "language": "python",
   "name": "python3"
  },
  "language_info": {
   "codemirror_mode": {
    "name": "ipython",
    "version": 3
   },
   "file_extension": ".py",
   "mimetype": "text/x-python",
   "name": "python",
   "nbconvert_exporter": "python",
   "pygments_lexer": "ipython3",
   "version": "3.7.6"
  }
 },
 "nbformat": 4,
 "nbformat_minor": 4
}
