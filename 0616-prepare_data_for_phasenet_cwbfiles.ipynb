{
 "cells": [
  {
   "cell_type": "code",
   "execution_count": 1,
   "metadata": {},
   "outputs": [],
   "source": [
    "# coding: utf-8\n",
    "import re\n",
    "import math\n",
    "import csv\n",
    "import sys\n",
    "import os\n",
    "import struct\n",
    "import numpy as np\n",
    "import matplotlib.pyplot as plt\n",
    "from datetime import datetime, timedelta\n",
    "from obspy import UTCDateTime, Stream, Trace\n",
    "\n",
    "%matplotlib inline"
   ]
  },
  {
   "cell_type": "code",
   "execution_count": 2,
   "metadata": {},
   "outputs": [],
   "source": [
    "def unpackAfile(infile):\n",
    "\n",
    "# == opening Afile ==\n",
    "    b = os.path.getsize(infile)\n",
    "    FH = open(infile, 'rb')\n",
    "    line = FH.read(b)\n",
    "    fileHeader = struct.unpack(\"<4s3h6bh6s\", line[0:24])\n",
    "\n",
    "    fileLength = fileHeader[3]\n",
    "    port = fileHeader[10]\n",
    "    # FirstStn = fileHeader[11][0:4].decode('ASCII').rstrip()\n",
    "# =================================Header=================================\n",
    "\n",
    "    portHeader = []\n",
    "    for i in range(24, port * 32, 32):\n",
    "        port_data = struct.unpack(\"<4s4s3sbh2b4s12b\", line[i:i+32])\n",
    "        portHeader.append(port_data)\n",
    "\n",
    "# =================================Data===================================\n",
    "\n",
    "    dataStartByte = 24+int(port)*32\n",
    "    dataPoint = 3*int(port)*int(fileLength)*100\n",
    "    times = int(port)*3*4\n",
    "    data = []\n",
    "\n",
    "    data = struct.unpack(\"<%di\" % dataPoint, line[dataStartByte:dataStartByte + dataPoint*4])\n",
    "\n",
    "\n",
    "    portHeader = np.array(portHeader)\n",
    "    data = np.array(data)\n",
    "    idata = data.reshape((3,port,fileLength*100),order='F')\n",
    "\n",
    "#== write to obspy Stream --\n",
    "    sttime = UTCDateTime(fileHeader[1], fileHeader[4], fileHeader[5], fileHeader[6], fileHeader[7], fileHeader[8], fileHeader[2])\n",
    "    npts = fileHeader[3]*fileHeader[9]\n",
    "    samp = fileHeader[9]\n",
    "    afst = Stream()\n",
    "    \n",
    "    for stc in range(fileHeader[10]):\n",
    "        stn = portHeader[stc][0].decode('ASCII').rstrip()\n",
    "        instrument = portHeader[stc][1].decode('ASCII').rstrip()\n",
    "        loc = '0'+str(portHeader[stc][6].decode('ASCII'))\n",
    "        net = str(portHeader[stc][7].decode('ASCII')).rstrip()\n",
    "        GPS = int(portHeader[stc][3])\n",
    "        \n",
    "        # remove GPS unlock or broken station\n",
    "        if ( 2>1):\n",
    "            chc = 0\n",
    "            if instrument == 'FBA':\n",
    "                chc = 1\n",
    "            elif instrument == 'SP':\n",
    "                chc = 4\n",
    "            elif instrument == 'BB':\n",
    "                chc = 7\n",
    "            \n",
    "            for ch in range(3):\n",
    "                chn = 'Ch'+str(chc+ch)\n",
    "                \n",
    "                stats = {'network': net, 'station': stn, 'location': loc,\n",
    "                        'channel': chn, 'npts': npts, 'sampling_rate': samp,\n",
    "                        'starttime': sttime}\n",
    "                \n",
    "                data = np.array(idata[ch][stc], dtype=float)\n",
    "                sttmp = Stream([Trace(data=data, header=stats)])\n",
    "                afst += sttmp\n",
    "\n",
    "    return afst"
   ]
  },
  {
   "cell_type": "code",
   "execution_count": 3,
   "metadata": {},
   "outputs": [],
   "source": [
    "# Read CWB Waveform file\n",
    "st=unpackAfile(\"02080054.18C\")"
   ]
  },
  {
   "cell_type": "code",
   "execution_count": 4,
   "metadata": {},
   "outputs": [],
   "source": [
    "# select Network \"SMT\"\n",
    "select_wav = st.select(network=\"SMT\",channel=\"Ch1\")"
   ]
  },
  {
   "cell_type": "code",
   "execution_count": 5,
   "metadata": {},
   "outputs": [
    {
     "data": {
      "text/plain": [
       "2018-02-08T00:54:00.000000Z"
      ]
     },
     "execution_count": 5,
     "metadata": {},
     "output_type": "execute_result"
    }
   ],
   "source": [
    "select_wav[0].stats.starttime"
   ]
  },
  {
   "cell_type": "code",
   "execution_count": 6,
   "metadata": {},
   "outputs": [],
   "source": [
    "yr=select_wav[0].stats.starttime.year\n",
    "mo=select_wav[0].stats.starttime.month\n",
    "dy=select_wav[0].stats.starttime.day\n",
    "hr=select_wav[0].stats.starttime.hour\n",
    "mn=select_wav[0].stats.starttime.minute\n",
    "se=select_wav[0].stats.starttime.second"
   ]
  },
  {
   "cell_type": "code",
   "execution_count": 7,
   "metadata": {},
   "outputs": [
    {
     "data": {
      "text/plain": [
       "'2018280540'"
      ]
     },
     "execution_count": 7,
     "metadata": {},
     "output_type": "execute_result"
    }
   ],
   "source": [
    "f\"{yr}{mo}{dy}{hr}{mn}{se}\"  "
   ]
  },
  {
   "cell_type": "code",
   "execution_count": 8,
   "metadata": {},
   "outputs": [
    {
     "data": {
      "text/plain": [
       "'20180208005400'"
      ]
     },
     "execution_count": 8,
     "metadata": {},
     "output_type": "execute_result"
    }
   ],
   "source": [
    "f\"{yr}{mo:02d}{dy:02d}{hr:02d}{mn:02d}{se:02d}\"  "
   ]
  },
  {
   "cell_type": "code",
   "execution_count": 9,
   "metadata": {},
   "outputs": [
    {
     "data": {
      "text/plain": [
       "'2018-02-08-00-54-00'"
      ]
     },
     "execution_count": 9,
     "metadata": {},
     "output_type": "execute_result"
    }
   ],
   "source": [
    "f\"{yr}-{mo:02d}-{dy:02d}-{hr:02d}-{mn:02d}-{se:02d}\"  "
   ]
  },
  {
   "cell_type": "code",
   "execution_count": 10,
   "metadata": {},
   "outputs": [],
   "source": [
    "select_staname = [ i.stats.station for i in select_wav ]\n"
   ]
  },
  {
   "cell_type": "code",
   "execution_count": 11,
   "metadata": {},
   "outputs": [
    {
     "name": "stdout",
     "output_type": "stream",
     "text": [
      "D:\\python\\0602\\PhaseNet-master\\mydata\\ALS.ALS.2018-02-08-00-54-00.0.npz\n",
      "D:\\python\\0602\\PhaseNet-master\\mydata\\ALS.ALS.2018-02-08-00-54-00.1.npz\n",
      "D:\\python\\0602\\PhaseNet-master\\mydata\\ANP.ANP.2018-02-08-00-54-00.0.npz\n",
      "D:\\python\\0602\\PhaseNet-master\\mydata\\ANP.ANP.2018-02-08-00-54-00.1.npz\n",
      "D:\\python\\0602\\PhaseNet-master\\mydata\\BAC.BAC.2018-02-08-00-54-00.0.npz\n",
      "D:\\python\\0602\\PhaseNet-master\\mydata\\BAC.BAC.2018-02-08-00-54-00.1.npz\n",
      "D:\\python\\0602\\PhaseNet-master\\mydata\\CHK.CHK.2018-02-08-00-54-00.0.npz\n",
      "D:\\python\\0602\\PhaseNet-master\\mydata\\CHK.CHK.2018-02-08-00-54-00.1.npz\n",
      "D:\\python\\0602\\PhaseNet-master\\mydata\\CHN1.CHN1.2018-02-08-00-54-00.0.npz\n",
      "D:\\python\\0602\\PhaseNet-master\\mydata\\CHN1.CHN1.2018-02-08-00-54-00.1.npz\n",
      "D:\\python\\0602\\PhaseNet-master\\mydata\\CHN2.CHN2.2018-02-08-00-54-00.0.npz\n",
      "D:\\python\\0602\\PhaseNet-master\\mydata\\CHN2.CHN2.2018-02-08-00-54-00.1.npz\n",
      "D:\\python\\0602\\PhaseNet-master\\mydata\\CHN3.CHN3.2018-02-08-00-54-00.0.npz\n",
      "D:\\python\\0602\\PhaseNet-master\\mydata\\CHN3.CHN3.2018-02-08-00-54-00.1.npz\n",
      "D:\\python\\0602\\PhaseNet-master\\mydata\\CHN4.CHN4.2018-02-08-00-54-00.0.npz\n",
      "D:\\python\\0602\\PhaseNet-master\\mydata\\CHN4.CHN4.2018-02-08-00-54-00.1.npz\n",
      "D:\\python\\0602\\PhaseNet-master\\mydata\\CHN5.CHN5.2018-02-08-00-54-00.0.npz\n",
      "D:\\python\\0602\\PhaseNet-master\\mydata\\CHN5.CHN5.2018-02-08-00-54-00.1.npz\n",
      "D:\\python\\0602\\PhaseNet-master\\mydata\\CHN8.CHN8.2018-02-08-00-54-00.0.npz\n",
      "D:\\python\\0602\\PhaseNet-master\\mydata\\CHN8.CHN8.2018-02-08-00-54-00.1.npz\n",
      "D:\\python\\0602\\PhaseNet-master\\mydata\\EAS.EAS.2018-02-08-00-54-00.0.npz\n",
      "D:\\python\\0602\\PhaseNet-master\\mydata\\EAS.EAS.2018-02-08-00-54-00.1.npz\n",
      "D:\\python\\0602\\PhaseNet-master\\mydata\\ECB.ECB.2018-02-08-00-54-00.0.npz\n",
      "D:\\python\\0602\\PhaseNet-master\\mydata\\ECB.ECB.2018-02-08-00-54-00.1.npz\n",
      "D:\\python\\0602\\PhaseNet-master\\mydata\\ECL.ECL.2018-02-08-00-54-00.0.npz\n",
      "D:\\python\\0602\\PhaseNet-master\\mydata\\ECL.ECL.2018-02-08-00-54-00.1.npz\n",
      "D:\\python\\0602\\PhaseNet-master\\mydata\\ECS.ECS.2018-02-08-00-54-00.0.npz\n",
      "D:\\python\\0602\\PhaseNet-master\\mydata\\ECS.ECS.2018-02-08-00-54-00.1.npz\n",
      "D:\\python\\0602\\PhaseNet-master\\mydata\\EGC.EGC.2018-02-08-00-54-00.0.npz\n",
      "D:\\python\\0602\\PhaseNet-master\\mydata\\EGC.EGC.2018-02-08-00-54-00.1.npz\n",
      "D:\\python\\0602\\PhaseNet-master\\mydata\\EGS.EGS.2018-02-08-00-54-00.0.npz\n",
      "D:\\python\\0602\\PhaseNet-master\\mydata\\EGS.EGS.2018-02-08-00-54-00.1.npz\n",
      "D:\\python\\0602\\PhaseNet-master\\mydata\\EHP.EHP.2018-02-08-00-54-00.0.npz\n",
      "D:\\python\\0602\\PhaseNet-master\\mydata\\EHP.EHP.2018-02-08-00-54-00.1.npz\n",
      "D:\\python\\0602\\PhaseNet-master\\mydata\\EHY.EHY.2018-02-08-00-54-00.0.npz\n",
      "D:\\python\\0602\\PhaseNet-master\\mydata\\EHY.EHY.2018-02-08-00-54-00.1.npz\n",
      "D:\\python\\0602\\PhaseNet-master\\mydata\\ELD.ELD.2018-02-08-00-54-00.0.npz\n",
      "D:\\python\\0602\\PhaseNet-master\\mydata\\ELD.ELD.2018-02-08-00-54-00.1.npz\n",
      "D:\\python\\0602\\PhaseNet-master\\mydata\\ENA.ENA.2018-02-08-00-54-00.0.npz\n",
      "D:\\python\\0602\\PhaseNet-master\\mydata\\ENA.ENA.2018-02-08-00-54-00.1.npz\n",
      "D:\\python\\0602\\PhaseNet-master\\mydata\\ENT.ENT.2018-02-08-00-54-00.0.npz\n",
      "D:\\python\\0602\\PhaseNet-master\\mydata\\ENT.ENT.2018-02-08-00-54-00.1.npz\n",
      "D:\\python\\0602\\PhaseNet-master\\mydata\\ESL.ESL.2018-02-08-00-54-00.0.npz\n",
      "D:\\python\\0602\\PhaseNet-master\\mydata\\ESL.ESL.2018-02-08-00-54-00.1.npz\n",
      "D:\\python\\0602\\PhaseNet-master\\mydata\\ETL.ETL.2018-02-08-00-54-00.0.npz\n",
      "D:\\python\\0602\\PhaseNet-master\\mydata\\ETL.ETL.2018-02-08-00-54-00.1.npz\n",
      "D:\\python\\0602\\PhaseNet-master\\mydata\\ETM.ETM.2018-02-08-00-54-00.0.npz\n",
      "D:\\python\\0602\\PhaseNet-master\\mydata\\ETM.ETM.2018-02-08-00-54-00.1.npz\n",
      "D:\\python\\0602\\PhaseNet-master\\mydata\\EYL.EYL.2018-02-08-00-54-00.0.npz\n",
      "D:\\python\\0602\\PhaseNet-master\\mydata\\EYL.EYL.2018-02-08-00-54-00.1.npz\n",
      "D:\\python\\0602\\PhaseNet-master\\mydata\\HEN.HEN.2018-02-08-00-54-00.0.npz\n",
      "D:\\python\\0602\\PhaseNet-master\\mydata\\HEN.HEN.2018-02-08-00-54-00.1.npz\n",
      "D:\\python\\0602\\PhaseNet-master\\mydata\\HSN.HSN.2018-02-08-00-54-00.0.npz\n",
      "D:\\python\\0602\\PhaseNet-master\\mydata\\HSN.HSN.2018-02-08-00-54-00.1.npz\n",
      "D:\\python\\0602\\PhaseNet-master\\mydata\\HSN1.HSN1.2018-02-08-00-54-00.0.npz\n",
      "D:\\python\\0602\\PhaseNet-master\\mydata\\HSN1.HSN1.2018-02-08-00-54-00.1.npz\n",
      "D:\\python\\0602\\PhaseNet-master\\mydata\\HWA.HWA.2018-02-08-00-54-00.0.npz\n",
      "D:\\python\\0602\\PhaseNet-master\\mydata\\HWA.HWA.2018-02-08-00-54-00.1.npz\n",
      "D:\\python\\0602\\PhaseNet-master\\mydata\\ILA.ILA.2018-02-08-00-54-00.0.npz\n",
      "D:\\python\\0602\\PhaseNet-master\\mydata\\ILA.ILA.2018-02-08-00-54-00.1.npz\n",
      "D:\\python\\0602\\PhaseNet-master\\mydata\\KAU.KAU.2018-02-08-00-54-00.0.npz\n",
      "D:\\python\\0602\\PhaseNet-master\\mydata\\KAU.KAU.2018-02-08-00-54-00.1.npz\n",
      "D:\\python\\0602\\PhaseNet-master\\mydata\\KNM.KNM.2018-02-08-00-54-00.0.npz\n",
      "D:\\python\\0602\\PhaseNet-master\\mydata\\KNM.KNM.2018-02-08-00-54-00.1.npz\n",
      "D:\\python\\0602\\PhaseNet-master\\mydata\\LAY.LAY.2018-02-08-00-54-00.0.npz\n",
      "D:\\python\\0602\\PhaseNet-master\\mydata\\LAY.LAY.2018-02-08-00-54-00.1.npz\n",
      "D:\\python\\0602\\PhaseNet-master\\mydata\\MSU.MSU.2018-02-08-00-54-00.0.npz\n",
      "D:\\python\\0602\\PhaseNet-master\\mydata\\MSU.MSU.2018-02-08-00-54-00.1.npz\n",
      "D:\\python\\0602\\PhaseNet-master\\mydata\\NCU.NCU.2018-02-08-00-54-00.0.npz\n",
      "D:\\python\\0602\\PhaseNet-master\\mydata\\NCU.NCU.2018-02-08-00-54-00.1.npz\n",
      "D:\\python\\0602\\PhaseNet-master\\mydata\\NHW.NHW.2018-02-08-00-54-00.0.npz\n",
      "D:\\python\\0602\\PhaseNet-master\\mydata\\NHW.NHW.2018-02-08-00-54-00.1.npz\n",
      "D:\\python\\0602\\PhaseNet-master\\mydata\\NHY.NHY.2018-02-08-00-54-00.0.npz\n",
      "D:\\python\\0602\\PhaseNet-master\\mydata\\NHY.NHY.2018-02-08-00-54-00.1.npz\n",
      "D:\\python\\0602\\PhaseNet-master\\mydata\\NJD.NJD.2018-02-08-00-54-00.0.npz\n",
      "D:\\python\\0602\\PhaseNet-master\\mydata\\NJD.NJD.2018-02-08-00-54-00.1.npz\n",
      "D:\\python\\0602\\PhaseNet-master\\mydata\\NJN.NJN.2018-02-08-00-54-00.0.npz\n",
      "D:\\python\\0602\\PhaseNet-master\\mydata\\NJN.NJN.2018-02-08-00-54-00.1.npz\n",
      "D:\\python\\0602\\PhaseNet-master\\mydata\\NNS.NNS.2018-02-08-00-54-00.0.npz\n",
      "D:\\python\\0602\\PhaseNet-master\\mydata\\NNS.NNS.2018-02-08-00-54-00.1.npz\n",
      "D:\\python\\0602\\PhaseNet-master\\mydata\\NOU.NOU.2018-02-08-00-54-00.0.npz\n",
      "D:\\python\\0602\\PhaseNet-master\\mydata\\NOU.NOU.2018-02-08-00-54-00.1.npz\n",
      "D:\\python\\0602\\PhaseNet-master\\mydata\\NSK.NSK.2018-02-08-00-54-00.0.npz\n",
      "D:\\python\\0602\\PhaseNet-master\\mydata\\NSK.NSK.2018-02-08-00-54-00.1.npz\n",
      "D:\\python\\0602\\PhaseNet-master\\mydata\\NSM.NSM.2018-02-08-00-54-00.0.npz\n",
      "D:\\python\\0602\\PhaseNet-master\\mydata\\NSM.NSM.2018-02-08-00-54-00.1.npz\n",
      "D:\\python\\0602\\PhaseNet-master\\mydata\\NST.NST.2018-02-08-00-54-00.0.npz\n",
      "D:\\python\\0602\\PhaseNet-master\\mydata\\NST.NST.2018-02-08-00-54-00.1.npz\n",
      "D:\\python\\0602\\PhaseNet-master\\mydata\\NSY.NSY.2018-02-08-00-54-00.0.npz\n",
      "D:\\python\\0602\\PhaseNet-master\\mydata\\NSY.NSY.2018-02-08-00-54-00.1.npz\n",
      "D:\\python\\0602\\PhaseNet-master\\mydata\\NTY.NTY.2018-02-08-00-54-00.0.npz\n",
      "D:\\python\\0602\\PhaseNet-master\\mydata\\NTY.NTY.2018-02-08-00-54-00.1.npz\n",
      "D:\\python\\0602\\PhaseNet-master\\mydata\\NWR.NWR.2018-02-08-00-54-00.0.npz\n",
      "D:\\python\\0602\\PhaseNet-master\\mydata\\NWR.NWR.2018-02-08-00-54-00.1.npz\n",
      "D:\\python\\0602\\PhaseNet-master\\mydata\\PCY.PCY.2018-02-08-00-54-00.0.npz\n",
      "D:\\python\\0602\\PhaseNet-master\\mydata\\PCY.PCY.2018-02-08-00-54-00.1.npz\n",
      "D:\\python\\0602\\PhaseNet-master\\mydata\\SCL.SCL.2018-02-08-00-54-00.0.npz\n",
      "D:\\python\\0602\\PhaseNet-master\\mydata\\SCL.SCL.2018-02-08-00-54-00.1.npz\n",
      "D:\\python\\0602\\PhaseNet-master\\mydata\\SCZ.SCZ.2018-02-08-00-54-00.0.npz\n",
      "D:\\python\\0602\\PhaseNet-master\\mydata\\SCZ.SCZ.2018-02-08-00-54-00.1.npz\n",
      "D:\\python\\0602\\PhaseNet-master\\mydata\\SEB.SEB.2018-02-08-00-54-00.0.npz\n",
      "D:\\python\\0602\\PhaseNet-master\\mydata\\SEB.SEB.2018-02-08-00-54-00.1.npz\n",
      "D:\\python\\0602\\PhaseNet-master\\mydata\\SGL.SGL.2018-02-08-00-54-00.0.npz\n",
      "D:\\python\\0602\\PhaseNet-master\\mydata\\SGL.SGL.2018-02-08-00-54-00.1.npz\n",
      "D:\\python\\0602\\PhaseNet-master\\mydata\\SGS.SGS.2018-02-08-00-54-00.0.npz\n",
      "D:\\python\\0602\\PhaseNet-master\\mydata\\SGS.SGS.2018-02-08-00-54-00.1.npz\n",
      "D:\\python\\0602\\PhaseNet-master\\mydata\\SML.SML.2018-02-08-00-54-00.0.npz\n",
      "D:\\python\\0602\\PhaseNet-master\\mydata\\SML.SML.2018-02-08-00-54-00.1.npz\n",
      "D:\\python\\0602\\PhaseNet-master\\mydata\\SNW.SNW.2018-02-08-00-54-00.0.npz\n",
      "D:\\python\\0602\\PhaseNet-master\\mydata\\SNW.SNW.2018-02-08-00-54-00.1.npz\n",
      "D:\\python\\0602\\PhaseNet-master\\mydata\\SPT.SPT.2018-02-08-00-54-00.0.npz\n",
      "D:\\python\\0602\\PhaseNet-master\\mydata\\SPT.SPT.2018-02-08-00-54-00.1.npz\n",
      "D:\\python\\0602\\PhaseNet-master\\mydata\\SSD.SSD.2018-02-08-00-54-00.0.npz\n",
      "D:\\python\\0602\\PhaseNet-master\\mydata\\SSD.SSD.2018-02-08-00-54-00.1.npz\n",
      "D:\\python\\0602\\PhaseNet-master\\mydata\\SSH.SSH.2018-02-08-00-54-00.0.npz\n"
     ]
    },
    {
     "name": "stdout",
     "output_type": "stream",
     "text": [
      "D:\\python\\0602\\PhaseNet-master\\mydata\\SSH.SSH.2018-02-08-00-54-00.1.npz\n",
      "D:\\python\\0602\\PhaseNet-master\\mydata\\STY.STY.2018-02-08-00-54-00.0.npz\n",
      "D:\\python\\0602\\PhaseNet-master\\mydata\\STY.STY.2018-02-08-00-54-00.1.npz\n",
      "D:\\python\\0602\\PhaseNet-master\\mydata\\TAI.TAI.2018-02-08-00-54-00.0.npz\n",
      "D:\\python\\0602\\PhaseNet-master\\mydata\\TAI.TAI.2018-02-08-00-54-00.1.npz\n",
      "D:\\python\\0602\\PhaseNet-master\\mydata\\TAI1.TAI1.2018-02-08-00-54-00.0.npz\n",
      "D:\\python\\0602\\PhaseNet-master\\mydata\\TAI1.TAI1.2018-02-08-00-54-00.1.npz\n",
      "D:\\python\\0602\\PhaseNet-master\\mydata\\TAP.TAP.2018-02-08-00-54-00.0.npz\n",
      "D:\\python\\0602\\PhaseNet-master\\mydata\\TAP.TAP.2018-02-08-00-54-00.1.npz\n",
      "D:\\python\\0602\\PhaseNet-master\\mydata\\TAW.TAW.2018-02-08-00-54-00.0.npz\n",
      "D:\\python\\0602\\PhaseNet-master\\mydata\\TAW.TAW.2018-02-08-00-54-00.1.npz\n",
      "D:\\python\\0602\\PhaseNet-master\\mydata\\TCU.TCU.2018-02-08-00-54-00.0.npz\n",
      "D:\\python\\0602\\PhaseNet-master\\mydata\\TCU.TCU.2018-02-08-00-54-00.1.npz\n",
      "D:\\python\\0602\\PhaseNet-master\\mydata\\TTN.TTN.2018-02-08-00-54-00.0.npz\n",
      "D:\\python\\0602\\PhaseNet-master\\mydata\\TTN.TTN.2018-02-08-00-54-00.1.npz\n",
      "D:\\python\\0602\\PhaseNet-master\\mydata\\TWA.TWA.2018-02-08-00-54-00.0.npz\n",
      "D:\\python\\0602\\PhaseNet-master\\mydata\\TWA.TWA.2018-02-08-00-54-00.1.npz\n",
      "D:\\python\\0602\\PhaseNet-master\\mydata\\TWB1.TWB1.2018-02-08-00-54-00.0.npz\n",
      "D:\\python\\0602\\PhaseNet-master\\mydata\\TWB1.TWB1.2018-02-08-00-54-00.1.npz\n",
      "D:\\python\\0602\\PhaseNet-master\\mydata\\TWC.TWC.2018-02-08-00-54-00.0.npz\n",
      "D:\\python\\0602\\PhaseNet-master\\mydata\\TWC.TWC.2018-02-08-00-54-00.1.npz\n",
      "D:\\python\\0602\\PhaseNet-master\\mydata\\TWD.TWD.2018-02-08-00-54-00.0.npz\n",
      "D:\\python\\0602\\PhaseNet-master\\mydata\\TWD.TWD.2018-02-08-00-54-00.1.npz\n",
      "D:\\python\\0602\\PhaseNet-master\\mydata\\TWE.TWE.2018-02-08-00-54-00.0.npz\n",
      "D:\\python\\0602\\PhaseNet-master\\mydata\\TWE.TWE.2018-02-08-00-54-00.1.npz\n",
      "D:\\python\\0602\\PhaseNet-master\\mydata\\TWF1.TWF1.2018-02-08-00-54-00.0.npz\n",
      "D:\\python\\0602\\PhaseNet-master\\mydata\\TWF1.TWF1.2018-02-08-00-54-00.1.npz\n",
      "D:\\python\\0602\\PhaseNet-master\\mydata\\TWG.TWG.2018-02-08-00-54-00.0.npz\n",
      "D:\\python\\0602\\PhaseNet-master\\mydata\\TWG.TWG.2018-02-08-00-54-00.1.npz\n",
      "D:\\python\\0602\\PhaseNet-master\\mydata\\TWK1.TWK1.2018-02-08-00-54-00.0.npz\n",
      "D:\\python\\0602\\PhaseNet-master\\mydata\\TWK1.TWK1.2018-02-08-00-54-00.1.npz\n",
      "D:\\python\\0602\\PhaseNet-master\\mydata\\TWL.TWL.2018-02-08-00-54-00.0.npz\n",
      "D:\\python\\0602\\PhaseNet-master\\mydata\\TWL.TWL.2018-02-08-00-54-00.1.npz\n",
      "D:\\python\\0602\\PhaseNet-master\\mydata\\TWM1.TWM1.2018-02-08-00-54-00.0.npz\n",
      "D:\\python\\0602\\PhaseNet-master\\mydata\\TWM1.TWM1.2018-02-08-00-54-00.1.npz\n",
      "D:\\python\\0602\\PhaseNet-master\\mydata\\TWQ1.TWQ1.2018-02-08-00-54-00.0.npz\n",
      "D:\\python\\0602\\PhaseNet-master\\mydata\\TWQ1.TWQ1.2018-02-08-00-54-00.1.npz\n",
      "D:\\python\\0602\\PhaseNet-master\\mydata\\TWS1.TWS1.2018-02-08-00-54-00.0.npz\n",
      "D:\\python\\0602\\PhaseNet-master\\mydata\\TWS1.TWS1.2018-02-08-00-54-00.1.npz\n",
      "D:\\python\\0602\\PhaseNet-master\\mydata\\TWT.TWT.2018-02-08-00-54-00.0.npz\n",
      "D:\\python\\0602\\PhaseNet-master\\mydata\\TWT.TWT.2018-02-08-00-54-00.1.npz\n",
      "D:\\python\\0602\\PhaseNet-master\\mydata\\TWY.TWY.2018-02-08-00-54-00.0.npz\n",
      "D:\\python\\0602\\PhaseNet-master\\mydata\\TWY.TWY.2018-02-08-00-54-00.1.npz\n",
      "D:\\python\\0602\\PhaseNet-master\\mydata\\TYC.TYC.2018-02-08-00-54-00.0.npz\n",
      "D:\\python\\0602\\PhaseNet-master\\mydata\\TYC.TYC.2018-02-08-00-54-00.1.npz\n",
      "D:\\python\\0602\\PhaseNet-master\\mydata\\WDG.WDG.2018-02-08-00-54-00.0.npz\n",
      "D:\\python\\0602\\PhaseNet-master\\mydata\\WDG.WDG.2018-02-08-00-54-00.1.npz\n",
      "D:\\python\\0602\\PhaseNet-master\\mydata\\WGK.WGK.2018-02-08-00-54-00.0.npz\n",
      "D:\\python\\0602\\PhaseNet-master\\mydata\\WGK.WGK.2018-02-08-00-54-00.1.npz\n",
      "D:\\python\\0602\\PhaseNet-master\\mydata\\WHF.WHF.2018-02-08-00-54-00.0.npz\n",
      "D:\\python\\0602\\PhaseNet-master\\mydata\\WHF.WHF.2018-02-08-00-54-00.1.npz\n",
      "D:\\python\\0602\\PhaseNet-master\\mydata\\WLC.WLC.2018-02-08-00-54-00.0.npz\n",
      "D:\\python\\0602\\PhaseNet-master\\mydata\\WLC.WLC.2018-02-08-00-54-00.1.npz\n",
      "D:\\python\\0602\\PhaseNet-master\\mydata\\WML.WML.2018-02-08-00-54-00.0.npz\n",
      "D:\\python\\0602\\PhaseNet-master\\mydata\\WML.WML.2018-02-08-00-54-00.1.npz\n",
      "D:\\python\\0602\\PhaseNet-master\\mydata\\WNT.WNT.2018-02-08-00-54-00.0.npz\n",
      "D:\\python\\0602\\PhaseNet-master\\mydata\\WNT.WNT.2018-02-08-00-54-00.1.npz\n",
      "D:\\python\\0602\\PhaseNet-master\\mydata\\WNT1.WNT1.2018-02-08-00-54-00.0.npz\n",
      "D:\\python\\0602\\PhaseNet-master\\mydata\\WNT1.WNT1.2018-02-08-00-54-00.1.npz\n",
      "D:\\python\\0602\\PhaseNet-master\\mydata\\WPL.WPL.2018-02-08-00-54-00.0.npz\n",
      "D:\\python\\0602\\PhaseNet-master\\mydata\\WPL.WPL.2018-02-08-00-54-00.1.npz\n",
      "D:\\python\\0602\\PhaseNet-master\\mydata\\WSF.WSF.2018-02-08-00-54-00.0.npz\n",
      "D:\\python\\0602\\PhaseNet-master\\mydata\\WSF.WSF.2018-02-08-00-54-00.1.npz\n",
      "D:\\python\\0602\\PhaseNet-master\\mydata\\WSS.WSS.2018-02-08-00-54-00.0.npz\n",
      "D:\\python\\0602\\PhaseNet-master\\mydata\\WSS.WSS.2018-02-08-00-54-00.1.npz\n",
      "D:\\python\\0602\\PhaseNet-master\\mydata\\WTC.WTC.2018-02-08-00-54-00.0.npz\n",
      "D:\\python\\0602\\PhaseNet-master\\mydata\\WTC.WTC.2018-02-08-00-54-00.1.npz\n",
      "D:\\python\\0602\\PhaseNet-master\\mydata\\WTP.WTP.2018-02-08-00-54-00.0.npz\n",
      "D:\\python\\0602\\PhaseNet-master\\mydata\\WTP.WTP.2018-02-08-00-54-00.1.npz\n",
      "D:\\python\\0602\\PhaseNet-master\\mydata\\WWF.WWF.2018-02-08-00-54-00.0.npz\n",
      "D:\\python\\0602\\PhaseNet-master\\mydata\\WWF.WWF.2018-02-08-00-54-00.1.npz\n",
      "D:\\python\\0602\\PhaseNet-master\\mydata\\WYL.WYL.2018-02-08-00-54-00.0.npz\n",
      "D:\\python\\0602\\PhaseNet-master\\mydata\\WYL.WYL.2018-02-08-00-54-00.1.npz\n",
      "D:\\python\\0602\\PhaseNet-master\\mydata\\YUS.YUS.2018-02-08-00-54-00.0.npz\n",
      "D:\\python\\0602\\PhaseNet-master\\mydata\\YUS.YUS.2018-02-08-00-54-00.1.npz\n"
     ]
    }
   ],
   "source": [
    "with open(r\"D:\\python\\0602\\PhaseNet-master\\mydata\\fname.csv\", 'w') as fp:\n",
    "    fp.write(\"fname\\n\")\n",
    "    for ii in select_staname: \n",
    "        for i in range(2):\n",
    "            Z=st.select(station=ii,channel=\"Ch1\")[0].data[3000*i:3000*(i+1)]*1.0\n",
    "            N=st.select(station=ii,channel=\"Ch2\")[0].data[3000*i:3000*(i+1)]*1.0\n",
    "            E=st.select(station=ii,channel=\"Ch3\")[0].data[3000*i:3000*(i+1)]*1.0\n",
    "            waveform=np.vstack((Z,N,E)).T\n",
    "            \n",
    "            time = f\"{yr}-{mo:02d}-{dy:02d}-{hr:02d}-{mn:02d}-{se:02d}\"  \n",
    "            \n",
    "            ffname = f\"D:\\\\python\\\\0602\\\\PhaseNet-master\\\\mydata\\\\{ii}.{ii}.{time}.{i}.npz\"\n",
    "            np.savez(ffname, data=waveform)\n",
    "            print(ffname)\n",
    "            ffname = f\"{ffname}\\n\"\n",
    "            fp.write(ffname)"
   ]
  },
  {
   "cell_type": "code",
   "execution_count": null,
   "metadata": {},
   "outputs": [],
   "source": []
  }
 ],
 "metadata": {
  "kernelspec": {
   "display_name": "Python 3",
   "language": "python",
   "name": "python3"
  },
  "language_info": {
   "codemirror_mode": {
    "name": "ipython",
    "version": 3
   },
   "file_extension": ".py",
   "mimetype": "text/x-python",
   "name": "python",
   "nbconvert_exporter": "python",
   "pygments_lexer": "ipython3",
   "version": "3.7.6"
  }
 },
 "nbformat": 4,
 "nbformat_minor": 4
}
