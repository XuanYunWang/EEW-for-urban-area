{
 "cells": [
  {
   "cell_type": "code",
   "execution_count": 1,
   "metadata": {},
   "outputs": [],
   "source": [
    "# coding: utf-8\n",
    "import re\n",
    "import math\n",
    "import csv\n",
    "import sys\n",
    "import os\n",
    "import struct\n",
    "import numpy as np\n",
    "import matplotlib.pyplot as plt\n",
    "from datetime import datetime, timedelta\n",
    "\n",
    "\n",
    "%matplotlib inline"
   ]
  },
  {
   "cell_type": "code",
   "execution_count": 2,
   "metadata": {},
   "outputs": [],
   "source": [
    "with open(r\"D:\\python\\0609\\PhaseNet-master\\output\\picks.csv\") as fp:\n",
    "    header = fp.readline()\n",
    "    data = fp.readlines()"
   ]
  },
  {
   "cell_type": "code",
   "execution_count": 7,
   "metadata": {},
   "outputs": [
    {
     "data": {
      "text/plain": [
       "'fname,itp,tp_prob,its,ts_prob'"
      ]
     },
     "execution_count": 7,
     "metadata": {},
     "output_type": "execute_result"
    }
   ],
   "source": [
    "header"
   ]
  },
  {
   "cell_type": "code",
   "execution_count": 6,
   "metadata": {},
   "outputs": [
    {
     "data": {
      "text/plain": [
       "'ALS-0.npz,[1504],[ 0.4340671],[2525],[ 0.37128958]'"
      ]
     },
     "execution_count": 6,
     "metadata": {},
     "output_type": "execute_result"
    }
   ],
   "source": [
    "data[1].strip(\"\\n\")"
   ]
  },
  {
   "cell_type": "code",
   "execution_count": 11,
   "metadata": {},
   "outputs": [],
   "source": [
    "data[1] = data[1].strip()"
   ]
  },
  {
   "cell_type": "code",
   "execution_count": 12,
   "metadata": {},
   "outputs": [
    {
     "data": {
      "text/plain": [
       "['ALS-0.npz', '[1504]', '[ 0.4340671]', '[2525]', '[ 0.37128958]']"
      ]
     },
     "execution_count": 12,
     "metadata": {},
     "output_type": "execute_result"
    }
   ],
   "source": [
    "data[1].split(\",\")"
   ]
  },
  {
   "cell_type": "code",
   "execution_count": 13,
   "metadata": {},
   "outputs": [
    {
     "data": {
      "text/plain": [
       "['ALS-0', 'npz']"
      ]
     },
     "execution_count": 13,
     "metadata": {},
     "output_type": "execute_result"
    }
   ],
   "source": [
    "# 取得測站名稱及資料起始時間\n",
    "tmp1 = data[1].split(\",\")[0]\n",
    "tmp1.split(\".\")"
   ]
  },
  {
   "cell_type": "code",
   "execution_count": 10,
   "metadata": {},
   "outputs": [
    {
     "name": "stdout",
     "output_type": "stream",
     "text": [
      "ALS-0\n"
     ]
    }
   ],
   "source": [
    "tmp1 = data[1].split(\",\")[0]\n",
    "sta = tmp1.split(\".\")[0]\n",
    "print(sta)"
   ]
  },
  {
   "cell_type": "code",
   "execution_count": 14,
   "metadata": {},
   "outputs": [
    {
     "ename": "IndexError",
     "evalue": "list index out of range",
     "output_type": "error",
     "traceback": [
      "\u001b[1;31m---------------------------------------------------------------------------\u001b[0m",
      "\u001b[1;31mIndexError\u001b[0m                                Traceback (most recent call last)",
      "\u001b[1;32m<ipython-input-14-e3203c1b9c1f>\u001b[0m in \u001b[0;36m<module>\u001b[1;34m\u001b[0m\n\u001b[0;32m      2\u001b[0m \u001b[0mtmp1\u001b[0m \u001b[1;33m=\u001b[0m \u001b[0mdata\u001b[0m\u001b[1;33m[\u001b[0m\u001b[1;36m1\u001b[0m\u001b[1;33m]\u001b[0m\u001b[1;33m.\u001b[0m\u001b[0msplit\u001b[0m\u001b[1;33m(\u001b[0m\u001b[1;34m\",\"\u001b[0m\u001b[1;33m)\u001b[0m\u001b[1;33m[\u001b[0m\u001b[1;36m0\u001b[0m\u001b[1;33m]\u001b[0m\u001b[1;33m\u001b[0m\u001b[1;33m\u001b[0m\u001b[0m\n\u001b[0;32m      3\u001b[0m \u001b[0msta\u001b[0m \u001b[1;33m=\u001b[0m \u001b[0mtmp1\u001b[0m\u001b[1;33m.\u001b[0m\u001b[0msplit\u001b[0m\u001b[1;33m(\u001b[0m\u001b[1;34m\".\"\u001b[0m\u001b[1;33m)\u001b[0m\u001b[1;33m[\u001b[0m\u001b[1;36m1\u001b[0m\u001b[1;33m]\u001b[0m\u001b[1;33m\u001b[0m\u001b[1;33m\u001b[0m\u001b[0m\n\u001b[1;32m----> 4\u001b[1;33m \u001b[0myr\u001b[0m \u001b[1;33m=\u001b[0m \u001b[0mtmp1\u001b[0m\u001b[1;33m.\u001b[0m\u001b[0msplit\u001b[0m\u001b[1;33m(\u001b[0m\u001b[1;34m\".\"\u001b[0m\u001b[1;33m)\u001b[0m\u001b[1;33m[\u001b[0m\u001b[1;36m2\u001b[0m\u001b[1;33m]\u001b[0m\u001b[1;33m.\u001b[0m\u001b[0msplit\u001b[0m\u001b[1;33m(\u001b[0m\u001b[1;34m\"-\"\u001b[0m\u001b[1;33m)\u001b[0m\u001b[1;33m[\u001b[0m\u001b[1;36m0\u001b[0m\u001b[1;33m]\u001b[0m\u001b[1;33m\u001b[0m\u001b[1;33m\u001b[0m\u001b[0m\n\u001b[0m\u001b[0;32m      5\u001b[0m \u001b[0mmo\u001b[0m \u001b[1;33m=\u001b[0m \u001b[0mtmp1\u001b[0m\u001b[1;33m.\u001b[0m\u001b[0msplit\u001b[0m\u001b[1;33m(\u001b[0m\u001b[1;34m\".\"\u001b[0m\u001b[1;33m)\u001b[0m\u001b[1;33m[\u001b[0m\u001b[1;36m2\u001b[0m\u001b[1;33m]\u001b[0m\u001b[1;33m.\u001b[0m\u001b[0msplit\u001b[0m\u001b[1;33m(\u001b[0m\u001b[1;34m\"-\"\u001b[0m\u001b[1;33m)\u001b[0m\u001b[1;33m[\u001b[0m\u001b[1;36m1\u001b[0m\u001b[1;33m]\u001b[0m\u001b[1;33m\u001b[0m\u001b[1;33m\u001b[0m\u001b[0m\n\u001b[0;32m      6\u001b[0m \u001b[0mdy\u001b[0m \u001b[1;33m=\u001b[0m \u001b[0mtmp1\u001b[0m\u001b[1;33m.\u001b[0m\u001b[0msplit\u001b[0m\u001b[1;33m(\u001b[0m\u001b[1;34m\".\"\u001b[0m\u001b[1;33m)\u001b[0m\u001b[1;33m[\u001b[0m\u001b[1;36m2\u001b[0m\u001b[1;33m]\u001b[0m\u001b[1;33m.\u001b[0m\u001b[0msplit\u001b[0m\u001b[1;33m(\u001b[0m\u001b[1;34m\"-\"\u001b[0m\u001b[1;33m)\u001b[0m\u001b[1;33m[\u001b[0m\u001b[1;36m2\u001b[0m\u001b[1;33m]\u001b[0m\u001b[1;33m\u001b[0m\u001b[1;33m\u001b[0m\u001b[0m\n",
      "\u001b[1;31mIndexError\u001b[0m: list index out of range"
     ]
    }
   ],
   "source": [
    "# 取得測站名稱及資料起始時間\n",
    "tmp1 = data[1].split(\",\")[0]\n",
    "sta = tmp1.split(\".\")[1]\n",
    "yr = tmp1.split(\".\")[2].split(\"-\")[0]\n",
    "mo = tmp1.split(\".\")[2].split(\"-\")[1]\n",
    "dy = tmp1.split(\".\")[2].split(\"-\")[2]\n",
    "hr = tmp1.split(\".\")[2].split(\"-\")[3]\n",
    "mn = tmp1.split(\".\")[2].split(\"-\")[4]\n",
    "se = tmp1.split(\".\")[2].split(\"-\")[5]\n",
    "segment = tmp1.split(\".\")[3]\n",
    "\n",
    "ss = f\"{sta}-{yr}-{mo}-{dy}-{hr}-{mn}-{se}-{segment}\"\n",
    "print(ss)"
   ]
  },
  {
   "cell_type": "code",
   "execution_count": 34,
   "metadata": {},
   "outputs": [
    {
     "name": "stdout",
     "output_type": "stream",
     "text": [
      "00\n"
     ]
    }
   ],
   "source": [
    "tmp1 = data[1].split(\",\")[0]\n",
    "sta = tmp1.split(\".\")[0][-1]\n",
    "if tmp1.split(\".\")[0][-1]==\"0\":\n",
    "    se=\"00\"\n",
    "if tmp1.split(\".\")[0][-1]==\"1\":\n",
    "    se=\"30\"\n",
    "print(se)    "
   ]
  },
  {
   "cell_type": "code",
   "execution_count": 37,
   "metadata": {},
   "outputs": [],
   "source": [
    "data[1]=data[1].strip(\"\\n\")"
   ]
  },
  {
   "cell_type": "code",
   "execution_count": 38,
   "metadata": {},
   "outputs": [
    {
     "name": "stdout",
     "output_type": "stream",
     "text": [
      "1504\n",
      "15.04\n"
     ]
    }
   ],
   "source": [
    "# 取得 P 波到時 \n",
    "tmp1 = data[1].split(\",\")[1].strip(\"[]\")\n",
    "print(tmp1)\n",
    "P_sec =  int(tmp1) / 100.0 + int(se)\n",
    "print(P_sec)"
   ]
  },
  {
   "cell_type": "code",
   "execution_count": 43,
   "metadata": {},
   "outputs": [
    {
     "name": "stdout",
     "output_type": "stream",
     "text": [
      " 0.4340671\n",
      "0.4340671\n"
     ]
    }
   ],
   "source": [
    "# 取得 P 波到時機率\n",
    "tmp1 = data[1].split(\",\")[2].strip(\"[]\")\n",
    "print(tmp1)\n",
    "P_pro = float(tmp1)\n",
    "print(P_pro)"
   ]
  },
  {
   "cell_type": "code",
   "execution_count": 44,
   "metadata": {},
   "outputs": [
    {
     "name": "stdout",
     "output_type": "stream",
     "text": [
      "2525\n",
      "25.25\n"
     ]
    }
   ],
   "source": [
    "# 取得 S 波到時 \n",
    "tmp1 = data[1].split(\",\")[3].strip(\"[]\")\n",
    "print(tmp1)\n",
    "S_sec =  int(tmp1) / 100.0 + int(se)\n",
    "print(S_sec)"
   ]
  },
  {
   "cell_type": "code",
   "execution_count": 45,
   "metadata": {},
   "outputs": [
    {
     "name": "stdout",
     "output_type": "stream",
     "text": [
      " 0.37128958\n",
      "0.37128958\n"
     ]
    }
   ],
   "source": [
    "# 取得 S 波到時機率\n",
    "tmp1 = data[1].split(\",\")[4].strip(\"[]\")\n",
    "print(tmp1)\n",
    "S_pro =  float(tmp1)\n",
    "print(S_pro)"
   ]
  },
  {
   "cell_type": "code",
   "execution_count": null,
   "metadata": {},
   "outputs": [],
   "source": []
  },
  {
   "cell_type": "code",
   "execution_count": 46,
   "metadata": {},
   "outputs": [
    {
     "data": {
      "text/plain": [
       "'ALS-1.npz,[432],[ 0.77231026],[],[]'"
      ]
     },
     "execution_count": 46,
     "metadata": {},
     "output_type": "execute_result"
    }
   ],
   "source": [
    "data[7] = data[7].strip()\n",
    "data[7]"
   ]
  },
  {
   "cell_type": "code",
   "execution_count": 47,
   "metadata": {},
   "outputs": [
    {
     "name": "stdout",
     "output_type": "stream",
     "text": [
      "[]\n",
      "\n"
     ]
    },
    {
     "ename": "ValueError",
     "evalue": "invalid literal for int() with base 10: ''",
     "output_type": "error",
     "traceback": [
      "\u001b[1;31m---------------------------------------------------------------------------\u001b[0m",
      "\u001b[1;31mValueError\u001b[0m                                Traceback (most recent call last)",
      "\u001b[1;32m<ipython-input-47-da95e7fc6bf7>\u001b[0m in \u001b[0;36m<module>\u001b[1;34m\u001b[0m\n\u001b[0;32m      3\u001b[0m \u001b[0mprint\u001b[0m\u001b[1;33m(\u001b[0m\u001b[0mtmp1\u001b[0m\u001b[1;33m)\u001b[0m\u001b[1;33m\u001b[0m\u001b[1;33m\u001b[0m\u001b[0m\n\u001b[0;32m      4\u001b[0m \u001b[0mprint\u001b[0m\u001b[1;33m(\u001b[0m\u001b[0mtmp1\u001b[0m\u001b[1;33m.\u001b[0m\u001b[0mstrip\u001b[0m\u001b[1;33m(\u001b[0m\u001b[1;34m\"[]\"\u001b[0m\u001b[1;33m)\u001b[0m\u001b[1;33m)\u001b[0m\u001b[1;33m\u001b[0m\u001b[1;33m\u001b[0m\u001b[0m\n\u001b[1;32m----> 5\u001b[1;33m \u001b[0mS_sec\u001b[0m \u001b[1;33m=\u001b[0m  \u001b[0mint\u001b[0m\u001b[1;33m(\u001b[0m \u001b[0mtmp1\u001b[0m\u001b[1;33m.\u001b[0m\u001b[0mstrip\u001b[0m\u001b[1;33m(\u001b[0m\u001b[1;34m\"[]\"\u001b[0m\u001b[1;33m)\u001b[0m \u001b[1;33m)\u001b[0m \u001b[1;33m/\u001b[0m \u001b[1;36m100.0\u001b[0m \u001b[1;33m+\u001b[0m \u001b[0mint\u001b[0m\u001b[1;33m(\u001b[0m\u001b[0mse\u001b[0m\u001b[1;33m)\u001b[0m\u001b[1;33m\u001b[0m\u001b[1;33m\u001b[0m\u001b[0m\n\u001b[0m\u001b[0;32m      6\u001b[0m \u001b[0mprint\u001b[0m\u001b[1;33m(\u001b[0m\u001b[0mS_sec\u001b[0m\u001b[1;33m)\u001b[0m\u001b[1;33m\u001b[0m\u001b[1;33m\u001b[0m\u001b[0m\n",
      "\u001b[1;31mValueError\u001b[0m: invalid literal for int() with base 10: ''"
     ]
    }
   ],
   "source": [
    "# 取得 S 波到時 \n",
    "tmp1 = data[7].split(\",\")[3]\n",
    "print(tmp1)\n",
    "print(tmp1.strip(\"[]\"))\n",
    "S_sec =  int( tmp1.strip(\"[]\") ) / 100.0 + int(se)\n",
    "print(S_sec)"
   ]
  },
  {
   "cell_type": "code",
   "execution_count": 27,
   "metadata": {},
   "outputs": [
    {
     "data": {
      "text/plain": [
       "['C:\\\\0616python\\\\PhaseNet-master\\\\mydata\\\\ANP.ANP.2018-02-08-00-54-00.1.npz',\n",
       " '[1161]',\n",
       " '[ 0.39753363]',\n",
       " '[]',\n",
       " '[]']"
      ]
     },
     "execution_count": 27,
     "metadata": {},
     "output_type": "execute_result"
    }
   ],
   "source": [
    "data[7].split(\",\")"
   ]
  },
  {
   "cell_type": "code",
   "execution_count": 28,
   "metadata": {},
   "outputs": [
    {
     "data": {
      "text/plain": [
       "'[]'"
      ]
     },
     "execution_count": 28,
     "metadata": {},
     "output_type": "execute_result"
    }
   ],
   "source": [
    "data[7].split(\",\")[3]"
   ]
  },
  {
   "cell_type": "code",
   "execution_count": 29,
   "metadata": {},
   "outputs": [
    {
     "data": {
      "text/plain": [
       "True"
      ]
     },
     "execution_count": 29,
     "metadata": {},
     "output_type": "execute_result"
    }
   ],
   "source": [
    "data[7].split(\",\")[3]==\"[]\""
   ]
  },
  {
   "cell_type": "code",
   "execution_count": 30,
   "metadata": {},
   "outputs": [],
   "source": [
    "# 取得 S 波到時 \n",
    "if data[7].split(\",\")[3]!=\"[]\":\n",
    "    tmp1 = data[7].split(\",\")[3]\n",
    "    S_sec =  int( tmp1.strip(\"[]\") ) / 100.0 + int(se)\n",
    "else:\n",
    "    S_sec = 0.00\n"
   ]
  },
  {
   "cell_type": "code",
   "execution_count": 31,
   "metadata": {},
   "outputs": [
    {
     "data": {
      "text/plain": [
       "0.0"
      ]
     },
     "execution_count": 31,
     "metadata": {},
     "output_type": "execute_result"
    }
   ],
   "source": [
    "S_sec"
   ]
  },
  {
   "cell_type": "code",
   "execution_count": null,
   "metadata": {},
   "outputs": [],
   "source": []
  },
  {
   "cell_type": "code",
   "execution_count": 32,
   "metadata": {},
   "outputs": [
    {
     "data": {
      "text/plain": [
       "'C:\\\\0616python\\\\PhaseNet-master\\\\mydata\\\\EGC.EGC.2018-02-08-00-54-00.1.npz,[],[],[47],[ 0.56825805]'"
      ]
     },
     "execution_count": 32,
     "metadata": {},
     "output_type": "execute_result"
    }
   ],
   "source": [
    "data[30] = data[30].strip()\n",
    "data[30]"
   ]
  },
  {
   "cell_type": "code",
   "execution_count": 53,
   "metadata": {},
   "outputs": [
    {
     "data": {
      "text/plain": [
       "'[]'"
      ]
     },
     "execution_count": 53,
     "metadata": {},
     "output_type": "execute_result"
    }
   ],
   "source": [
    "data[30].split(\",\")[3]"
   ]
  },
  {
   "cell_type": "code",
   "execution_count": 54,
   "metadata": {},
   "outputs": [],
   "source": [
    "tmp1 = data[30].split(\",\")[3]\n",
    "tmp2 = tmp1.strip(\"[]\").split()\n",
    "tmp2\n",
    "S_sec=[]\n",
    "for i in tmp2:\n",
    "    S_sec.append(int( tmp1.strip(\"[]\") ) / 100.0 + int(se)) "
   ]
  },
  {
   "cell_type": "code",
   "execution_count": 55,
   "metadata": {},
   "outputs": [],
   "source": [
    "if data[30].split(\",\")[3]!=\"[]\":\n",
    "    tmp1 = data[30].split(\",\")[3]\n",
    "    tmp2 = tmp1.strip(\"[]\").split()\n",
    "    S_sec=[]\n",
    "    for i in tmp2:\n",
    "        S_sec.append(int( i.strip(\"[]\") ) / 100.0 + int(se))\n",
    "else:\n",
    "    S_sec = 0.00"
   ]
  },
  {
   "cell_type": "code",
   "execution_count": 56,
   "metadata": {},
   "outputs": [
    {
     "data": {
      "text/plain": [
       "[]"
      ]
     },
     "execution_count": 56,
     "metadata": {},
     "output_type": "execute_result"
    }
   ],
   "source": [
    "tmp2"
   ]
  },
  {
   "cell_type": "code",
   "execution_count": 57,
   "metadata": {},
   "outputs": [
    {
     "data": {
      "text/plain": [
       "0.0"
      ]
     },
     "execution_count": 57,
     "metadata": {},
     "output_type": "execute_result"
    }
   ],
   "source": [
    "S_sec"
   ]
  },
  {
   "cell_type": "code",
   "execution_count": null,
   "metadata": {},
   "outputs": [],
   "source": []
  },
  {
   "cell_type": "code",
   "execution_count": null,
   "metadata": {},
   "outputs": [],
   "source": []
  },
  {
   "cell_type": "code",
   "execution_count": 58,
   "metadata": {},
   "outputs": [
    {
     "data": {
      "text/plain": [
       "0.0"
      ]
     },
     "execution_count": 58,
     "metadata": {},
     "output_type": "execute_result"
    }
   ],
   "source": [
    "# 取得 S 波到時 \n",
    "if data[7].split(\",\")[3]!=\"[]\":\n",
    "    tmp1 = data[7].split(\",\")[3]\n",
    "    tmp2 = tmp1.strip(\"[]\").split()\n",
    "    S_sec=[]\n",
    "    for i in tmp2:\n",
    "        S_sec.append(int( i.strip(\"[]\") ) / 100.0 + int(se))\n",
    "else:\n",
    "    S_sec = 0.00\n",
    "\n",
    "S_sec"
   ]
  },
  {
   "cell_type": "code",
   "execution_count": 59,
   "metadata": {},
   "outputs": [
    {
     "data": {
      "text/plain": [
       "'ANP-0.npz,[],[],[],[]\\n'"
      ]
     },
     "execution_count": 59,
     "metadata": {},
     "output_type": "execute_result"
    }
   ],
   "source": [
    "data[6]"
   ]
  },
  {
   "cell_type": "code",
   "execution_count": 60,
   "metadata": {},
   "outputs": [
    {
     "data": {
      "text/plain": [
       "0.0"
      ]
     },
     "execution_count": 60,
     "metadata": {},
     "output_type": "execute_result"
    }
   ],
   "source": [
    "# 取得 S 波到時 \n",
    "tmp1 = data[30].split(\",\")[3]\n",
    "if tmp1!=\"[]\":\n",
    "    tmp2 = tmp1.strip(\"[]\").split()\n",
    "    S_sec=[]\n",
    "    for i in tmp2:\n",
    "        S_sec.append(int( i.strip(\"[]\") ) / 100.0 + int(se))\n",
    "else:\n",
    "    S_sec = 0.00\n",
    "\n",
    "S_sec"
   ]
  },
  {
   "cell_type": "code",
   "execution_count": 61,
   "metadata": {},
   "outputs": [
    {
     "data": {
      "text/plain": [
       "'ECL-0.npz,[],[],[],[]\\n'"
      ]
     },
     "execution_count": 61,
     "metadata": {},
     "output_type": "execute_result"
    }
   ],
   "source": [
    "data[30]"
   ]
  },
  {
   "cell_type": "code",
   "execution_count": 62,
   "metadata": {},
   "outputs": [
    {
     "name": "stdout",
     "output_type": "stream",
     "text": [
      "[]\n"
     ]
    }
   ],
   "source": [
    "# 取得 S 波到時機率\n",
    "tmp1 = data[30].split(\",\")[4]\n",
    "if tmp1!=\"[]\":\n",
    "    tmp2 = tmp1.strip(\"[]\").split()\n",
    "    S_pro=[]\n",
    "    for i in tmp2:\n",
    "        S_pro.append( float( i ) )\n",
    "else:\n",
    "    S_pro = 0.00\n",
    "\n",
    "\n",
    "print(S_pro)\n"
   ]
  },
  {
   "cell_type": "code",
   "execution_count": 63,
   "metadata": {},
   "outputs": [
    {
     "data": {
      "text/plain": [
       "0.0"
      ]
     },
     "execution_count": 63,
     "metadata": {},
     "output_type": "execute_result"
    }
   ],
   "source": [
    "# 取得 P 波到時 \n",
    "tmp1 = data[30].split(\",\")[1]\n",
    "if tmp1!=\"[]\":\n",
    "    tmp2 = tmp1.strip(\"[]\").split()\n",
    "    P_sec=[]\n",
    "    for i in tmp2:\n",
    "        P_sec.append(int( i.strip(\"[]\") ) / 100.0 + int(se))\n",
    "else:\n",
    "    P_sec = 0.00\n",
    "\n",
    "P_sec"
   ]
  },
  {
   "cell_type": "code",
   "execution_count": 64,
   "metadata": {},
   "outputs": [
    {
     "name": "stdout",
     "output_type": "stream",
     "text": [
      "0.0\n"
     ]
    }
   ],
   "source": [
    "# 取得 P 波到時機率\n",
    "tmp1 = data[2].split(\",\")[2]\n",
    "if tmp1!=\"[]\":\n",
    "    tmp2 = tmp1.strip(\"[]\").split()\n",
    "    P_pro=[]\n",
    "    for i in tmp2:\n",
    "        P_pro.append( float( i ) )\n",
    "else:\n",
    "    P_pro = 0.00\n",
    "\n",
    "\n",
    "print(P_pro)"
   ]
  },
  {
   "cell_type": "code",
   "execution_count": 65,
   "metadata": {},
   "outputs": [
    {
     "data": {
      "text/plain": [
       "'CHK-0.npz,[],[],[],[]\\n'"
      ]
     },
     "execution_count": 65,
     "metadata": {},
     "output_type": "execute_result"
    }
   ],
   "source": [
    "data[2]"
   ]
  },
  {
   "cell_type": "code",
   "execution_count": null,
   "metadata": {},
   "outputs": [],
   "source": []
  },
  {
   "cell_type": "code",
   "execution_count": null,
   "metadata": {},
   "outputs": [],
   "source": []
  },
  {
   "cell_type": "code",
   "execution_count": 66,
   "metadata": {},
   "outputs": [
    {
     "data": {
      "text/plain": [
       "'ANP-0.npz,[],[],[],[]\\n'"
      ]
     },
     "execution_count": 66,
     "metadata": {},
     "output_type": "execute_result"
    }
   ],
   "source": [
    "2018-02-08-00-54-00"
   ]
  },
  {
   "cell_type": "code",
   "execution_count": 69,
   "metadata": {},
   "outputs": [
    {
     "name": "stdout",
     "output_type": "stream",
     "text": [
      " 201802080054000.000000.0000000.00  0.00 0.0\n",
      " EGC    0.0   0   0  54 23.64  .00 0.00 24.63  .00 0.00  .00  .00  .00  .00\n",
      " ENA    0.0   0   0  54 26.88  .00 0.00 27.94  .00 0.00  .00  .00  .00  .00\n",
      " EHY    0.0   0   0  54 27.27  .00 0.00  0.00  .00 0.00  .00  .00  .00  .00\n",
      " ESL    0.0   0   0  54 21.54  .00 0.00 24.82  .00 0.00  .00  .00  .00  .00\n",
      " ETL    0.0   0   0  54 12.84  .00 0.00 15.57  .00 0.00  .00  .00  .00  .00\n",
      " ENT    0.0   0   0  54  0.96  .00 0.00 13.09  .00 0.00  .00  .00  .00  .00\n",
      " ETM    0.0   0   0  54 19.78  .00 0.00 21.72  .00 0.00  .00  .00  .00  .00\n",
      " ETL    0.0   0   0  54 21.62  .00 0.00 24.77  .00 0.00  .00  .00  .00  .00\n",
      " HWA    0.0   0   0  54 19.32  .00 0.00 21.91  .00 0.00  .00  .00  .00  .00\n",
      " NNS    0.0   0   0  54 27.86  .00 0.00  0.00  .00 0.00  .00  .00  .00  .00\n",
      " NTY    0.0   0   0  54 10.23  .00 0.00  0.00  .00 0.00  .00  .00  .00  .00\n",
      " TWD    0.0   0   0  54 20.28  .00 0.00 22.89  .00 0.00  .00  .00  .00  .00\n",
      " TWD    0.0   0   0  54 11.47  .00 0.00 13.59  .00 0.00  .00  .00  .00  .00\n",
      " TWT    0.0   0   0  54 27.47  .00 0.00  0.00  .00 0.00  .00  .00  .00  .00\n",
      " TYC    0.0   0   0  54  0.91  .00 0.00  0.00  .00 0.00  .00  .00  .00  .00\n",
      " WHF    0.0   0   0  54 24.51  .00 0.00  0.00  .00 0.00  .00  .00  .00  .00\n",
      " WHF    0.0   0   0  54 16.05  .00 0.00  0.57  .00 0.00  .00  .00  .00  .00\n",
      " WPL    0.0   0   0  54 29.39  .00 0.00  0.00  .00 0.00  .00  .00  .00  .00\n",
      " WTP    0.0   0   0  54 10.16  .00 0.00  0.00  .00 0.00  .00  .00  .00  .00\n"
     ]
    }
   ],
   "source": [
    "#-------------------------------- Final \n",
    "ddata = data[0]\n",
    "ddata = ddata.strip()\n",
    "#--------------------------------------------------------------\n",
    "# 取得測站名稱及資料起始時間\n",
    "tmp1 = ddata.split(\",\")[0]\n",
    "sta = tmp1.split(\"-\")[0]\n",
    "yr = 2018\n",
    "mo = 2\n",
    "dy = 8\n",
    "hr = 0\n",
    "mn = 54\n",
    "se = 0\n",
    "segment = tmp1.split(\"-\")[1]\n",
    "#--------------------------------------------------------------\n",
    "# 製作 Pfile 的 header\n",
    "header_str = f\" {yr:4d}{mo:02d}{dy:02d}{hr:02d}{mn:02d}{se:02d}0.000000.0000000.00  0.00 0.0\"\n",
    "print(header_str)\n",
    "#--------------------------------------------------------------\n",
    "\n",
    "\n",
    "\n",
    "for ddata in data:\n",
    "#if 2>1:\n",
    "    ddata = ddata.strip()\n",
    "\n",
    "    P_sec=[]\n",
    "    P_pro=[]\n",
    "    S_sec=[]\n",
    "    S_pro=[]\n",
    "#--------------------------------------------------------------\n",
    "# 取得測站名稱及資料起始時間\n",
    "    tmp1 = ddata.split(\",\")[0]\n",
    "    sta = tmp1.split(\"-\")[0]\n",
    "    yr = 2018\n",
    "    mo = 2\n",
    "    dy = 8\n",
    "    hr = 0\n",
    "    mn = 54\n",
    "    se = 0\n",
    "    segment = tmp1.split(\"-\")[1]    \n",
    "    \n",
    "#--------------------------------------------------------------\n",
    "# 取得 P 波到時 \n",
    "    tmp1 = ddata.split(\",\")[1]\n",
    "    if tmp1!=\"[]\":\n",
    "        tmp2 = tmp1.strip(\"[]\").split()\n",
    "        \n",
    "        for i in tmp2:\n",
    "            P_sec.append(int( i.strip(\"[]\") ) / 100.0 + int(se))\n",
    "    else:\n",
    "        P_sec=[0.00]\n",
    "\n",
    "#--------------------------------------------------------------\n",
    "# 取得 P 波到時機率\n",
    "    tmp1 = ddata.split(\",\")[2]\n",
    "    if tmp1!=\"[]\":\n",
    "        tmp2 = tmp1.strip(\"[]\").split()\n",
    "        \n",
    "        for i in tmp2:\n",
    "            P_pro.append( float( i ) )\n",
    "    else:\n",
    "        P_pro=[0.00]\n",
    "#--------------------------------------------------------------    \n",
    "# 取得 S 波到時 \n",
    "    tmp1 = ddata.split(\",\")[3]\n",
    "    if tmp1!=\"[]\":\n",
    "        tmp2 = tmp1.strip(\"[]\").split()\n",
    "        \n",
    "        for i in tmp2:\n",
    "            S_sec.append(int( i.strip(\"[]\") ) / 100.0 + int(se))\n",
    "    else:\n",
    "        S_sec=[0.00]\n",
    "#--------------------------------------------------------------\n",
    "# 取得 S 波到時機率\n",
    "    tmp1 = ddata.split(\",\")[4]\n",
    "    if tmp1!=\"[]\":\n",
    "        tmp2 = tmp1.strip(\"[]\").split()\n",
    "        \n",
    "        for i in tmp2:\n",
    "            S_pro.append( float( i ) )\n",
    "    else:\n",
    "        S_pro=[0.00]\n",
    "#--------------------------------------------------------------\n",
    "    ss1 = f\"{sta}-{yr}-{mo}-{dy}-{hr}-{mn}-{se}-{segment}\"\n",
    "    ss2 = f\"{P_sec}-{P_pro}-{S_sec}-{S_pro}\"\n",
    "    #print(ss1)\n",
    "    #print(ss2)\n",
    "#--------------------------------------------------------------\n",
    "\n",
    "#--------------------------------------------------------------\n",
    "#--------------------------------------------------------------\n",
    "# 製作 Pfile 的 station picking 資料\n",
    "#    n=len(P_sec)\n",
    "#    if n>1:\n",
    "#        for i in range(n):\n",
    "#            sta_pick = f\" {sta:4s}    0.0   0   0  {mn:02d} {P_sec[i]:5.2f}  .00 0.00 {S_sec[i]:5.2f}  .00 0.00  .00  .00  .00  .00\"\n",
    "#            print(sta_pick)\n",
    "#    else:\n",
    "#        sta_pick = f\" {sta:4s}    0.0   0   0  {mn:02d} {P_sec[0]:5.2f}  .00 0.00 {S_sec[0]:5.2f}  .00 0.00  .00  .00  .00  .00\"\n",
    "#        print(sta_pick)\n",
    "    if P_sec[0]>0.0 and P_pro[0]>0.8:\n",
    "        sta_pick = f\" {sta:4s}   0.0   0   0  {mn:02d} {P_sec[0]:5.2f}  .00 0.00 {S_sec[0]:5.2f}  .00 0.00  .00  .00  .00  .00\"\n",
    "        print(sta_pick)\n",
    "#--------------------------------------------------------------\n"
   ]
  },
  {
   "cell_type": "code",
   "execution_count": null,
   "metadata": {},
   "outputs": [],
   "source": []
  },
  {
   "cell_type": "code",
   "execution_count": 70,
   "metadata": {},
   "outputs": [
    {
     "name": "stdout",
     "output_type": "stream",
     "text": [
      "Creating 02080054.phn\n",
      " 201802080054000.000000.0000000.00  0.00 0.0\n",
      " EGC    0.0   0   0  54 23.64  .00 0.00 24.63  .00 0.00  .00  .00  .00  .00\n",
      " ENA    0.0   0   0  54 26.88  .00 0.00 27.94  .00 0.00  .00  .00  .00  .00\n",
      " EHY    0.0   0   0  54 27.27  .00 0.00  0.00  .00 0.00  .00  .00  .00  .00\n",
      " ESL    0.0   0   0  54 21.54  .00 0.00 24.82  .00 0.00  .00  .00  .00  .00\n",
      " ETL    0.0   0   0  54 12.84  .00 0.00 15.57  .00 0.00  .00  .00  .00  .00\n",
      " ENT    0.0   0   0  54  0.96  .00 0.00 13.09  .00 0.00  .00  .00  .00  .00\n",
      " ETM    0.0   0   0  54 19.78  .00 0.00 21.72  .00 0.00  .00  .00  .00  .00\n",
      " ETL    0.0   0   0  54 21.62  .00 0.00 24.77  .00 0.00  .00  .00  .00  .00\n",
      " HWA    0.0   0   0  54 19.32  .00 0.00 21.91  .00 0.00  .00  .00  .00  .00\n",
      " NNS    0.0   0   0  54 27.86  .00 0.00  0.00  .00 0.00  .00  .00  .00  .00\n",
      " NTY    0.0   0   0  54 10.23  .00 0.00  0.00  .00 0.00  .00  .00  .00  .00\n",
      " TWD    0.0   0   0  54 20.28  .00 0.00 22.89  .00 0.00  .00  .00  .00  .00\n",
      " TWD    0.0   0   0  54 11.47  .00 0.00 13.59  .00 0.00  .00  .00  .00  .00\n",
      " TWT    0.0   0   0  54 27.47  .00 0.00  0.00  .00 0.00  .00  .00  .00  .00\n",
      " TYC    0.0   0   0  54  0.91  .00 0.00  0.00  .00 0.00  .00  .00  .00  .00\n",
      " WHF    0.0   0   0  54 24.51  .00 0.00  0.00  .00 0.00  .00  .00  .00  .00\n",
      " WHF    0.0   0   0  54 16.05  .00 0.00  0.57  .00 0.00  .00  .00  .00  .00\n",
      " WPL    0.0   0   0  54 29.39  .00 0.00  0.00  .00 0.00  .00  .00  .00  .00\n",
      " WTP    0.0   0   0  54 10.16  .00 0.00  0.00  .00 0.00  .00  .00  .00  .00\n"
     ]
    }
   ],
   "source": [
    "#-------------------------------- Final \n",
    "ddata = data[0]\n",
    "ddata = ddata.strip()\n",
    "#--------------------------------------------------------------\n",
    "# 取得測站名稱及資料起始時間\n",
    "tmp1 = ddata.split(\",\")[0]\n",
    "sta = tmp1.split(\"-\")[0]\n",
    "yr = 2018\n",
    "mo = 2\n",
    "dy = 8\n",
    "hr = 0\n",
    "mn = 54\n",
    "se = 0\n",
    "segment = tmp1.split(\"-\")[1]\n",
    "\n",
    "pfname = f\"{mo:02d}{dy:02d}{hr:02d}{mn:02d}.phn\"\n",
    "print(\"Creating \"+pfname)\n",
    "\n",
    "with open(pfname,\"w\") as fp:   \n",
    "#--------------------------------------------------------------\n",
    "# 製作 Pfile 的 header\n",
    "    header_str = f\" {yr:4d}{mo:02d}{dy:02d}{hr:02d}{mn:02d}{se:02d}0.000000.0000000.00  0.00 0.0\"\n",
    "    print(header_str)\n",
    "    fp.write(header_str+\"\\n\")\n",
    "#--------------------------------------------------------------\n",
    "    for ddata in data:\n",
    "#if 2>1:\n",
    "        ddata = ddata.strip()\n",
    "        P_sec=[]\n",
    "        P_pro=[]\n",
    "        S_sec=[]\n",
    "        S_pro=[]\n",
    "#--------------------------------------------------------------\n",
    "# 取得測站名稱及資料起始時間\n",
    "        tmp1 = ddata.split(\",\")[0]\n",
    "        sta = tmp1.split(\"-\")[0]\n",
    "        yr = 2018\n",
    "        mo = 2\n",
    "        dy = 8\n",
    "        hr = 0\n",
    "        mn = 54\n",
    "        se = 0\n",
    "        segment = tmp1.split(\"-\")[1]        \n",
    "#--------------------------------------------------------------\n",
    "# 取得 P 波到時 \n",
    "        tmp1 = ddata.split(\",\")[1]\n",
    "        if tmp1!=\"[]\":\n",
    "            tmp2 = tmp1.strip(\"[]\").split()\n",
    "        \n",
    "            for i in tmp2:\n",
    "                if segment==1:\n",
    "                    P_sec.append(int( i.strip(\"[]\") ) / 100.0 + int(se)+30)\n",
    "                else:\n",
    "                    P_sec.append(int( i.strip(\"[]\") ) / 100.0 + int(se))\n",
    "        else:\n",
    "            P_sec=[0.00]\n",
    "#--------------------------------------------------------------\n",
    "# 取得 P 波到時機率\n",
    "        tmp1 = ddata.split(\",\")[2]\n",
    "        if tmp1!=\"[]\":\n",
    "            tmp2 = tmp1.strip(\"[]\").split()\n",
    "        \n",
    "            for i in tmp2:\n",
    "                P_pro.append( float( i ) )\n",
    "        else:\n",
    "            P_pro=[0.00]\n",
    "#--------------------------------------------------------------    \n",
    "# 取得 S 波到時 \n",
    "        tmp1 = ddata.split(\",\")[3]\n",
    "        if tmp1!=\"[]\":\n",
    "            tmp2 = tmp1.strip(\"[]\").split()\n",
    "        \n",
    "            for i in tmp2:\n",
    "                S_sec.append(int( i.strip(\"[]\") ) / 100.0 + int(se))\n",
    "        else:\n",
    "            S_sec=[0.00]\n",
    "#--------------------------------------------------------------\n",
    "# 取得 S 波到時機率\n",
    "        tmp1 = ddata.split(\",\")[4]\n",
    "        if tmp1!=\"[]\":\n",
    "            tmp2 = tmp1.strip(\"[]\").split()\n",
    "        \n",
    "            for i in tmp2:\n",
    "                S_pro.append( float( i ) )\n",
    "        else:\n",
    "            S_pro=[0.00]\n",
    "#--------------------------------------------------------------\n",
    "        ss1 = f\"{sta}-{yr}-{mo}-{dy}-{hr}-{mn}-{se}-{segment}\"\n",
    "        ss2 = f\"{P_sec}-{P_pro}-{S_sec}-{S_pro}\"\n",
    "#--------------------------------------------------------------\n",
    "# 製作 Pfile 的 station picking 資料\n",
    "#    n=len(P_sec)\n",
    "#    if n>1:\n",
    "#        for i in range(n):\n",
    "#            sta_pick = f\" {sta:4s}    0.0   0   0  {mn:02d} {P_sec[i]:5.2f}  .00 0.00 {S_sec[i]:5.2f}  .00 0.00  .00  .00  .00  .00\"\n",
    "#            print(sta_pick)\n",
    "#    else:\n",
    "#        sta_pick = f\" {sta:4s}    0.0   0   0  {mn:02d} {P_sec[0]:5.2f}  .00 0.00 {S_sec[0]:5.2f}  .00 0.00  .00  .00  .00  .00\"\n",
    "#        print(sta_pick)\n",
    "        if P_sec[0]>0.0 and P_pro[0]>0.8:\n",
    "            sta_pick = f\" {sta:4s}   0.0   0   0  {mn:02d} {P_sec[0]:5.2f}  .00 0.00 {S_sec[0]:5.2f}  .00 0.00  .00  .00  .00  .00\"\n",
    "            print(sta_pick)\n",
    "            fp.write(sta_pick+\"\\n\")\n",
    "#--------------------------------------------------------------\n",
    "\n"
   ]
  },
  {
   "cell_type": "code",
   "execution_count": null,
   "metadata": {},
   "outputs": [],
   "source": []
  },
  {
   "cell_type": "code",
   "execution_count": null,
   "metadata": {},
   "outputs": [],
   "source": []
  }
 ],
 "metadata": {
  "kernelspec": {
   "display_name": "Python 3",
   "language": "python",
   "name": "python3"
  },
  "language_info": {
   "codemirror_mode": {
    "name": "ipython",
    "version": 3
   },
   "file_extension": ".py",
   "mimetype": "text/x-python",
   "name": "python",
   "nbconvert_exporter": "python",
   "pygments_lexer": "ipython3",
   "version": "3.7.6"
  }
 },
 "nbformat": 4,
 "nbformat_minor": 4
}
