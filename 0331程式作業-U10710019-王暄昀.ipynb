{
 "cells": [
  {
   "cell_type": "code",
   "execution_count": 1,
   "metadata": {},
   "outputs": [],
   "source": [
    "fp = open(\"nsta24.dat\",\"r\")\n",
    "ss=fp.readlines()\n",
    "fp.close()"
   ]
  },
  {
   "cell_type": "code",
   "execution_count": 6,
   "metadata": {},
   "outputs": [],
   "source": [
    "y=[]\n",
    "fp = open(\"U10710019.Y.txt\",\"w\")\n",
    "\n",
    "for i in ss:\n",
    "    res1=i.find(\"CWB\")\n",
    "    res2=i.find(\"FBA\")\n",
    "    res3=i.find(\"99999999\")\n",
    "    if res1 >-1 and res2>-1 and res3>-1:\n",
    "        res1=i.split()\n",
    "        lon=res1[1]\n",
    "        lat=res1[2]\n",
    "        tmp=str(lon)+\" \"+str(lat)\n",
    "        tmp1=str(lon)+\" \"+str(lat)+\"\\n\"\n",
    "        y.append(tmp)\n",
    "        fp.write(tmp1)\n",
    "fp.close()"
   ]
  },
  {
   "cell_type": "code",
   "execution_count": 7,
   "metadata": {},
   "outputs": [],
   "source": [
    "r=[]\n",
    "fp = open(\"U10710019.R.txt\",\"w\")\n",
    "\n",
    "for i in ss:\n",
    "    res1=i.find(\"IES\")\n",
    "    res2=i.find(\"BB\")\n",
    "    res3=i.find(\"99999999\")\n",
    "    if res1 >-1 and res2>-1 and res3>-1:\n",
    "        res1=i.split()\n",
    "        lon=res1[1]\n",
    "        lat=res1[2]\n",
    "        tmp=str(lon)+\" \"+str(lat)\n",
    "        tmp1=str(lon)+\" \"+str(lat)+\"\\n\"\n",
    "        r.append(tmp)\n",
    "        fp.write(tmp1)\n",
    "fp.close()"
   ]
  },
  {
   "cell_type": "code",
   "execution_count": 24,
   "metadata": {},
   "outputs": [
    {
     "name": "stdout",
     "output_type": "stream",
     "text": [
      "儀器停用時間為99999999，儀器所屬單位為CWB，儀器種類為FBA的測站數量為:229\n"
     ]
    }
   ],
   "source": [
    "print(\"儀器停用時間為99999999，儀器所屬單位為CWB，儀器種類為FBA的測站數量為:\"+str(len(y)))"
   ]
  },
  {
   "cell_type": "code",
   "execution_count": 25,
   "metadata": {},
   "outputs": [
    {
     "name": "stdout",
     "output_type": "stream",
     "text": [
      "儀器停用時間為99999999，儀器所屬單位為IES，儀器種類為BB的測站數量為:54\n"
     ]
    }
   ],
   "source": [
    "print(\"儀器停用時間為99999999，儀器所屬單位為IES，儀器種類為BB的測站數量為:\"+str(len(r)))"
   ]
  },
  {
   "cell_type": "code",
   "execution_count": null,
   "metadata": {},
   "outputs": [],
   "source": []
  }
 ],
 "metadata": {
  "kernelspec": {
   "display_name": "Python 3",
   "language": "python",
   "name": "python3"
  },
  "language_info": {
   "codemirror_mode": {
    "name": "ipython",
    "version": 3
   },
   "file_extension": ".py",
   "mimetype": "text/x-python",
   "name": "python",
   "nbconvert_exporter": "python",
   "pygments_lexer": "ipython3",
   "version": "3.7.3"
  }
 },
 "nbformat": 4,
 "nbformat_minor": 2
}
