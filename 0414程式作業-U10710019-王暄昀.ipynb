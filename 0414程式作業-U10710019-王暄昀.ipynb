{
 "cells": [
  {
   "cell_type": "code",
   "execution_count": 1,
   "metadata": {},
   "outputs": [],
   "source": [
    "from obspy import read, read_inventory\n",
    "import numpy as np\n",
    "%matplotlib inline\n",
    "import pandas as pd "
   ]
  },
  {
   "cell_type": "code",
   "execution_count": 2,
   "metadata": {},
   "outputs": [
    {
     "name": "stdout",
     "output_type": "stream",
     "text": [
      "Delta =  101.04905488562336\n",
      "Azimuth =  -48.21651137710725\n",
      "Back_Azimuth =  154.99143292771993\n"
     ]
    }
   ],
   "source": [
    "colatE = 90-(-60.3783)\n",
    "lonE = -46.5876\n",
    "colatS = 90-29.33\n",
    "lonS = -103.67\n",
    "\n",
    "X = np.cos(colatE*np.pi/180)*np.cos(colatS*np.pi/180)+np.sin(colatE*np.pi/180)*np.sin(colatS*np.pi/180)*np.cos((lonS-lonE)*np.pi/180)\n",
    "Delta = np.arccos(X) * 180/np.pi\n",
    "print(\"Delta = \",Delta)\n",
    "\n",
    "\n",
    "YY = np.sin(colatS*np.pi/180)*np.sin((lonS-lonE)*np.pi/180)\n",
    "XX = np.cos(colatS*np.pi/180)*np.sin(colatE*np.pi/180)-np.sin(colatS*np.pi/180)*np.cos(colatE*np.pi/180)*np.cos((lonS-lonE)*np.pi/180)\n",
    "Azimuth = np.arctan(YY/XX) * 180 / np.pi\n",
    "print(\"Azimuth = \",Azimuth)\n",
    "\n",
    "YY = np.sin(colatE*np.pi/180)*np.sin((lonE-lonS)*np.pi/180)\n",
    "XX = np.cos(colatE*np.pi/180)*np.sin(colatS*np.pi/180)-np.sin(colatE*np.pi/180)*np.cos(colatS*np.pi/180)*np.cos((lonE-lonS)*np.pi/180)\n",
    "Back_Azimuth = np.arctan(YY/XX) * 180 / np.pi + 180\n",
    "print(\"Back_Azimuth = \",Back_Azimuth)"
   ]
  },
  {
   "cell_type": "code",
   "execution_count": 3,
   "metadata": {
    "scrolled": true
   },
   "outputs": [
    {
     "name": "stderr",
     "output_type": "stream",
     "text": [
      "C:\\ProgramData\\Anaconda3\\lib\\site-packages\\obspy\\io\\stationxml\\core.py:84: UserWarning: The StationXML file has version 1.1, ObsPy can deal with version 1.0. Proceed with caution.\n",
      "  root.attrib[\"schemaVersion\"], SCHEMA_VERSION))\n"
     ]
    }
   ],
   "source": [
    "st1 = read(\"2013-11-17-mw78-scotia-sea.miniseed\",format=\"MSEED\")\n",
    "inv = read_inventory(\"fdsn-station_2020-04-21T04_26_12.xml\")"
   ]
  },
  {
   "cell_type": "code",
   "execution_count": 4,
   "metadata": {},
   "outputs": [
    {
     "data": {
      "text/plain": [
       "422"
      ]
     },
     "execution_count": 4,
     "metadata": {},
     "output_type": "execute_result"
    }
   ],
   "source": [
    "st1[2][0]"
   ]
  },
  {
   "cell_type": "code",
   "execution_count": 5,
   "metadata": {},
   "outputs": [],
   "source": [
    "plotN=st1[1]"
   ]
  },
  {
   "cell_type": "code",
   "execution_count": 6,
   "metadata": {},
   "outputs": [],
   "source": [
    "plotZ=st1[2]"
   ]
  },
  {
   "cell_type": "code",
   "execution_count": 7,
   "metadata": {},
   "outputs": [],
   "source": [
    "x = np.arange(0,len(plotZ.data))/plotZ.stats.sampling_rate"
   ]
  },
  {
   "cell_type": "code",
   "execution_count": 8,
   "metadata": {},
   "outputs": [
    {
     "data": {
      "text/plain": [
       "array([0.000000e+00, 2.500000e-02, 5.000000e-02, ..., 5.459925e+03,\n",
       "       5.459950e+03, 5.459975e+03])"
      ]
     },
     "execution_count": 8,
     "metadata": {},
     "output_type": "execute_result"
    }
   ],
   "source": [
    "x"
   ]
  },
  {
   "cell_type": "code",
   "execution_count": 9,
   "metadata": {},
   "outputs": [
    {
     "ename": "NameError",
     "evalue": "name 'plotE' is not defined",
     "output_type": "error",
     "traceback": [
      "\u001b[1;31m---------------------------------------------------------------------------\u001b[0m",
      "\u001b[1;31mNameError\u001b[0m                                 Traceback (most recent call last)",
      "\u001b[1;32m<ipython-input-9-2e5e968477d4>\u001b[0m in \u001b[0;36m<module>\u001b[1;34m\u001b[0m\n\u001b[1;32m----> 1\u001b[1;33m \u001b[0mdata\u001b[0m\u001b[1;33m=\u001b[0m\u001b[0mnp\u001b[0m\u001b[1;33m.\u001b[0m\u001b[0mvstack\u001b[0m\u001b[1;33m(\u001b[0m\u001b[1;33m(\u001b[0m\u001b[0mx\u001b[0m\u001b[1;33m,\u001b[0m\u001b[0mplotE\u001b[0m\u001b[1;33m.\u001b[0m\u001b[0mdata\u001b[0m\u001b[1;33m[\u001b[0m\u001b[1;36m0\u001b[0m\u001b[1;33m:\u001b[0m\u001b[1;36m218400\u001b[0m\u001b[1;33m]\u001b[0m\u001b[1;33m,\u001b[0m\u001b[0mplotN\u001b[0m\u001b[1;33m.\u001b[0m\u001b[0mdata\u001b[0m\u001b[1;33m[\u001b[0m\u001b[1;36m0\u001b[0m\u001b[1;33m:\u001b[0m\u001b[1;36m218400\u001b[0m\u001b[1;33m]\u001b[0m\u001b[1;33m,\u001b[0m\u001b[0mplotZ\u001b[0m\u001b[1;33m.\u001b[0m\u001b[0mdata\u001b[0m\u001b[1;33m)\u001b[0m\u001b[1;33m)\u001b[0m\u001b[1;33m.\u001b[0m\u001b[0mT\u001b[0m\u001b[1;33m\u001b[0m\u001b[1;33m\u001b[0m\u001b[0m\n\u001b[0m",
      "\u001b[1;31mNameError\u001b[0m: name 'plotE' is not defined"
     ]
    }
   ],
   "source": [
    "data=np.vstack((x,plotE.data[0:218400],plotN.data[0:218400],plotZ.data)).T"
   ]
  },
  {
   "cell_type": "code",
   "execution_count": null,
   "metadata": {},
   "outputs": [],
   "source": [
    "aa = pd.DataFrame(data,columns=[\"x\",\"EW\",\"NS\",\"vertical\"])"
   ]
  },
  {
   "cell_type": "code",
   "execution_count": null,
   "metadata": {},
   "outputs": [],
   "source": [
    "aa[[\"x\",\"EW\"]].to_csv(\"plotE.txt\",sep=\" \",header=None, index=None)\n",
    "aa[[\"x\",\"NS\"]].to_csv(\"plotN.txt\",sep=\" \",header=None, index=None)\n",
    "aa[[\"x\",\"vertical\"]].to_csv(\"plotZ.txt\",sep=\" \",header=None, index=None)"
   ]
  },
  {
   "cell_type": "code",
   "execution_count": null,
   "metadata": {},
   "outputs": [],
   "source": [
    "with open(\"plot.bat\",\"w\") as fp:\n",
    "    \n",
    "    Xmin = aa.x.min()\n",
    "    Xmax = aa.x.max()\n",
    "    X_space = ( aa.x.max() - aa.x.min() )/10\n",
    "    Y_size = 5    \n",
    "    \n",
    "    Ymin = aa.vertical.min()\n",
    "    Ymax = aa.vertical.max()\n",
    "    Y_space = int(( aa.vertical.max() - aa.vertical.min() )/5)\n",
    "    GMT = f\"psxy plotZ.txt -JX25/{Y_size} -R{Xmin}/{Xmax}/{Ymin}/{Ymax} -B{X_space}/{Y_space}WESn -W1 -V -K > plotZNE-U10710019.ps \\n\"\n",
    "    fp.write(GMT)\n",
    "    GMT = f\"echo {X_space*0.5}  {Y_space*1.8}  Z > legend-ZNE.txt \\n\"\n",
    "    fp.write(GMT)\n",
    "    GMT = f\"pstext legend-ZNE.txt -JX -R -B -V -K -O >> plotZNE-U10710019.ps \\n\"\n",
    "    fp.write(GMT)\n",
    "  \n",
    "    Ymin = aa.NS.min()\n",
    "    Ymax = aa.NS.max()\n",
    "    Y_space = int(( aa.NS.max() - aa.NS.min() )/5)\n",
    "    GMT = f\"psxy plotN.txt -JX25/{Y_size} -R{Xmin}/{Xmax}/{Ymin}/{Ymax} -B{X_space}/{Y_space}WEsn -W1 -V -Y{Y_size+0.5} -K -O >> plotZNE-U10710019.ps \\n\"\n",
    "    fp.write(GMT)\n",
    "    GMT = f\"echo {X_space*0.5}  {Y_space*1.8} N > legend-ZNE.txt \\n\"\n",
    "    fp.write(GMT)\n",
    "    GMT = f\"pstext legend-ZNE.txt -JX -R -B -V -K -O >> plotZNE-U10710019.ps \\n\"\n",
    "    fp.write(GMT)\n",
    "    \n",
    "    Ymin = aa.EW.min()\n",
    "    Ymax = aa.EW.max()    \n",
    "    Y_space = int(( aa.EW.max() - aa.EW.min() )/5)\n",
    "    GMT = f\"psxy plotE.txt -JX25/{Y_size} -R{Xmin}/{Xmax}/{Ymin}/{Ymax} -B{X_space}/{Y_space}WEsn -W1 -V -Y{Y_size+0.5} -K -O >> plotZNE-U10710019.ps \\n\"\n",
    "    fp.write(GMT)\n",
    "    GMT = f\"echo {X_space*0.5}  {Y_space*1.8}  E > legend.txt \\n\"\n",
    "    fp.write(GMT)\n",
    "    GMT = f\"pstext legend.txt -JX -R -B -V -O >> plotZNE-U10710019.ps \\n\"\n",
    "    fp.write(GMT)\n",
    "    \n",
    "    fp.write(\"psconvert plotZNE-U10710019.ps \\n\")\n",
    "    fp.write(\"plotZNE-U10710019.jpg\")"
   ]
  },
  {
   "cell_type": "code",
   "execution_count": null,
   "metadata": {},
   "outputs": [],
   "source": [
    "st2=st1.rotate(method=\"NE->RT\", inventory=inv, back_azimuth=154.99143292771993) "
   ]
  },
  {
   "cell_type": "code",
   "execution_count": null,
   "metadata": {},
   "outputs": [],
   "source": [
    "transverse = st2[0]"
   ]
  },
  {
   "cell_type": "code",
   "execution_count": null,
   "metadata": {},
   "outputs": [],
   "source": [
    "radial = st2[1]"
   ]
  },
  {
   "cell_type": "code",
   "execution_count": null,
   "metadata": {},
   "outputs": [],
   "source": [
    "vertical = st2[2]"
   ]
  },
  {
   "cell_type": "code",
   "execution_count": null,
   "metadata": {},
   "outputs": [],
   "source": [
    "x = np.arange(0,len(vertical.data))/vertical.stats.sampling_rate"
   ]
  },
  {
   "cell_type": "code",
   "execution_count": null,
   "metadata": {},
   "outputs": [],
   "source": [
    "data=np.vstack((x,radial.data[0:218400],transverse.data[0:218400],vertical.data)).T"
   ]
  },
  {
   "cell_type": "code",
   "execution_count": null,
   "metadata": {},
   "outputs": [],
   "source": [
    "dd = pd.DataFrame(data,columns=[\"x\",\"radial\",\"transverse\",\"vertical\"])"
   ]
  },
  {
   "cell_type": "code",
   "execution_count": null,
   "metadata": {},
   "outputs": [],
   "source": [
    "dd"
   ]
  },
  {
   "cell_type": "code",
   "execution_count": null,
   "metadata": {},
   "outputs": [],
   "source": [
    "dd[[\"x\",\"radial\"]].to_csv(\"radial.txt\",sep=\" \",header=None, index=None)\n",
    "dd[[\"x\",\"transverse\"]].to_csv(\"transverse.txt\",sep=\" \",header=None, index=None)\n",
    "dd[[\"x\",\"vertical\"]].to_csv(\"vertical.txt\",sep=\" \",header=None, index=None)"
   ]
  },
  {
   "cell_type": "code",
   "execution_count": null,
   "metadata": {},
   "outputs": [],
   "source": [
    "with open(\"plot_surface_wave.bat\",\"w\") as fp:\n",
    "    \n",
    "    Xmin = dd.x.min()\n",
    "    Xmax = dd.x.max()\n",
    "    X_space = ( dd.x.max() - dd.x.min() )/10\n",
    "    Y_size = 5\n",
    "    \n",
    "    \n",
    "    Ymin = dd.vertical.min()\n",
    "    Ymax = dd.vertical.max()\n",
    "    Y_space = int(( dd.vertical.max() - dd.vertical.min() )/5)\n",
    "    GMT = f\"psxy vertical.txt -JX25/{Y_size} -R{Xmin}/{Xmax}/{Ymin}/{Ymax} -B{X_space}/{Y_space}WESn -W1 -V -K > plotZRT-U10710019.ps \\n\"\n",
    "    fp.write(GMT)\n",
    "    GMT = f\"echo {X_space*0.5}  {Y_space*1.8}  Vertical > legend.txt \\n\"\n",
    "    fp.write(GMT)\n",
    "    GMT = f\"pstext legend.txt -JX -R -B -V -K -O >> plotZRT-U10710019.ps \\n\"\n",
    "    fp.write(GMT)\n",
    "    \n",
    "  \n",
    "    Ymin = dd.transverse.min()\n",
    "    Ymax = dd.transverse.max()    \n",
    "    Y_space = int(( dd.transverse.max() - dd.transverse.min() )/5)\n",
    "    GMT = f\"psxy transverse.txt -JX25/{Y_size} -R{Xmin}/{Xmax}/{Ymin}/{Ymax} -B{X_space}/{Y_space}WEsn -W1 -V -Y{Y_size+0.5} -K -O >> plotZRT-U10710019.ps \\n\"\n",
    "    fp.write(GMT)\n",
    "    GMT = f\"echo {X_space*0.5}  {Y_space*1.8}  Transverse > legend.txt \\n\"\n",
    "    fp.write(GMT)\n",
    "    GMT = f\"pstext legend.txt -JX -R -B -V -K -O >> plotZRT-U10710019.ps \\n\"\n",
    "    fp.write(GMT)\n",
    "    \n",
    "    Ymin = dd.radial.min()\n",
    "    Ymax = dd.radial.max()    \n",
    "    Y_space = int(( dd.radial.max() - dd.radial.min() )/5)\n",
    "    GMT = f\"psxy radial.txt -JX25/{Y_size} -R{Xmin}/{Xmax}/{Ymin}/{Ymax} -B{X_space}/{Y_space}WEsn -W1 -V -Y{Y_size+0.5} -K -O >> plotZRT-U10710019.ps \\n\"\n",
    "    fp.write(GMT)\n",
    "    GMT = f\"echo {X_space*0.5}  {Y_space*1.8}  Radial > legend.txt \\n\"\n",
    "    fp.write(GMT)\n",
    "    GMT = f\"pstext legend.txt -JX -R -B -V -O >> plotZRT-U10710019.ps \\n\"\n",
    "    fp.write(GMT)\n",
    "    \n",
    "    fp.write(\"psconvert plotZRT-U10710019.ps \\n\")\n",
    "    fp.write(\"plotZRT-U10710019.jpg\")"
   ]
  },
  {
   "cell_type": "code",
   "execution_count": null,
   "metadata": {},
   "outputs": [],
   "source": [
    "os.system(\"plot.bat\")\n",
    "os.system(\"plot_surface_wave.bat\")"
   ]
  },
  {
   "cell_type": "code",
   "execution_count": null,
   "metadata": {},
   "outputs": [],
   "source": []
  },
  {
   "cell_type": "code",
   "execution_count": null,
   "metadata": {},
   "outputs": [],
   "source": []
  }
 ],
 "metadata": {
  "kernelspec": {
   "display_name": "Python 3",
   "language": "python",
   "name": "python3"
  },
  "language_info": {
   "codemirror_mode": {
    "name": "ipython",
    "version": 3
   },
   "file_extension": ".py",
   "mimetype": "text/x-python",
   "name": "python",
   "nbconvert_exporter": "python",
   "pygments_lexer": "ipython3",
   "version": "3.7.3"
  }
 },
 "nbformat": 4,
 "nbformat_minor": 2
}
