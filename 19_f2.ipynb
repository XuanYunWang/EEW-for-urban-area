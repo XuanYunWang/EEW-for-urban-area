{
 "cells": [
  {
   "cell_type": "code",
   "execution_count": 4,
   "metadata": {},
   "outputs": [],
   "source": [
    "def write_waveform(st1):\n",
    "    x = np.arange(0,len(st1[2].data))/st1[2].stats.sampling_rate\n",
    "    for i in st1:\n",
    "        if i.stats.channel[-1]==\"R\":\n",
    "            tmp=np.vstack((x,i.data[0:218400])).T\n",
    "            np.savetxt(\"R.txt\",tmp,delimiter=\" \")\n",
    "            print(\"Write Radial data ... Genterating R.txt ...\")\n",
    "    \n",
    "        if i.stats.channel[-1]==\"T\":\n",
    "            tmp=np.vstack((x,i.data[0:218400])).T\n",
    "            np.savetxt(\"T.txt\",tmp,delimiter=\" \")\n",
    "            print(\"Write Transverse data ... Genterating T.txt ...\")\n",
    "    \n",
    "        if i.stats.channel[-1]==\"Z\":\n",
    "            tmp=np.vstack((x,i.data)).T\n",
    "            np.savetxt(\"Z.txt\",tmp,delimiter=\" \")\n",
    "            print(\"Write Vertical data ... Genterating Z.txt ...\")\n",
    "            \n",
    "        if i.stats.channel[-1]==\"N\":\n",
    "            tmp=np.vstack((x,i.data[0:218400])).T\n",
    "            np.savetxt(\"N.txt\",tmp,delimiter=\" \")\n",
    "            print(\"Write North-South data ... Genterating  N.txt ...\")\n",
    "            \n",
    "        if i.stats.channel[-1]==\"E\":\n",
    "            tmp=np.vstack((x,i.data[0:218400])).T\n",
    "            np.savetxt(\"E.txt\",tmp,delimiter=\" \")\n",
    "            print(\"Write East-West data ... Genterating E.txt ...\")\n"
   ]
  },
  {
   "cell_type": "code",
   "execution_count": 3,
   "metadata": {},
   "outputs": [],
   "source": [
    "def plot_motion(R,Z,time1,time2):\n",
    "    #設定變數time1,time2,範圍在震波資料開始到結束，分別取出ZR方向time1到time2的資料\n",
    "    if time1 and time2 in range(int((st1[0].stats.endtime-st1[0].stats.starttime)*st1[0].stats.sampling_rate)):\n",
    "        Z = Z[time1:time2]\n",
    "        R = R[time1:time2]\n",
    "    #將資料存陣列aa再存成txt檔\n",
    "    aa=np.vstack((R,Z)).T\n",
    "    np.savetxt(\"motion.txt\",aa,delimiter=\" \")\n",
    "    #寫出bat檔繪製雷利波的particle_motion的圖\n",
    "    with open(\"plot_particle_motion.bat\",\"w\") as fp:\n",
    "        Xmin = st2[1].data.min()\n",
    "        Xmax = st2[1].data.max()\n",
    "        X_space = int(( Xmax - Xmin )/5)\n",
    "        Ymin = st2[2].data.min()\n",
    "        Ymax = st2[2].data.max()\n",
    "        Y_space = int(( Ymax - Ymin )/5)\n",
    "        GMT = f\"psxy motion.txt -JX15/15 -R{Xmin}/{Xmax}/{Ymin}/{Ymax} -B{X_space}/{Y_space}WESn -W1 -V -P -Y7 -K > plot-U10710019motion.ps \\n\"\n",
    "        fp.write(GMT)\n",
    "        GMT = f\"echo {X_space*1.8}  {Y_space*2}  particle_motion > legend.txt \\n\"\n",
    "        fp.write(GMT)\n",
    "        GMT = f\"pstext legend.txt -JX -R -B -V -P  -O >> plot-U10710019motion.ps \\n\"\n",
    "        fp.write(GMT)\n",
    "\n",
    "        fp.write(\"psconvert plot-U10710019motion.ps \\n\")\n",
    "        fp.write(\"plot-U10710019motion.jpg\")\n",
    "    # 執行bat檔\n",
    "    os.system(\"plot_particle_motion.bat\")\n"
   ]
  }
 ],
 "metadata": {
  "kernelspec": {
   "display_name": "Python 3",
   "language": "python",
   "name": "python3"
  },
  "language_info": {
   "codemirror_mode": {
    "name": "ipython",
    "version": 3
   },
   "file_extension": ".py",
   "mimetype": "text/x-python",
   "name": "python",
   "nbconvert_exporter": "python",
   "pygments_lexer": "ipython3",
   "version": "3.7.3"
  }
 },
 "nbformat": 4,
 "nbformat_minor": 2
}
