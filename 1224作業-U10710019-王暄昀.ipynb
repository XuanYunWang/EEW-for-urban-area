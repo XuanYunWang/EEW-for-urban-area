{
 "cells": [
  {
   "cell_type": "code",
   "execution_count": 11,
   "metadata": {},
   "outputs": [
    {
     "name": "stdout",
     "output_type": "stream",
     "text": [
      "Current time:  2019-12-31T04:20:05.296037Z\n"
     ]
    },
    {
     "ename": "ConnectionRefusedError",
     "evalue": "[WinError 10061] 無法連線，因為目標電腦拒絕連線。",
     "output_type": "error",
     "traceback": [
      "\u001b[1;31m---------------------------------------------------------------------------\u001b[0m",
      "\u001b[1;31mConnectionRefusedError\u001b[0m                    Traceback (most recent call last)",
      "\u001b[1;32m<ipython-input-11-5403df18625f>\u001b[0m in \u001b[0;36m<module>\u001b[1;34m\u001b[0m\n\u001b[0;32m     19\u001b[0m     \u001b[0mnow_time\u001b[0m \u001b[1;33m=\u001b[0m \u001b[0mUTCDateTime\u001b[0m\u001b[1;33m(\u001b[0m\u001b[1;33m)\u001b[0m\u001b[1;33m\u001b[0m\u001b[1;33m\u001b[0m\u001b[0m\n\u001b[0;32m     20\u001b[0m     \u001b[0mprint\u001b[0m\u001b[1;33m(\u001b[0m\u001b[1;34m\"Current time: \"\u001b[0m\u001b[1;33m,\u001b[0m \u001b[0mnow_time\u001b[0m\u001b[1;33m)\u001b[0m\u001b[1;33m\u001b[0m\u001b[1;33m\u001b[0m\u001b[0m\n\u001b[1;32m---> 21\u001b[1;33m     \u001b[0mst\u001b[0m \u001b[1;33m=\u001b[0m \u001b[0mclient\u001b[0m\u001b[1;33m.\u001b[0m\u001b[0mget_waveforms\u001b[0m\u001b[1;33m(\u001b[0m\u001b[1;34m'TW'\u001b[0m\u001b[1;33m,\u001b[0m \u001b[1;34m'YULB'\u001b[0m\u001b[1;33m,\u001b[0m \u001b[1;34m'--'\u001b[0m\u001b[1;33m,\u001b[0m \u001b[1;34m'BHN'\u001b[0m\u001b[1;33m,\u001b[0m \u001b[0mst_time\u001b[0m \u001b[1;33m,\u001b[0m \u001b[0mst_time\u001b[0m\u001b[1;33m+\u001b[0m\u001b[0mdelta_t\u001b[0m\u001b[1;33m)\u001b[0m\u001b[1;33m\u001b[0m\u001b[1;33m\u001b[0m\u001b[0m\n\u001b[0m\u001b[0;32m     22\u001b[0m     \u001b[1;32mif\u001b[0m \u001b[0mlen\u001b[0m\u001b[1;33m(\u001b[0m\u001b[0mst\u001b[0m\u001b[1;33m)\u001b[0m\u001b[1;33m==\u001b[0m\u001b[1;36m0\u001b[0m\u001b[1;33m:\u001b[0m\u001b[1;33m\u001b[0m\u001b[1;33m\u001b[0m\u001b[0m\n\u001b[0;32m     23\u001b[0m         \u001b[0mprint\u001b[0m\u001b[1;33m(\u001b[0m\u001b[1;34m\"Error !!! No data available\"\u001b[0m\u001b[1;33m)\u001b[0m\u001b[1;33m\u001b[0m\u001b[1;33m\u001b[0m\u001b[0m\n",
      "\u001b[1;32mC:\\ProgramData\\Anaconda3\\lib\\site-packages\\obspy\\clients\\earthworm\\client.py\u001b[0m in \u001b[0;36mget_waveforms\u001b[1;34m(self, network, station, location, channel, starttime, endtime, cleanup)\u001b[0m\n\u001b[0;32m    111\u001b[0m         tbl = read_wave_server_v(self.host, self.port, scnl, starttime,\n\u001b[0;32m    112\u001b[0m                                  \u001b[0mendtime\u001b[0m\u001b[1;33m,\u001b[0m \u001b[0mtimeout\u001b[0m\u001b[1;33m=\u001b[0m\u001b[0mself\u001b[0m\u001b[1;33m.\u001b[0m\u001b[0mtimeout\u001b[0m\u001b[1;33m,\u001b[0m\u001b[1;33m\u001b[0m\u001b[1;33m\u001b[0m\u001b[0m\n\u001b[1;32m--> 113\u001b[1;33m                                  cleanup=cleanup)\n\u001b[0m\u001b[0;32m    114\u001b[0m         \u001b[1;31m# create new stream\u001b[0m\u001b[1;33m\u001b[0m\u001b[1;33m\u001b[0m\u001b[1;33m\u001b[0m\u001b[0m\n\u001b[0;32m    115\u001b[0m         \u001b[0mst\u001b[0m \u001b[1;33m=\u001b[0m \u001b[0mStream\u001b[0m\u001b[1;33m(\u001b[0m\u001b[1;33m)\u001b[0m\u001b[1;33m\u001b[0m\u001b[1;33m\u001b[0m\u001b[0m\n",
      "\u001b[1;32mC:\\ProgramData\\Anaconda3\\lib\\site-packages\\obspy\\clients\\earthworm\\waveserver.py\u001b[0m in \u001b[0;36mread_wave_server_v\u001b[1;34m(server, port, scnl, start, end, timeout, cleanup)\u001b[0m\n\u001b[0;32m    262\u001b[0m     \u001b[0mreqstr\u001b[0m \u001b[1;33m=\u001b[0m \u001b[1;34m'GETSCNLRAW: %s %s %f %f\\n'\u001b[0m \u001b[1;33m%\u001b[0m \u001b[1;33m(\u001b[0m\u001b[0mrid\u001b[0m\u001b[1;33m,\u001b[0m \u001b[0mscnlstr\u001b[0m\u001b[1;33m,\u001b[0m \u001b[0mstart\u001b[0m\u001b[1;33m,\u001b[0m \u001b[0mend\u001b[0m\u001b[1;33m)\u001b[0m\u001b[1;33m\u001b[0m\u001b[1;33m\u001b[0m\u001b[0m\n\u001b[0;32m    263\u001b[0m     sock = send_sock_req(server, port, reqstr.encode('ascii', 'strict'),\n\u001b[1;32m--> 264\u001b[1;33m                          timeout=timeout)\n\u001b[0m\u001b[0;32m    265\u001b[0m     \u001b[0mr\u001b[0m \u001b[1;33m=\u001b[0m \u001b[0mget_sock_char_line\u001b[0m\u001b[1;33m(\u001b[0m\u001b[0msock\u001b[0m\u001b[1;33m,\u001b[0m \u001b[0mtimeout\u001b[0m\u001b[1;33m=\u001b[0m\u001b[0mtimeout\u001b[0m\u001b[1;33m)\u001b[0m\u001b[1;33m\u001b[0m\u001b[1;33m\u001b[0m\u001b[0m\n\u001b[0;32m    266\u001b[0m     \u001b[1;32mif\u001b[0m \u001b[1;32mnot\u001b[0m \u001b[0mr\u001b[0m\u001b[1;33m:\u001b[0m\u001b[1;33m\u001b[0m\u001b[1;33m\u001b[0m\u001b[0m\n",
      "\u001b[1;32mC:\\ProgramData\\Anaconda3\\lib\\site-packages\\obspy\\clients\\earthworm\\waveserver.py\u001b[0m in \u001b[0;36msend_sock_req\u001b[1;34m(server, port, req_str, timeout)\u001b[0m\n\u001b[0;32m    137\u001b[0m     \u001b[0ms\u001b[0m \u001b[1;33m=\u001b[0m \u001b[0msocket\u001b[0m\u001b[1;33m.\u001b[0m\u001b[0msocket\u001b[0m\u001b[1;33m(\u001b[0m\u001b[0msocket\u001b[0m\u001b[1;33m.\u001b[0m\u001b[0mAF_INET\u001b[0m\u001b[1;33m,\u001b[0m \u001b[0msocket\u001b[0m\u001b[1;33m.\u001b[0m\u001b[0mSOCK_STREAM\u001b[0m\u001b[1;33m)\u001b[0m\u001b[1;33m\u001b[0m\u001b[1;33m\u001b[0m\u001b[0m\n\u001b[0;32m    138\u001b[0m     \u001b[0ms\u001b[0m\u001b[1;33m.\u001b[0m\u001b[0msettimeout\u001b[0m\u001b[1;33m(\u001b[0m\u001b[0mtimeout\u001b[0m\u001b[1;33m)\u001b[0m\u001b[1;33m\u001b[0m\u001b[1;33m\u001b[0m\u001b[0m\n\u001b[1;32m--> 139\u001b[1;33m     \u001b[0ms\u001b[0m\u001b[1;33m.\u001b[0m\u001b[0mconnect\u001b[0m\u001b[1;33m(\u001b[0m\u001b[1;33m(\u001b[0m\u001b[0mserver\u001b[0m\u001b[1;33m,\u001b[0m \u001b[0mport\u001b[0m\u001b[1;33m)\u001b[0m\u001b[1;33m)\u001b[0m\u001b[1;33m\u001b[0m\u001b[1;33m\u001b[0m\u001b[0m\n\u001b[0m\u001b[0;32m    140\u001b[0m \u001b[1;33m\u001b[0m\u001b[0m\n\u001b[0;32m    141\u001b[0m     \u001b[0mfull_req\u001b[0m \u001b[1;33m=\u001b[0m \u001b[0mreq_str\u001b[0m\u001b[1;33m\u001b[0m\u001b[1;33m\u001b[0m\u001b[0m\n",
      "\u001b[1;31mConnectionRefusedError\u001b[0m: [WinError 10061] 無法連線，因為目標電腦拒絕連線。"
     ]
    }
   ],
   "source": [
    "import time\n",
    "import datetime\n",
    "from obspy.signal.trigger import classic_sta_lta\n",
    "from obspy.core import read\n",
    "from obspy.signal.trigger import plot_trigger\n",
    "from obspy.clients.earthworm import Client\n",
    "from obspy.core import UTCDateTime\n",
    "from obspy.core.stream import Stream\n",
    "import numpy as np\n",
    "\n",
    "client = Client(\"127.0.0.1\", 16022)\n",
    "\n",
    "now_time = UTCDateTime()\n",
    "\n",
    "delta_t = 60\n",
    "delay_t = 300\n",
    "st_time = now_time-delay_t-delta_t\n",
    "while True:\n",
    "    now_time = UTCDateTime()\n",
    "    print(\"Current time: \", now_time)    \n",
    "    st = client.get_waveforms('TW', 'YULB', '--', 'BHN', st_time , st_time+delta_t)\n",
    "    if len(st)==0:\n",
    "        print(\"Error !!! No data available\")\n",
    "        print(\"Please check data availability.\")\n",
    "    trace = st[0]\n",
    "    trace.plot()\n",
    "    tmp = trace.copy()\n",
    "    tmp.filter(\"highpass\",freq=3.0)\n",
    "    df = trace.stats.sampling_rate\n",
    "    cft = classic_sta_lta(tmp.data, int(5 * df), int(20 * df))    \n",
    "    print(\"filtered maximum cft:\",cft.max())\n",
    "    \n",
    "    st1 = client.get_waveforms('TW', 'TWGB', '--', 'BHN', st_time , st_time+delta_t)\n",
    "    if len(st1)==0:\n",
    "        print(\"Error !!! No data available\")\n",
    "        print(\"Please check data availability.\")\n",
    "    trace1 = st1[0]\n",
    "    trace1.plot()\n",
    "    tmp1 = trace1.copy()\n",
    "    tmp1.filter(\"highpass\",freq=3.0)\n",
    "    df1 = trace1.stats.sampling_rate\n",
    "    cft1 = classic_sta_lta(tmp1.data, int(5 * df1), int(20 * df1))    \n",
    "    print(\"filtered maximum cft1:\",cft1.max())\n",
    "      \n",
    "    yr=trace.stats.starttime.date.year\n",
    "    mo=trace.stats.starttime.date.month\n",
    "    dy=trace.stats.starttime.date.day\n",
    "    hr=trace.stats.starttime.datetime.hour\n",
    "    mn=trace.stats.starttime.datetime.minute\n",
    "    se=trace.stats.starttime.datetime.second\n",
    "    \n",
    "    if max(cft)>3.5 and max(cft1)>3.5:\n",
    "        print(\"Earthquake occurred !!!\")\n",
    "        fname_eq = \"D:\\\\python\\\\_{}{:02d}{:02d}_{:02d}{:02d}{:02d}\".format(yr,mo,dy,hr,mn,se)+\".mseed\"\n",
    "        \n",
    "        trace.write(fname_eq,format=\"MSEED\")\n",
    "        \n",
    "        print(\"Writing file... {}\".format(fname_eq))\n",
    "\n",
    "    else:\n",
    "        fname_no_eq = \"D:\\\\python\\\\_{}{:02d}{:02d}_{:02d}{:02d}{:02d}\".format(yr,mo,dy,hr,mn,se)+\".mseed\"\n",
    "        fname_no_eq_png = \"D:\\\\python\\\\_{}{:02d}{:02d}_{:02d}{:02d}{:02d}\".format(yr,mo,dy,hr,mn,se)+\".png\"\n",
    "        trace.write(fname_no_eq,format=\"MSEED\")\n",
    "        trace.plot(outfile=fname_no_eq)\n",
    "        print(\"Writing file... {}\".format(fname_no_eq))\n",
    "        \n",
    "    st_time = st_time+delta_t    \n",
    "    \n",
    "    print(\"waiting {} seconds .......\".format(delta_t))\n",
    "    print(\"-\"*60)\n",
    "    for i in range(delta_t):\n",
    "        time.sleep(1)\n",
    "        print(\".{}.\".format(i+1))\n",
    "\n",
    "print(\"End of the program ....\") "
   ]
  },
  {
   "cell_type": "code",
   "execution_count": 8,
   "metadata": {},
   "outputs": [
    {
     "data": {
      "text/plain": [
       "1 Trace(s) in Stream:\n",
       ".EV0_6..EHZ | 1970-01-01T01:00:00.000000Z - 1970-01-01T01:00:59.995000Z | 200.0 Hz, 12000 samples"
      ]
     },
     "execution_count": 8,
     "metadata": {},
     "output_type": "execute_result"
    }
   ],
   "source": [
    "AA"
   ]
  },
  {
   "cell_type": "code",
   "execution_count": null,
   "metadata": {},
   "outputs": [],
   "source": []
  }
 ],
 "metadata": {
  "kernelspec": {
   "display_name": "Python 3",
   "language": "python",
   "name": "python3"
  },
  "language_info": {
   "codemirror_mode": {
    "name": "ipython",
    "version": 3
   },
   "file_extension": ".py",
   "mimetype": "text/x-python",
   "name": "python",
   "nbconvert_exporter": "python",
   "pygments_lexer": "ipython3",
   "version": "3.7.3"
  }
 },
 "nbformat": 4,
 "nbformat_minor": 2
}
