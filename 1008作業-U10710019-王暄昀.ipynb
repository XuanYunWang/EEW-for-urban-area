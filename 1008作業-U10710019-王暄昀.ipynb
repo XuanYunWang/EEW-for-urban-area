{
 "cells": [
  {
   "cell_type": "code",
   "execution_count": 2,
   "metadata": {
    "scrolled": false
   },
   "outputs": [],
   "source": [
    "fp = open(\"bookinfo_1.txt\",\"r\")\n",
    "a=fp.readline()\n",
    "b=fp.readline()\n",
    "c=fp.readline()\n",
    "fp.close()"
   ]
  },
  {
   "cell_type": "code",
   "execution_count": 3,
   "metadata": {},
   "outputs": [],
   "source": [
    "a=a.rstrip()\n",
    "name = a.split(\",\")\n",
    "b=b.rstrip()\n",
    "number = b.split(\",\")\n",
    "c=c.rstrip()\n",
    "price = c.split(\",\")"
   ]
  },
  {
   "cell_type": "code",
   "execution_count": 1,
   "metadata": {
    "scrolled": true
   },
   "outputs": [
    {
     "name": "stdout",
     "output_type": "stream",
     "text": [
      "----------------------------\n",
      "1. Input Data  :\n",
      "2. Show Data   :\n",
      "3. Delete Data :\n",
      "4. Inquiry Data:\n",
      "5. Quit.\n",
      "----------------------------\n",
      "Please select a choice:2\n",
      "----------------------------\n",
      "Your choice is 2. \n",
      "--顯示資料--\n"
     ]
    },
    {
     "ename": "NameError",
     "evalue": "name 'name' is not defined",
     "output_type": "error",
     "traceback": [
      "\u001b[1;31m---------------------------------------------------------------------------\u001b[0m",
      "\u001b[1;31mNameError\u001b[0m                                 Traceback (most recent call last)",
      "\u001b[1;32m<ipython-input-1-b2370b18daa4>\u001b[0m in \u001b[0;36m<module>\u001b[1;34m\u001b[0m\n\u001b[0;32m     20\u001b[0m     \u001b[1;32melif\u001b[0m \u001b[0mchoice\u001b[0m\u001b[1;33m==\u001b[0m\u001b[1;34m'2'\u001b[0m\u001b[1;33m:\u001b[0m\u001b[1;33m\u001b[0m\u001b[1;33m\u001b[0m\u001b[0m\n\u001b[0;32m     21\u001b[0m         \u001b[0mprint\u001b[0m\u001b[1;33m(\u001b[0m\u001b[1;34m\"--顯示資料--\"\u001b[0m\u001b[1;33m)\u001b[0m\u001b[1;33m\u001b[0m\u001b[1;33m\u001b[0m\u001b[0m\n\u001b[1;32m---> 22\u001b[1;33m         \u001b[1;32mfor\u001b[0m \u001b[0mindex\u001b[0m \u001b[1;32min\u001b[0m \u001b[0mrange\u001b[0m\u001b[1;33m(\u001b[0m\u001b[1;36m0\u001b[0m\u001b[1;33m,\u001b[0m\u001b[0mlen\u001b[0m\u001b[1;33m(\u001b[0m\u001b[0mname\u001b[0m\u001b[1;33m)\u001b[0m\u001b[1;33m)\u001b[0m\u001b[1;33m:\u001b[0m\u001b[1;33m\u001b[0m\u001b[1;33m\u001b[0m\u001b[0m\n\u001b[0m\u001b[0;32m     23\u001b[0m             \u001b[0mprint\u001b[0m\u001b[1;33m(\u001b[0m\u001b[1;34m\"No.%03d, 書名 :%10s, 編號 :%5s, 價錢 :%10s\"\u001b[0m\u001b[1;33m%\u001b[0m\u001b[1;33m(\u001b[0m\u001b[0mindex\u001b[0m\u001b[1;33m+\u001b[0m\u001b[1;36m1\u001b[0m\u001b[1;33m,\u001b[0m\u001b[0mname\u001b[0m\u001b[1;33m[\u001b[0m\u001b[0mindex\u001b[0m\u001b[1;33m]\u001b[0m\u001b[1;33m,\u001b[0m\u001b[0mnumber\u001b[0m\u001b[1;33m[\u001b[0m\u001b[0mindex\u001b[0m\u001b[1;33m]\u001b[0m\u001b[1;33m,\u001b[0m\u001b[0mprice\u001b[0m\u001b[1;33m[\u001b[0m\u001b[0mindex\u001b[0m\u001b[1;33m]\u001b[0m\u001b[1;33m)\u001b[0m\u001b[1;33m)\u001b[0m\u001b[1;33m\u001b[0m\u001b[1;33m\u001b[0m\u001b[0m\n\u001b[0;32m     24\u001b[0m     \u001b[1;32melif\u001b[0m \u001b[0mchoice\u001b[0m\u001b[1;33m==\u001b[0m\u001b[1;34m'3'\u001b[0m\u001b[1;33m:\u001b[0m\u001b[1;33m\u001b[0m\u001b[1;33m\u001b[0m\u001b[0m\n",
      "\u001b[1;31mNameError\u001b[0m: name 'name' is not defined"
     ]
    }
   ],
   "source": [
    "User_input = \"Y\"\n",
    "\n",
    "\n",
    "while (User_input==\"Y\" or User_input==\"y\"):\n",
    "    print(\"----------------------------\")\n",
    "    print(\"1. Input Data  :\")\n",
    "    print(\"2. Show Data   :\")\n",
    "    print(\"3. Delete Data :\")\n",
    "    print(\"4. Inquiry Data:\")\n",
    "    print(\"5. Quit.\")\n",
    "    print(\"----------------------------\")\n",
    "    choice = input(\"Please select a choice:\")\n",
    "    print(\"----------------------------\")\n",
    "    print(\"Your choice is {}. \".format(choice))\n",
    "    if choice=='1':\n",
    "        print(\"--新增資料--\")\n",
    "        name.append(input(\"請輸入書名 : \"))\n",
    "        number.append(input(\"請輸入編號 : \"))\n",
    "        price.append( int(input(\"請輸入價錢 : \")) )\n",
    "    elif choice=='2':\n",
    "        print(\"--顯示資料--\")\n",
    "        for index in range(0,len(name)):\n",
    "            print(\"No.%03d, 書名 :%10s, 編號 :%5s, 價錢 :%10s\"%(index+1,name[index],number[index],price[index]))\n",
    "    elif choice=='3':\n",
    "        print(\"--刪除資料--\")\n",
    "        r_name=input(\"請輸入想要刪除的書名 : \")\n",
    "        if r_name in name:\n",
    "            pos=name.index(r_name)\n",
    "            name.remove(name[pos])\n",
    "            price.remove(price[pos])\n",
    "            number.remove(number[pos])\n",
    "    elif choice=='4':\n",
    "        print(\"---------------\")\n",
    "        print(\"1.利用書名查詢\")\n",
    "        print(\"2.利用編號查詢\")\n",
    "        print(\"---------------\")\n",
    "        choice = input(\"Please select a choice:\")\n",
    "        print(\"---------------\")\n",
    "        print(\"Your choice is {}. \".format(choice))\n",
    "        if choice=='1':\n",
    "            in_name=input(\"請輸入書名 : \")\n",
    "            if in_name in name:\n",
    "                pos=name.index(in_name)\n",
    "                print(\"No.%03d, 書名 :%10s, 編號 :%5s, 價錢 :%10d\"%(pos+1,name[pos],number[pos],price[pos]))\n",
    "            if not in_name in name:\n",
    "                print(\"----------------------------\")\n",
    "                print(\"很抱歉查無此書!請重新輸入\")\n",
    "        elif choice=='2':\n",
    "            in_number=input(\"請輸入編號 : \")\n",
    "            if in_number in number:\n",
    "                pos=number.index(in_number)\n",
    "                print(\"No.%03d, 書名 :%10s, 編號 :%5s, 價錢 :%10d\"%(pos+1,name[pos],number[pos],price[pos]))\n",
    "            if not in_number in number:\n",
    "                print(\"----------------------------\")\n",
    "                print(\"很抱歉查無此書!請重新輸入\")\n",
    "        \n",
    "    elif choice=='5':        \n",
    "        User_input = \"N\"\n",
    "        print(\"程式結束 !\")"
   ]
  },
  {
   "cell_type": "code",
   "execution_count": 5,
   "metadata": {},
   "outputs": [],
   "source": [
    "fp = open(\"bookinfo_2.txt\",\"w\")\n",
    "for i in range(3):\n",
    "    if i ==2:\n",
    "        fp.write(name[i]+\"\\n\")\n",
    "    else:\n",
    "        fp.write(name[i]+\",\")\n",
    "for i in range(3):\n",
    "    if i ==2:\n",
    "        fp.write(number[i]+\"\\n\")\n",
    "    else:\n",
    "        fp.write(number[i]+\",\")\n",
    "for i in range(3):\n",
    "    if i ==2:\n",
    "        fp.write(price[i])\n",
    "    else:\n",
    "        fp.write(price[i]+\",\")\n",
    "fp.close()"
   ]
  },
  {
   "cell_type": "code",
   "execution_count": 6,
   "metadata": {},
   "outputs": [],
   "source": [
    "def function_sum(price):\n",
    "    ans=0\n",
    "    for i in price:\n",
    "        ans=int(ans)+int(i)\n",
    "        \n",
    "    return ans"
   ]
  },
  {
   "cell_type": "code",
   "execution_count": 7,
   "metadata": {},
   "outputs": [
    {
     "data": {
      "text/plain": [
       "6540"
      ]
     },
     "execution_count": 7,
     "metadata": {},
     "output_type": "execute_result"
    }
   ],
   "source": [
    "function_sum(price)"
   ]
  },
  {
   "cell_type": "code",
   "execution_count": 8,
   "metadata": {},
   "outputs": [
    {
     "data": {
      "image/png": "[encoded data removed]",
      "text/plain": [
       "<Figure size 432x288 with 1 Axes>"
      ]
     },
     "metadata": {
      "needs_background": "light"
     },
     "output_type": "display_data"
    }
   ],
   "source": [
    "%matplotlib inline\n",
    "import matplotlib.pyplot as plt\n",
    "\n",
    "price = [1280,5000,260]\n",
    "name = [\"Math\",\"Physics\",\"Computer\"]\n",
    "\n",
    "plt.bar(name,price,width=0.5, color=\"lightskyblue\")\n",
    "\n",
    "plt.show()\n"
   ]
  },
  {
   "cell_type": "code",
   "execution_count": null,
   "metadata": {},
   "outputs": [],
   "source": []
  }
 ],
 "metadata": {
  "kernelspec": {
   "display_name": "Python 3",
   "language": "python",
   "name": "python3"
  },
  "language_info": {
   "codemirror_mode": {
    "name": "ipython",
    "version": 3
   },
   "file_extension": ".py",
   "mimetype": "text/x-python",
   "name": "python",
   "nbconvert_exporter": "python",
   "pygments_lexer": "ipython3",
   "version": "3.7.6"
  }
 },
 "nbformat": 4,
 "nbformat_minor": 2
}
