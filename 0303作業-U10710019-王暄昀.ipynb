{
 "cells": [
  {
   "cell_type": "code",
   "execution_count": 32,
   "metadata": {},
   "outputs": [],
   "source": [
    "#Subject:0303作業一\n",
    "#Author:王暄昀\n",
    "#Date:2020/03/07\n",
    "#Description:計算文章中每個出現單字的頻率並排序"
   ]
  },
  {
   "cell_type": "code",
   "execution_count": 33,
   "metadata": {},
   "outputs": [],
   "source": [
    "#輸入Data\n",
    "a=\"This book is an introduction to seismology, the study of elastic waves or sound waves in the solid earth. Conceptually, the subject is simple. Seismic waves are generated at a source, which can be natural, such as an earthquake, or artificial, such as an explosion. The resulting waves propagate through the medium, some portion of the earth, and are recorded at a receiver (Fig. 1.1-1). A seismogram, the record of the motion of the ground at a receiver called a seismometer, thus contains information about both the source and the medium. This information can take several forms. The waves provide information on the location and nature of the source that generated them. If the origin time when the waves left the source is known, their arrival time at the receiver gives the travel time required to pass through the medium, and hence information about the speed at which they traveled, and thus the physical properties of the medium. In addition, because the amplitude and shape of the wave pulses that left the source are affected by propagation through the medium, the signals observed on seismograms provide additional information about the medium.\"\n",
    "#轉成小寫\n",
    "aa=a.lower()"
   ]
  },
  {
   "cell_type": "code",
   "execution_count": 34,
   "metadata": {},
   "outputs": [],
   "source": [
    "#以空格隔開資料\n",
    "aa_list = aa.split()\n",
    "#去掉,和.\n",
    "for item in aa.split():\n",
    "    if item[-1]==',' or item[-1]=='.':\n",
    "        aa_list.remove(item)\n",
    "        aa_list.append(item[0:-1])\n",
    "\n"
   ]
  },
  {
   "cell_type": "code",
   "execution_count": 35,
   "metadata": {},
   "outputs": [],
   "source": [
    "#去掉重複的字\n",
    "aa_set = set(aa_list)"
   ]
  },
  {
   "cell_type": "code",
   "execution_count": 36,
   "metadata": {},
   "outputs": [],
   "source": [
    "#利用串列生成式寫出aa1，表示字與字的數量\n",
    "aa1=[(aa_list.count(i),i) for i in aa_set]"
   ]
  },
  {
   "cell_type": "code",
   "execution_count": 38,
   "metadata": {},
   "outputs": [],
   "source": [
    "#按照字的數量由多到少排列(True為降序)\n",
    "aa2=sorted(aa1, reverse=True)"
   ]
  },
  {
   "cell_type": "code",
   "execution_count": 40,
   "metadata": {},
   "outputs": [
    {
     "name": "stdout",
     "output_type": "stream",
     "text": [
      "[(29, 'the'), (7, 'of'), (6, 'waves'), (6, 'medium'), (6, 'and'), (5, 'source'), (5, 'information'), (5, 'at'), (5, 'a'), (3, 'time'), (3, 'through'), (3, 'receiver'), (3, 'is'), (3, 'are'), (3, 'an'), (3, 'about'), (2, 'which'), (2, 'to'), (2, 'thus'), (2, 'this'), (2, 'that'), (2, 'such'), (2, 'provide'), (2, 'or'), (2, 'on'), (2, 'left'), (2, 'in'), (2, 'generated'), (2, 'earth'), (2, 'can'), (2, 'as'), (1, 'when'), (1, 'wave'), (1, 'traveled'), (1, 'travel'), (1, 'they'), (1, 'them'), (1, 'their'), (1, 'take'), (1, 'subject'), (1, 'study'), (1, 'speed'), (1, 'sound'), (1, 'some'), (1, 'solid'), (1, 'simple'), (1, 'signals'), (1, 'shape'), (1, 'several'), (1, 'seismometer'), (1, 'seismology'), (1, 'seismograms'), (1, 'seismogram'), (1, 'seismic'), (1, 'resulting'), (1, 'required'), (1, 'recorded'), (1, 'record'), (1, 'pulses'), (1, 'properties'), (1, 'propagation'), (1, 'propagate'), (1, 'portion'), (1, 'physical'), (1, 'pass'), (1, 'origin'), (1, 'observed'), (1, 'nature'), (1, 'natural'), (1, 'motion'), (1, 'location'), (1, 'known'), (1, 'introduction'), (1, 'if'), (1, 'hence'), (1, 'ground'), (1, 'gives'), (1, 'forms'), (1, 'explosion'), (1, 'elastic'), (1, 'earthquake'), (1, 'contains'), (1, 'conceptually'), (1, 'called'), (1, 'by'), (1, 'both'), (1, 'book'), (1, 'because'), (1, 'be'), (1, 'artificial'), (1, 'arrival'), (1, 'amplitude'), (1, 'affected'), (1, 'additional'), (1, 'addition'), (1, '1.1-1)'), (1, '(fig')]\n"
     ]
    }
   ],
   "source": [
    "print(aa2)"
   ]
  }
 ],
 "metadata": {
  "kernelspec": {
   "display_name": "Python 3",
   "language": "python",
   "name": "python3"
  },
  "language_info": {
   "codemirror_mode": {
    "name": "ipython",
    "version": 3
   },
   "file_extension": ".py",
   "mimetype": "text/x-python",
   "name": "python",
   "nbconvert_exporter": "python",
   "pygments_lexer": "ipython3",
   "version": "3.7.3"
  }
 },
 "nbformat": 4,
 "nbformat_minor": 2
}
