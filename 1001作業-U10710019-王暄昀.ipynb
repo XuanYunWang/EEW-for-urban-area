{
 "cells": [
  {
   "cell_type": "code",
   "execution_count": 2,
   "metadata": {},
   "outputs": [
    {
     "name": "stdout",
     "output_type": "stream",
     "text": [
      "----------------------------\n",
      "1. Input Data  :\n",
      "2. Show Data   :\n",
      "3. Delete Data :\n",
      "4. Inquiry Data:\n",
      "5. Quit.\n",
      "----------------------------\n",
      "Please select a choice:2\n",
      "----------------------------\n",
      "Your choice is 2. \n",
      "--顯示資料--\n",
      "No.001, 書名 :      Math, 編號 :      1001, 價錢 :      1280\n",
      "No.002, 書名 :   Physics, 編號 :      1002, 價錢 :      5000\n",
      "No.003, 書名 : Chemistry, 編號 :      1003, 價錢 :       570\n",
      "----------------------------\n",
      "1. Input Data  :\n",
      "2. Show Data   :\n",
      "3. Delete Data :\n",
      "4. Inquiry Data:\n",
      "5. Quit.\n",
      "----------------------------\n",
      "Please select a choice:5\n",
      "----------------------------\n",
      "Your choice is 5. \n",
      "程式結束 !\n"
     ]
    }
   ],
   "source": [
    "User_input = \"Y\"\n",
    "\n",
    "name=[\"Math\",\"Physics\",\"Chemistry\"]\n",
    "number=[\"1001\",\"1002\",\"1003\"]\n",
    "price=[1280,5000,570]\n",
    "\n",
    "while (User_input==\"Y\" or User_input==\"y\"):\n",
    "    print(\"----------------------------\")\n",
    "    print(\"1. Input Data  :\")\n",
    "    print(\"2. Show Data   :\")\n",
    "    print(\"3. Delete Data :\")\n",
    "    print(\"4. Inquiry Data:\")\n",
    "    print(\"5. Quit.\")\n",
    "    print(\"----------------------------\")\n",
    "    choice = input(\"Please select a choice:\")\n",
    "    print(\"----------------------------\")\n",
    "    print(\"Your choice is {}. \".format(choice))\n",
    "    if choice=='1':\n",
    "        print(\"--新增資料--\")\n",
    "        name.append(input(\"請輸入書名 : \"))\n",
    "        number.append(input(\"請輸入編號 : \"))\n",
    "        price.append( int(input(\"請輸入價錢 : \")) )\n",
    "    elif choice=='2':\n",
    "        print(\"--顯示資料--\")\n",
    "        for index in range(0,len(name)):\n",
    "            print(\"No.%03d, 書名 :%10s, 編號 :%10s, 價錢 :%10d\"%(index+1,name[index],number[index],price[index]))\n",
    "    elif choice=='3':\n",
    "        print(\"--刪除資料--\")\n",
    "        r_name=input(\"請輸入想要刪除的書名 : \")\n",
    "        if r_name in name:\n",
    "            pos=name.index(r_name)\n",
    "            name.remove(name[pos])\n",
    "            price.remove(price[pos])\n",
    "            number.remove(number[pos])\n",
    "    elif choice=='4':\n",
    "        print(\"---------------\")\n",
    "        print(\"1.利用書名查詢\")\n",
    "        print(\"2.利用編號查詢\")\n",
    "        print(\"---------------\")\n",
    "        choice = input(\"Please select a choice:\")\n",
    "        print(\"---------------\")\n",
    "        print(\"Your choice is {}. \".format(choice))\n",
    "            if not in_numb%03d, 書名 :%10s, 編號 :%10s, 價錢 :%10d\"%(pos+1,name[pos],number[pos],price[pos]))\n",
    "        if choice=='1':\n",
    "            in_name=input(\"請輸入書名 : \")\n",
    "            if in_name in name:\n",
    "                pos=name.index(in_name)\n",
    "                print(\"No.%03d, 書名 :%10s, 編號 :%10s, 價錢 :%10d\"%(pos+1,name[pos],number[pos],price[pos]))\n",
    "            if not in_name in name:\n",
    "                print(\"----------------------------\")\n",
    "                print(\"很抱歉查無此書!請重新輸入\")\n",
    "        elif choice=='2':\n",
    "            in_number=input(\"請輸入編號 : \")\n",
    "            if in_number in number:\n",
    "                pos=number.index(in_number)\n",
    "                print(\"No.%03d, 書名 :%10s, 編號 :%5s, 價錢 :%10d\"%(pos+1,name[pos],number[pos],price[pos]))\n",
    "            if not in_number in number:\n",
    "                print(\"----------------------------\")\n",
    "                print(\"很抱歉查無此書!請重新輸入\")\n",
    "        \n",
    "    elif choice=='5':        \n",
    "        User_input = \"N\"\n",
    "        print(\"程式結束 !\")"
   ]
  },
  {
   "cell_type": "code",
   "execution_count": null,
   "metadata": {},
   "outputs": [],
   "source": []
  },
  {
   "cell_type": "code",
   "execution_count": null,
   "metadata": {},
   "outputs": [],
   "source": []
  },
  {
   "cell_type": "code",
   "execution_count": null,
   "metadata": {},
   "outputs": [],
   "source": []
  }
 ],
 "metadata": {
  "kernelspec": {
   "display_name": "Python 3",
   "language": "python",
   "name": "python3"
  },
  "language_info": {
   "codemirror_mode": {
    "name": "ipython",
    "version": 3
   },
   "file_extension": ".py",
   "mimetype": "text/x-python",
   "name": "python",
   "nbconvert_exporter": "python",
   "pygments_lexer": "ipython3",
   "version": "3.7.6"
  }
 },
 "nbformat": 4,
 "nbformat_minor": 2
}
