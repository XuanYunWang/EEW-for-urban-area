{
 "cells": [
  {
   "cell_type": "code",
   "execution_count": 1,
   "metadata": {},
   "outputs": [],
   "source": [
    "from obspy import read, read_inventory\n",
    "import numpy as np\n",
    "import os"
   ]
  },
  {
   "cell_type": "code",
   "execution_count": 2,
   "metadata": {},
   "outputs": [],
   "source": [
    "st1=read(\"2018-02-06-mww64-taiwan-2.miniseed\")"
   ]
  },
  {
   "cell_type": "code",
   "execution_count": 13,
   "metadata": {},
   "outputs": [
    {
     "data": {
      "text/plain": [
       "array([   9365.,    3857.,   -1900., ...,  131551.,  131012.,  130240.])"
      ]
     },
     "execution_count": 13,
     "metadata": {},
     "output_type": "execute_result"
    }
   ],
   "source": [
    "st1[0].data[3000*4:3000*(4+1)]*1.0"
   ]
  },
  {
   "cell_type": "code",
   "execution_count": 11,
   "metadata": {},
   "outputs": [
    {
     "data": {
      "text/plain": [
       "array([ 466,  509,  549, ..., 3095, 3504, 3653])"
      ]
     },
     "execution_count": 11,
     "metadata": {},
     "output_type": "execute_result"
    }
   ],
   "source": [
    "st1[0].data"
   ]
  },
  {
   "cell_type": "code",
   "execution_count": 3,
   "metadata": {},
   "outputs": [
    {
     "data": {
      "text/plain": [
       "37384"
      ]
     },
     "execution_count": 3,
     "metadata": {},
     "output_type": "execute_result"
    }
   ],
   "source": [
    "len(st1[2])"
   ]
  },
  {
   "cell_type": "code",
   "execution_count": 4,
   "metadata": {},
   "outputs": [
    {
     "data": {
      "text/plain": [
       "37564"
      ]
     },
     "execution_count": 4,
     "metadata": {},
     "output_type": "execute_result"
    }
   ],
   "source": [
    "len(st1[0].data)"
   ]
  },
  {
   "cell_type": "code",
   "execution_count": 5,
   "metadata": {},
   "outputs": [
    {
     "data": {
      "text/plain": [
       "37564"
      ]
     },
     "execution_count": 5,
     "metadata": {},
     "output_type": "execute_result"
    }
   ],
   "source": [
    "len(st1[0])"
   ]
  },
  {
   "cell_type": "code",
   "execution_count": 16,
   "metadata": {},
   "outputs": [
    {
     "data": {
      "text/plain": [
       "37573"
      ]
     },
     "execution_count": 16,
     "metadata": {},
     "output_type": "execute_result"
    }
   ],
   "source": [
    "len(st1[1])"
   ]
  },
  {
   "cell_type": "code",
   "execution_count": 14,
   "metadata": {},
   "outputs": [
    {
     "name": "stdout",
     "output_type": "stream",
     "text": [
      "D:\\python\\0602\\PhaseNet-master\\mydata\\dd0.npz\n",
      "D:\\python\\0602\\PhaseNet-master\\mydata\\dd1.npz\n",
      "D:\\python\\0602\\PhaseNet-master\\mydata\\dd2.npz\n",
      "D:\\python\\0602\\PhaseNet-master\\mydata\\dd3.npz\n",
      "D:\\python\\0602\\PhaseNet-master\\mydata\\dd4.npz\n",
      "D:\\python\\0602\\PhaseNet-master\\mydata\\dd5.npz\n",
      "D:\\python\\0602\\PhaseNet-master\\mydata\\dd6.npz\n",
      "D:\\python\\0602\\PhaseNet-master\\mydata\\dd7.npz\n",
      "D:\\python\\0602\\PhaseNet-master\\mydata\\dd8.npz\n",
      "D:\\python\\0602\\PhaseNet-master\\mydata\\dd9.npz\n",
      "D:\\python\\0602\\PhaseNet-master\\mydata\\dd10.npz\n",
      "D:\\python\\0602\\PhaseNet-master\\mydata\\dd11.npz\n"
     ]
    }
   ],
   "source": [
    "with open(r\"D:\\python\\0602\\PhaseNet-master\\mydata\\fname.csv\", 'w') as fp:\n",
    "    fp.write(\"fname\\n\")\n",
    "    for i in range(12):\n",
    "        dd1=st1[0].data[3000*i:3000*(i+1)]*1.0\n",
    "        dd2=st1[1].data[3000*i:3000*(i+1)]*1.0\n",
    "        dd3=st1[2].data[3000*i:3000*(i+1)]*1.0\n",
    "        dd=np.vstack((dd1,dd2,dd3)).T\n",
    "        ffname = f\"D:\\\\python\\\\0602\\\\PhaseNet-master\\\\mydata\\\\dd{i}.npz\"\n",
    "        np.savez(ffname, data=dd)\n",
    "        print(ffname)\n",
    "        ffname = f\"dd{i}.npz\\n\"\n",
    "        fp.write(ffname)\n"
   ]
  },
  {
   "cell_type": "code",
   "execution_count": null,
   "metadata": {},
   "outputs": [],
   "source": []
  },
  {
   "cell_type": "code",
   "execution_count": null,
   "metadata": {},
   "outputs": [],
   "source": [
    "python run.py --mode=pred --model_dir=model/190703-214543 --data_dir=mydata --data_list=mydata/fname.csv --output_dir=output --plot_figure --save_result --batch_size=20"
   ]
  },
  {
   "cell_type": "code",
   "execution_count": null,
   "metadata": {},
   "outputs": [],
   "source": [
    "python run.py --mode=pred --model_dir=model/190703-214543 --data_dir=dataset/waveform_train --data_list=dataset/waveform.csv --output_dir=output1 --plot_figure --save_result --batch_size=20"
   ]
  },
  {
   "cell_type": "code",
   "execution_count": null,
   "metadata": {},
   "outputs": [],
   "source": [
    "InvalidArchiveError(\"Error with archive C:\\\\Users\\\\暄昀\\\\.conda\\\\pkgs\\\\obspy-1.2.2-py36hbd37c6d_0.tar.bz2.  You probably need to delete and re-download or re-create this file.  Message from libarchive was:\\n\\nFailed to open 'C:\\\\Users\\\\暄昀\\\\.conda\\\\pkgs\\\\obspy-1.2.2-py36hbd37c6d_0.tar.bz2'\")"
   ]
  }
 ],
 "metadata": {
  "kernelspec": {
   "display_name": "Python 3",
   "language": "python",
   "name": "python3"
  },
  "language_info": {
   "codemirror_mode": {
    "name": "ipython",
    "version": 3
   },
   "file_extension": ".py",
   "mimetype": "text/x-python",
   "name": "python",
   "nbconvert_exporter": "python",
   "pygments_lexer": "ipython3",
   "version": "3.7.6"
  }
 },
 "nbformat": 4,
 "nbformat_minor": 4
}
