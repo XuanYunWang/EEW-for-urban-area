{
 "cells": [
  {
   "cell_type": "code",
   "execution_count": 2,
   "metadata": {},
   "outputs": [
    {
     "name": "stderr",
     "output_type": "stream",
     "text": [
      "Using TensorFlow backend.\n"
     ]
    }
   ],
   "source": [
    "import numpy as np\n",
    "import pandas as pd\n",
    "import matplotlib.pyplot as plt\n",
    "from PIL import Image\n",
    "import random\n",
    "\n",
    "from keras.utils import np_utils #comment\n",
    "from keras.models import Sequential\n",
    "from keras.layers import Dense\n",
    "from keras.layers import Dropout\n",
    "from keras.models import load_model"
   ]
  },
  {
   "cell_type": "code",
   "execution_count": 15,
   "metadata": {},
   "outputs": [],
   "source": [
    "def show_train_history(train_history,train,validation):\n",
    "    plt.plot(train_history.history[train])\n",
    "    plt.plot(train_history.history[validation])\n",
    "    plt.title('Train History')\n",
    "    plt.xlabel('Epoch')\n",
    "    plt.ylabel(train)\n",
    "    plt.legend(['train','validation'],loc='upper left')\n",
    "    plt.show()\n",
    "    \n",
    "def plot_images_labels_prediction(images,labels,prediction,idx,num=10):\n",
    "    fig=plt.gcf()\n",
    "    fig.set_size_inches(12,14)\n",
    "    if num>25: num=25\n",
    "    for i in range(0, num):\n",
    "        ax=plt.subplot(5,5,1+i)\n",
    "        ax.imshow(images[idx], cmap='binary')\n",
    "        title=\"label=\"+str(labels[idx])\n",
    "        if len(prediction)>0:\n",
    "            title+=\",predict=\"+str(prediction[idx])\n",
    "               \n",
    "        ax.set_title(title,fontsize=10)\n",
    "        ax.set_xticks([]);ax.set_yticks([])\n",
    "        idx+=1\n",
    "    plt.show()"
   ]
  },
  {
   "cell_type": "code",
   "execution_count": 16,
   "metadata": {},
   "outputs": [
    {
     "name": "stdout",
     "output_type": "stream",
     "text": [
      "(20, 784)\n",
      "(20,)\n",
      "(28, 28, 20)\n",
      "(28, 28, 20)\n"
     ]
    }
   ],
   "source": [
    "import os\n",
    "res = os.walk(r\"D:\\python\\1210\\19\")\n",
    "flist=[]\n",
    "for i, j, k in res:\n",
    "    for g in k:\n",
    "        tmp = i+\"\\\\\"+g\n",
    "        flist.append(tmp)\n",
    "        \n",
    "\n",
    "flag=0\n",
    "for i in flist:\n",
    "    lbl = int(i[-5])\n",
    "    frame = Image.open(i)\n",
    "    new_frame=frame.resize((28,28) )    \n",
    "    bb = np.asarray(new_frame)\n",
    "\n",
    "    ffmax = bb.max()\n",
    "    bb_new = bb.copy()\n",
    "    for j in range(28):\n",
    "        for i in range(28):\n",
    "            if bb[i,j]==ffmax:\n",
    "                bb_new[i,j]=0\n",
    "            else:\n",
    "                bb_new[i,j]=255    \n",
    "    \n",
    "    \n",
    "    \n",
    "    \n",
    "    \n",
    "    aa = bb_new.reshape(784)\n",
    "    \n",
    "    if flag==0:\n",
    "        my_test_ftr = aa\n",
    "        my_test_lbl = [lbl] \n",
    "        my_test_image = bb_new\n",
    "        flag+=1\n",
    "    else:\n",
    "        my_test_ftr = np.vstack((my_test_ftr,aa))\n",
    "        my_test_lbl.append(lbl)\n",
    "        my_test_image = np.dstack((my_test_image,bb_new))\n",
    "        flag+=1\n",
    "        \n",
    "        if flag==5:\n",
    "            kk=bb_new\n",
    "        \n",
    "my_test_lbl = np.array(my_test_lbl)   \n",
    "print(my_test_ftr.shape)\n",
    "print(my_test_lbl.shape)\n",
    "print(my_test_image.shape)\n",
    "n = len(my_test_lbl)\n",
    "n1= my_test_image.shape[0]\n",
    "n2= my_test_image.shape[1]\n",
    "n3= my_test_image.shape[2]\n",
    "tt=np.zeros((n3,n2,n1))\n",
    "for i in range(n3):\n",
    "    tt[i,:,:] = my_test_image[:,:,i]\n",
    "print(my_test_image.shape)"
   ]
  },
  {
   "cell_type": "code",
   "execution_count": 17,
   "metadata": {},
   "outputs": [
    {
     "data": {
      "image/png": "[encoded data removed]",
      "text/plain": [
       "<Figure size 432x288 with 1 Axes>"
      ]
     },
     "metadata": {
      "needs_background": "light"
     },
     "output_type": "display_data"
    }
   ],
   "source": [
    "ax=plt.subplot(1,1,1)\n",
    "ax.imshow(tt[0], cmap='binary')\n",
    "plt.show()"
   ]
  },
  {
   "cell_type": "code",
   "execution_count": 18,
   "metadata": {},
   "outputs": [
    {
     "name": "stdout",
     "output_type": "stream",
     "text": [
      "255\n",
      "(20, 784)\n",
      "(20, 10)\n"
     ]
    }
   ],
   "source": [
    "mm=my_test_ftr.max()\n",
    "print(mm)\n",
    "my_test_ftr_n = my_test_ftr / mm\n",
    "my_test_lbl_o = np_utils.to_categorical(my_test_lbl, num_classes=10)\n",
    "\n",
    "print(my_test_ftr_n.shape)\n",
    "print(my_test_lbl_o.shape)"
   ]
  },
  {
   "cell_type": "code",
   "execution_count": 19,
   "metadata": {},
   "outputs": [
    {
     "name": "stdout",
     "output_type": "stream",
     "text": [
      "Total number:  20 trainning number:  0\n",
      "content:  [0, 1, 2, 3, 4, 5, 6, 7, 8, 9, 10, 11, 12, 13, 14, 15, 16, 17, 18, 19]  --- length =  20\n"
     ]
    }
   ],
   "source": [
    "nn = len(my_test_lbl)\n",
    "train_num = int(nn * 0.0) \n",
    "print(\"Total number: \", nn, \"trainning number: \", train_num)\n",
    "content = list(range(0,nn))\n",
    "print(\"content: \", content, \" --- length = \", len(content))\n",
    "ind_train = random.sample(content,train_num)\n",
    "ind_test  = list(set(content)-set(ind_train))\n"
   ]
  },
  {
   "cell_type": "code",
   "execution_count": 36,
   "metadata": {},
   "outputs": [],
   "source": [
    "model_w = load_model(\"model_from_web.h5\")\n",
    "model_t = load_model(\"model_from_teacher.h5\")\n"
   ]
  },
  {
   "cell_type": "code",
   "execution_count": 41,
   "metadata": {},
   "outputs": [
    {
     "name": "stdout",
     "output_type": "stream",
     "text": [
      "20/20 [==============================] - 0s 1ms/step\n",
      "\n",
      "accuracy =  0.75\n"
     ]
    }
   ],
   "source": [
    "scores = model_w.evaluate(my_test_ftr_n[ind_test], my_test_lbl_o[ind_test])\n",
    "print()\n",
    "print('accuracy = ', scores[1])\n",
    "prediction = model_w.predict_classes(my_test_ftr[ind_test])"
   ]
  },
  {
   "cell_type": "code",
   "execution_count": 38,
   "metadata": {},
   "outputs": [
    {
     "data": {
      "image/png": "[encoded data removed]",
      "text/plain": [
       "<Figure size 864x1008 with 20 Axes>"
      ]
     },
     "metadata": {},
     "output_type": "display_data"
    }
   ],
   "source": [
    "plot_images_labels_prediction(tt,prediction,[],0,20)"
   ]
  },
  {
   "cell_type": "code",
   "execution_count": 39,
   "metadata": {},
   "outputs": [
    {
     "data": {
      "text/html": [
       "<div>\n",
       "<style scoped>\n",
       "    .dataframe tbody tr th:only-of-type {\n",
       "        vertical-align: middle;\n",
       "    }\n",
       "\n",
       "    .dataframe tbody tr th {\n",
       "        vertical-align: top;\n",
       "    }\n",
       "\n",
       "    .dataframe thead th {\n",
       "        text-align: right;\n",
       "    }\n",
       "</style>\n",
       "<table border=\"1\" class=\"dataframe\">\n",
       "  <thead>\n",
       "    <tr style=\"text-align: right;\">\n",
       "      <th>predict</th>\n",
       "      <th>0</th>\n",
       "      <th>1</th>\n",
       "      <th>2</th>\n",
       "      <th>3</th>\n",
       "      <th>4</th>\n",
       "      <th>5</th>\n",
       "      <th>6</th>\n",
       "      <th>7</th>\n",
       "      <th>8</th>\n",
       "      <th>9</th>\n",
       "    </tr>\n",
       "    <tr>\n",
       "      <th>label</th>\n",
       "      <th></th>\n",
       "      <th></th>\n",
       "      <th></th>\n",
       "      <th></th>\n",
       "      <th></th>\n",
       "      <th></th>\n",
       "      <th></th>\n",
       "      <th></th>\n",
       "      <th></th>\n",
       "      <th></th>\n",
       "    </tr>\n",
       "  </thead>\n",
       "  <tbody>\n",
       "    <tr>\n",
       "      <th>0</th>\n",
       "      <td>2</td>\n",
       "      <td>0</td>\n",
       "      <td>0</td>\n",
       "      <td>0</td>\n",
       "      <td>0</td>\n",
       "      <td>0</td>\n",
       "      <td>0</td>\n",
       "      <td>0</td>\n",
       "      <td>0</td>\n",
       "      <td>0</td>\n",
       "    </tr>\n",
       "    <tr>\n",
       "      <th>1</th>\n",
       "      <td>0</td>\n",
       "      <td>1</td>\n",
       "      <td>0</td>\n",
       "      <td>0</td>\n",
       "      <td>0</td>\n",
       "      <td>0</td>\n",
       "      <td>1</td>\n",
       "      <td>0</td>\n",
       "      <td>0</td>\n",
       "      <td>0</td>\n",
       "    </tr>\n",
       "    <tr>\n",
       "      <th>2</th>\n",
       "      <td>0</td>\n",
       "      <td>0</td>\n",
       "      <td>2</td>\n",
       "      <td>0</td>\n",
       "      <td>0</td>\n",
       "      <td>0</td>\n",
       "      <td>0</td>\n",
       "      <td>0</td>\n",
       "      <td>0</td>\n",
       "      <td>0</td>\n",
       "    </tr>\n",
       "    <tr>\n",
       "      <th>3</th>\n",
       "      <td>0</td>\n",
       "      <td>0</td>\n",
       "      <td>0</td>\n",
       "      <td>2</td>\n",
       "      <td>0</td>\n",
       "      <td>0</td>\n",
       "      <td>0</td>\n",
       "      <td>0</td>\n",
       "      <td>0</td>\n",
       "      <td>0</td>\n",
       "    </tr>\n",
       "    <tr>\n",
       "      <th>4</th>\n",
       "      <td>0</td>\n",
       "      <td>0</td>\n",
       "      <td>0</td>\n",
       "      <td>0</td>\n",
       "      <td>2</td>\n",
       "      <td>0</td>\n",
       "      <td>0</td>\n",
       "      <td>0</td>\n",
       "      <td>0</td>\n",
       "      <td>0</td>\n",
       "    </tr>\n",
       "    <tr>\n",
       "      <th>5</th>\n",
       "      <td>0</td>\n",
       "      <td>0</td>\n",
       "      <td>0</td>\n",
       "      <td>0</td>\n",
       "      <td>0</td>\n",
       "      <td>2</td>\n",
       "      <td>0</td>\n",
       "      <td>0</td>\n",
       "      <td>0</td>\n",
       "      <td>0</td>\n",
       "    </tr>\n",
       "    <tr>\n",
       "      <th>6</th>\n",
       "      <td>0</td>\n",
       "      <td>0</td>\n",
       "      <td>0</td>\n",
       "      <td>0</td>\n",
       "      <td>0</td>\n",
       "      <td>0</td>\n",
       "      <td>2</td>\n",
       "      <td>0</td>\n",
       "      <td>0</td>\n",
       "      <td>0</td>\n",
       "    </tr>\n",
       "    <tr>\n",
       "      <th>7</th>\n",
       "      <td>0</td>\n",
       "      <td>1</td>\n",
       "      <td>0</td>\n",
       "      <td>0</td>\n",
       "      <td>0</td>\n",
       "      <td>0</td>\n",
       "      <td>0</td>\n",
       "      <td>1</td>\n",
       "      <td>0</td>\n",
       "      <td>0</td>\n",
       "    </tr>\n",
       "    <tr>\n",
       "      <th>8</th>\n",
       "      <td>0</td>\n",
       "      <td>0</td>\n",
       "      <td>0</td>\n",
       "      <td>1</td>\n",
       "      <td>0</td>\n",
       "      <td>0</td>\n",
       "      <td>0</td>\n",
       "      <td>0</td>\n",
       "      <td>1</td>\n",
       "      <td>0</td>\n",
       "    </tr>\n",
       "    <tr>\n",
       "      <th>9</th>\n",
       "      <td>0</td>\n",
       "      <td>0</td>\n",
       "      <td>0</td>\n",
       "      <td>0</td>\n",
       "      <td>1</td>\n",
       "      <td>0</td>\n",
       "      <td>0</td>\n",
       "      <td>0</td>\n",
       "      <td>0</td>\n",
       "      <td>1</td>\n",
       "    </tr>\n",
       "  </tbody>\n",
       "</table>\n",
       "</div>"
      ],
      "text/plain": [
       "predict  0  1  2  3  4  5  6  7  8  9\n",
       "label                                \n",
       "0        2  0  0  0  0  0  0  0  0  0\n",
       "1        0  1  0  0  0  0  1  0  0  0\n",
       "2        0  0  2  0  0  0  0  0  0  0\n",
       "3        0  0  0  2  0  0  0  0  0  0\n",
       "4        0  0  0  0  2  0  0  0  0  0\n",
       "5        0  0  0  0  0  2  0  0  0  0\n",
       "6        0  0  0  0  0  0  2  0  0  0\n",
       "7        0  1  0  0  0  0  0  1  0  0\n",
       "8        0  0  0  1  0  0  0  0  1  0\n",
       "9        0  0  0  0  1  0  0  0  0  1"
      ]
     },
     "execution_count": 39,
     "metadata": {},
     "output_type": "execute_result"
    }
   ],
   "source": [
    "pd.crosstab(my_test_lbl[ind_test], prediction,rownames=['label'],colnames=['predict'])"
   ]
  },
  {
   "cell_type": "code",
   "execution_count": 40,
   "metadata": {},
   "outputs": [
    {
     "name": "stdout",
     "output_type": "stream",
     "text": [
      "20/20 [==============================] - 0s 17ms/step\n",
      "\n",
      "accuracy =  0.20000000298023224\n"
     ]
    }
   ],
   "source": [
    "scores = model_t.evaluate(my_test_ftr_n[ind_test], my_test_lbl_o[ind_test])\n",
    "print()\n",
    "print('accuracy = ', scores[1])\n",
    "prediction = model_t.predict_classes(my_test_ftr[ind_test])"
   ]
  },
  {
   "cell_type": "code",
   "execution_count": null,
   "metadata": {},
   "outputs": [],
   "source": []
  }
 ],
 "metadata": {
  "kernelspec": {
   "display_name": "Python 3",
   "language": "python",
   "name": "python3"
  },
  "language_info": {
   "codemirror_mode": {
    "name": "ipython",
    "version": 3
   },
   "file_extension": ".py",
   "mimetype": "text/x-python",
   "name": "python",
   "nbconvert_exporter": "python",
   "pygments_lexer": "ipython3",
   "version": "3.7.3"
  }
 },
 "nbformat": 4,
 "nbformat_minor": 2
}
