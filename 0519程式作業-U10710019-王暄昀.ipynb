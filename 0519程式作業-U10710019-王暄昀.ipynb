{
 "cells": [
  {
   "cell_type": "code",
   "execution_count": 1,
   "metadata": {},
   "outputs": [],
   "source": [
    "from obspy import read, read_inventory\n",
    "import numpy as np\n",
    "import os\n",
    "import matplotlib.pyplot as plt\n",
    "from yun_function import yun_f1 as yf1\n",
    "from yun_function import yun_f2 as yf2"
   ]
  },
  {
   "cell_type": "code",
   "execution_count": 2,
   "metadata": {},
   "outputs": [
    {
     "data": {
      "text/plain": [
       "(143.1299448275344, 46.13798192093574, 155.86559831313457)"
      ]
     },
     "execution_count": 2,
     "metadata": {},
     "output_type": "execute_result"
    }
   ],
   "source": [
    "# 輸入地震及測站的經緯到函式\n",
    "latE = -60.37\n",
    "lonE = 46.58\n",
    "latS = 29.33\n",
    "lonS = -103.67\n",
    "yf1.d_a_baz_cal(latE,lonE,latS,lonS)"
   ]
  },
  {
   "cell_type": "code",
   "execution_count": 3,
   "metadata": {},
   "outputs": [
    {
     "name": "stderr",
     "output_type": "stream",
     "text": [
      "C:\\ProgramData\\Anaconda3\\lib\\site-packages\\obspy\\io\\stationxml\\core.py:84: UserWarning: The StationXML file has version 1.1, ObsPy can deal with version 1.0. Proceed with caution.\n",
      "  root.attrib[\"schemaVersion\"], SCHEMA_VERSION))\n",
      "C:\\ProgramData\\Anaconda3\\lib\\site-packages\\obspy\\signal\\headers.py:93: FutureWarning: Passing (type, 1) or '1type' as a synonym of type is deprecated; in a future version of numpy, it will be understood as (type, (1,)) / '(1,)type'.\n",
      "  ], align=True)\n"
     ]
    }
   ],
   "source": [
    "# 將地震、測站資料及Back_Azimuth輸入函式\n",
    "st1,st2 = yf1.NE_to_RT(\"2013-11-17-mw78-scotia-sea.miniseed\",\"fdsn-station_2020-04-21T04_26_12.xml\",155.86559831313457)\n"
   ]
  },
  {
   "cell_type": "code",
   "execution_count": 4,
   "metadata": {},
   "outputs": [
    {
     "name": "stdout",
     "output_type": "stream",
     "text": [
      "Write East-West data ... Genterating E.txt ...\n",
      "Write North-South data ... Genterating  N.txt ...\n",
      "Write Vertical data ... Genterating Z.txt ...\n",
      "Write Transverse data ... Genterating T.txt ...\n",
      "Write Radial data ... Genterating R.txt ...\n",
      "Write Vertical data ... Genterating Z.txt ...\n"
     ]
    }
   ],
   "source": [
    "# 輸入測站資料到函式，寫出txt檔\n",
    "yf2.write_waveform(st1)\n",
    "yf2.write_waveform(st2)"
   ]
  },
  {
   "cell_type": "code",
   "execution_count": 5,
   "metadata": {},
   "outputs": [],
   "source": [
    "#從txt檔中取資料\n",
    "E=np.genfromtxt(\"E.txt\",delimiter=\" \",dtype=[(\"x\",np.float64),(\"E\",np.float64)])\n",
    "N=np.genfromtxt(\"N.txt\",delimiter=\" \",dtype=[(\"x\",np.float64),(\"N\",np.float64)])\n",
    "Z=np.genfromtxt(\"Z.txt\",delimiter=\" \",dtype=[(\"x\",np.float64),(\"Z\",np.float64)])\n",
    "T=np.genfromtxt(\"T.txt\",delimiter=\" \",dtype=[(\"x\",np.float64),(\"T\",np.float64)])\n",
    "R=np.genfromtxt(\"R.txt\",delimiter=\" \",dtype=[(\"x\",np.float64),(\"R\",np.float64)])\n"
   ]
  },
  {
   "cell_type": "code",
   "execution_count": 6,
   "metadata": {},
   "outputs": [],
   "source": [
    "# 寫出bat檔繪製ZNE的地震波圖(打開bat檔依序寫入ZNE方向的地震波)\n",
    "with open(\"plot.bat\",\"w\") as fp:\n",
    "    \n",
    "    Xmin = Z[:][\"x\"].min()\n",
    "    Xmax = Z[:][\"x\"].max()\n",
    "    X_space = ( Xmax - Xmin )/5\n",
    "    Y_size = 5    \n",
    "    \n",
    "    Ymin = Z[:][\"Z\"].min()\n",
    "    Ymax = Z[:][\"Z\"].max()\n",
    "    Y_space = int(( Ymax - Ymin )/5)\n",
    "    GMT = f\"psxy Z.txt -JX25/{Y_size} -R{Xmin}/{Xmax}/{Ymin}/{Ymax} -B{X_space}/{Y_space}WESn -W1 -V -K > plotZNE-U10710019.ps \\n\"\n",
    "    fp.write(GMT)\n",
    "    GMT = f\"echo {X_space*0.5}  {Y_space*1.8}  Z > legend-ZNE.txt \\n\"\n",
    "    fp.write(GMT)\n",
    "    GMT = f\"pstext legend-ZNE.txt -JX -R -B -V -K -O >> plotZNE-U10710019.ps \\n\"\n",
    "    fp.write(GMT)\n",
    "  \n",
    "    Ymin = N[:][\"N\"].min()\n",
    "    Ymax = N[:][\"N\"].max()\n",
    "    Y_space = int(( Ymax - Ymin )/5)\n",
    "    GMT = f\"psxy N.txt -JX25/{Y_size} -R{Xmin}/{Xmax}/{Ymin}/{Ymax} -B{X_space}/{Y_space}WEsn -W1 -V -Y{Y_size+0.5} -K -O >> plotZNE-U10710019.ps \\n\"\n",
    "    fp.write(GMT)\n",
    "    GMT = f\"echo {X_space*0.5}  {Y_space*1.8} N > legend-ZNE.txt \\n\"\n",
    "    fp.write(GMT)\n",
    "    GMT = f\"pstext legend-ZNE.txt -JX -R -B -V -K -O >> plotZNE-U10710019.ps \\n\"\n",
    "    fp.write(GMT)\n",
    "    \n",
    "    Ymin = E[:][\"E\"].min()\n",
    "    Ymax = E[:][\"E\"].max()    \n",
    "    Y_space = int(( Ymax - Ymin )/5)\n",
    "    GMT = f\"psxy E.txt -JX25/{Y_size} -R{Xmin}/{Xmax}/{Ymin}/{Ymax} -B{X_space}/{Y_space}WEsn -W1 -V -Y{Y_size+0.5} -K -O >> plotZNE-U10710019.ps \\n\"\n",
    "    fp.write(GMT)\n",
    "    GMT = f\"echo {X_space*0.5}  {Y_space*1.8}  E > legend.txt \\n\"\n",
    "    fp.write(GMT)\n",
    "    GMT = f\"pstext legend.txt -JX -R -B -V -O >> plotZNE-U10710019.ps \\n\"\n",
    "    fp.write(GMT)\n",
    "    \n",
    "    fp.write(\"psconvert plotZNE-U10710019.ps \\n\")\n",
    "    fp.write(\"plotZNE-U10710019.jpg\")\n"
   ]
  },
  {
   "cell_type": "code",
   "execution_count": 7,
   "metadata": {},
   "outputs": [],
   "source": [
    "# 寫出bat檔繪製ZNE的地震波圖(打開bat檔依序寫入ZNE方向的地震波)\n",
    "with open(\"plot.bat\",\"w\") as fp:\n",
    "    \n",
    "    Xmin = Z[:][\"x\"].min()\n",
    "    Xmax = Z[:][\"x\"].max()\n",
    "    X_space = ( Xmax - Xmin )/5\n",
    "    Y_size = 5    \n",
    "    \n",
    "    Ymin = Z[:][\"Z\"].min()\n",
    "    Ymax = Z[:][\"Z\"].max()\n",
    "    Y_space = int(( Ymax - Ymin )/5)\n",
    "    GMT = f\"psxy Z.txt -JX25/{Y_size} -R{Xmin}/{Xmax}/{Ymin}/{Ymax} -B{X_space}/{Y_space}WESn -W1 -V -K > plotZNE-U10710019.ps \\n\"\n",
    "    fp.write(GMT)\n",
    "    GMT = f\"echo {X_space*0.5}  {Y_space*1.8}  Z > legend-ZNE.txt \\n\"\n",
    "    fp.write(GMT)\n",
    "    GMT = f\"pstext legend-ZNE.txt -JX -R -B -V -K -O >> plotZNE-U10710019.ps \\n\"\n",
    "    fp.write(GMT)\n",
    "  \n",
    "    Ymin = N[:][\"N\"].min()\n",
    "    Ymax = N[:][\"N\"].max()\n",
    "    Y_space = int(( Ymax - Ymin )/5)\n",
    "    GMT = f\"psxy N.txt -JX25/{Y_size} -R{Xmin}/{Xmax}/{Ymin}/{Ymax} -B{X_space}/{Y_space}WEsn -W1 -V -Y{Y_size+0.5} -K -O >> plotZNE-U10710019.ps \\n\"\n",
    "    fp.write(GMT)\n",
    "    GMT = f\"echo {X_space*0.5}  {Y_space*1.8} N > legend-ZNE.txt \\n\"\n",
    "    fp.write(GMT)\n",
    "    GMT = f\"pstext legend-ZNE.txt -JX -R -B -V -K -O >> plotZNE-U10710019.ps \\n\"\n",
    "    fp.write(GMT)\n",
    "    \n",
    "    Ymin = E[:][\"E\"].min()\n",
    "    Ymax = E[:][\"E\"].max()    \n",
    "    Y_space = int(( Ymax - Ymin )/5)\n",
    "    GMT = f\"psxy E.txt -JX25/{Y_size} -R{Xmin}/{Xmax}/{Ymin}/{Ymax} -B{X_space}/{Y_space}WEsn -W1 -V -Y{Y_size+0.5} -K -O >> plotZNE-U10710019.ps \\n\"\n",
    "    fp.write(GMT)\n",
    "    GMT = f\"echo {X_space*0.5}  {Y_space*1.8}  E > legend.txt \\n\"\n",
    "    fp.write(GMT)\n",
    "    GMT = f\"pstext legend.txt -JX -R -B -V -O >> plotZNE-U10710019.ps \\n\"\n",
    "    fp.write(GMT)\n",
    "    \n",
    "    fp.write(\"psconvert plotZNE-U10710019.ps \\n\")\n",
    "    fp.write(\"plotZNE-U10710019.jpg\")\n"
   ]
  },
  {
   "cell_type": "code",
   "execution_count": 8,
   "metadata": {},
   "outputs": [
    {
     "data": {
      "text/plain": [
       "0"
      ]
     },
     "execution_count": 8,
     "metadata": {},
     "output_type": "execute_result"
    }
   ],
   "source": [
    "# 執行bat檔\n",
    "os.system(\"plot.bat\")\n",
    "os.system(\"plot_surface_wave.bat\")"
   ]
  },
  {
   "cell_type": "code",
   "execution_count": 9,
   "metadata": {},
   "outputs": [
    {
     "data": {
      "text/plain": [
       "IM.TX32..BHZ | 2013-11-17T09:17:46.024900Z - 2013-11-17T10:48:45.999900Z | 40.0 Hz, 218400 samples"
      ]
     },
     "execution_count": 9,
     "metadata": {},
     "output_type": "execute_result"
    }
   ],
   "source": [
    "st2[2]"
   ]
  },
  {
   "cell_type": "code",
   "execution_count": 10,
   "metadata": {},
   "outputs": [
    {
     "data": {
      "text/plain": [
       "-149553.59169846305"
      ]
     },
     "execution_count": 10,
     "metadata": {},
     "output_type": "execute_result"
    }
   ],
   "source": [
    "R[:][\"R\"].min()"
   ]
  },
  {
   "cell_type": "code",
   "execution_count": 11,
   "metadata": {
    "scrolled": true
   },
   "outputs": [
    {
     "ename": "IndexError",
     "evalue": "only integers, slices (`:`), ellipsis (`...`), numpy.newaxis (`None`) and integer or boolean arrays are valid indices",
     "output_type": "error",
     "traceback": [
      "\u001b[1;31m---------------------------------------------------------------------------\u001b[0m",
      "\u001b[1;31mIndexError\u001b[0m                                Traceback (most recent call last)",
      "\u001b[1;32m<ipython-input-11-ae74e176db69>\u001b[0m in \u001b[0;36m<module>\u001b[1;34m\u001b[0m\n\u001b[0;32m      1\u001b[0m \u001b[1;31m# 將雷利波RZ方向的資料輸入函式\u001b[0m\u001b[1;33m\u001b[0m\u001b[1;33m\u001b[0m\u001b[1;33m\u001b[0m\u001b[0m\n\u001b[1;32m----> 2\u001b[1;33m \u001b[0myf2\u001b[0m\u001b[1;33m.\u001b[0m\u001b[0mplot_motion\u001b[0m\u001b[1;33m(\u001b[0m\u001b[0mst2\u001b[0m\u001b[1;33m[\u001b[0m\u001b[1;36m1\u001b[0m\u001b[1;33m]\u001b[0m\u001b[1;33m.\u001b[0m\u001b[0mdata\u001b[0m\u001b[1;33m,\u001b[0m\u001b[0mst2\u001b[0m\u001b[1;33m[\u001b[0m\u001b[1;36m2\u001b[0m\u001b[1;33m]\u001b[0m\u001b[1;33m.\u001b[0m\u001b[0mdata\u001b[0m\u001b[1;33m,\u001b[0m\u001b[1;36m100000\u001b[0m\u001b[1;33m,\u001b[0m\u001b[1;36m110000\u001b[0m\u001b[1;33m)\u001b[0m\u001b[1;33m\u001b[0m\u001b[1;33m\u001b[0m\u001b[0m\n\u001b[0m",
      "\u001b[1;32mD:\\python\\0519\\程式\\yun_function\\yun_f2.py\u001b[0m in \u001b[0;36mplot_motion\u001b[1;34m(R, Z, time1, time2)\u001b[0m\n\u001b[0;32m     45\u001b[0m     \u001b[1;31m#寫出bat檔繪製雷利波的particle_motion的圖\u001b[0m\u001b[1;33m\u001b[0m\u001b[1;33m\u001b[0m\u001b[1;33m\u001b[0m\u001b[0m\n\u001b[0;32m     46\u001b[0m     \u001b[1;32mwith\u001b[0m \u001b[0mopen\u001b[0m\u001b[1;33m(\u001b[0m\u001b[1;34m\"plot_particle_motion.bat\"\u001b[0m\u001b[1;33m,\u001b[0m\u001b[1;34m\"w\"\u001b[0m\u001b[1;33m)\u001b[0m \u001b[1;32mas\u001b[0m \u001b[0mfp\u001b[0m\u001b[1;33m:\u001b[0m\u001b[1;33m\u001b[0m\u001b[1;33m\u001b[0m\u001b[0m\n\u001b[1;32m---> 47\u001b[1;33m         \u001b[0mXmin\u001b[0m \u001b[1;33m=\u001b[0m \u001b[0mint\u001b[0m\u001b[1;33m(\u001b[0m\u001b[0mR\u001b[0m\u001b[1;33m[\u001b[0m\u001b[1;33m:\u001b[0m\u001b[1;33m]\u001b[0m\u001b[1;33m[\u001b[0m\u001b[1;34m\"Z\"\u001b[0m\u001b[1;33m]\u001b[0m\u001b[1;33m.\u001b[0m\u001b[0mmin\u001b[0m\u001b[1;33m(\u001b[0m\u001b[1;33m)\u001b[0m\u001b[1;33m)\u001b[0m\u001b[1;33m\u001b[0m\u001b[1;33m\u001b[0m\u001b[0m\n\u001b[0m\u001b[0;32m     48\u001b[0m         \u001b[0mXmax\u001b[0m \u001b[1;33m=\u001b[0m \u001b[0mint\u001b[0m\u001b[1;33m(\u001b[0m\u001b[0mR\u001b[0m\u001b[1;33m[\u001b[0m\u001b[1;33m:\u001b[0m\u001b[1;33m]\u001b[0m\u001b[1;33m[\u001b[0m\u001b[1;34m\"Z\"\u001b[0m\u001b[1;33m]\u001b[0m\u001b[1;33m.\u001b[0m\u001b[0mmax\u001b[0m\u001b[1;33m(\u001b[0m\u001b[1;33m)\u001b[0m\u001b[1;33m)\u001b[0m\u001b[1;33m\u001b[0m\u001b[1;33m\u001b[0m\u001b[0m\n\u001b[0;32m     49\u001b[0m         \u001b[0mX_space\u001b[0m \u001b[1;33m=\u001b[0m \u001b[0mint\u001b[0m\u001b[1;33m(\u001b[0m\u001b[1;33m(\u001b[0m \u001b[0mXmax\u001b[0m \u001b[1;33m-\u001b[0m \u001b[0mXmin\u001b[0m \u001b[1;33m)\u001b[0m\u001b[1;33m/\u001b[0m\u001b[1;36m5\u001b[0m\u001b[1;33m)\u001b[0m\u001b[1;33m\u001b[0m\u001b[1;33m\u001b[0m\u001b[0m\n",
      "\u001b[1;31mIndexError\u001b[0m: only integers, slices (`:`), ellipsis (`...`), numpy.newaxis (`None`) and integer or boolean arrays are valid indices"
     ]
    }
   ],
   "source": [
    "# 將雷利波RZ方向的資料輸入函式\n",
    "yf2.plot_motion(st2[1].data,st2[2].data,100000,110000)\n"
   ]
  },
  {
   "cell_type": "code",
   "execution_count": 12,
   "metadata": {},
   "outputs": [
    {
     "data": {
      "text/plain": [
       "0.0"
      ]
     },
     "execution_count": 12,
     "metadata": {},
     "output_type": "execute_result"
    }
   ],
   "source": [
    "Xmin"
   ]
  },
  {
   "cell_type": "code",
   "execution_count": null,
   "metadata": {},
   "outputs": [],
   "source": []
  }
 ],
 "metadata": {
  "kernelspec": {
   "display_name": "Python 3",
   "language": "python",
   "name": "python3"
  },
  "language_info": {
   "codemirror_mode": {
    "name": "ipython",
    "version": 3
   },
   "file_extension": ".py",
   "mimetype": "text/x-python",
   "name": "python",
   "nbconvert_exporter": "python",
   "pygments_lexer": "ipython3",
   "version": "3.7.6"
  }
 },
 "nbformat": 4,
 "nbformat_minor": 2
}
