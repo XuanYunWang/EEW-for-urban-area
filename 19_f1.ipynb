{
 "cells": [
  {
   "cell_type": "code",
   "execution_count": 1,
   "metadata": {},
   "outputs": [],
   "source": [
    "def d_a_baz_cal(latE,lonE,latS,lonS):\n",
    "    colatE = 90-(latE)\n",
    "    colatS = 90-(latS)\n",
    "    X = np.cos(colatE*np.pi/180)*np.cos(colatS*np.pi/180)+np.sin(colatE*np.pi/180)*np.sin(colatS*np.pi/180)*np.cos((lonS-lonE)*np.pi/180)\n",
    "    Delta = np.arccos(X) * 180/np.pi\n",
    "    \n",
    "    YY = np.sin(colatS*np.pi/180)*np.sin((lonS-lonE)*np.pi/180)\n",
    "    XX = np.cos(colatS*np.pi/180)*np.sin(colatE*np.pi/180)-np.sin(colatS*np.pi/180)*np.cos(colatE*np.pi/180)*np.cos((lonS-lonE)*np.pi/180)\n",
    "    Azimuth = np.arctan(YY/XX) * 180 / np.pi\n",
    "    \n",
    "    YY = np.sin(colatE*np.pi/180)*np.sin((lonE-lonS)*np.pi/180)\n",
    "    XX = np.cos(colatE*np.pi/180)*np.sin(colatS*np.pi/180)-np.sin(colatE*np.pi/180)*np.cos(colatS*np.pi/180)*np.cos((lonE-lonS)*np.pi/180)\n",
    "    Back_Azimuth = np.arctan(YY/XX) * 180 / np.pi + 180\n",
    "    \n",
    "    return Delta,Azimuth,Back_Azimuth\n"
   ]
  },
  {
   "cell_type": "code",
   "execution_count": 2,
   "metadata": {},
   "outputs": [],
   "source": [
    "def NE_to_RT(E,S,baz):\n",
    "    st2 = read(E,format=\"MSEED\")\n",
    "    st1 = st2.copy()\n",
    "    inv = read_inventory(S)\n",
    "    st2.rotate(method=\"NE->RT\", inventory=inv, back_azimuth=baz)\n",
    "    return st1,st2\n"
   ]
  }
 ],
 "metadata": {
  "kernelspec": {
   "display_name": "Python 3",
   "language": "python",
   "name": "python3"
  },
  "language_info": {
   "codemirror_mode": {
    "name": "ipython",
    "version": 3
   },
   "file_extension": ".py",
   "mimetype": "text/x-python",
   "name": "python",
   "nbconvert_exporter": "python",
   "pygments_lexer": "ipython3",
   "version": "3.7.3"
  }
 },
 "nbformat": 4,
 "nbformat_minor": 2
}
